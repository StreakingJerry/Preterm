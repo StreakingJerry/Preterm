{
 "cells": [
  {
   "cell_type": "code",
   "execution_count": 1,
   "metadata": {},
   "outputs": [],
   "source": [
    "import pandas as pd\n",
    "import numpy as np"
   ]
  },
  {
   "cell_type": "code",
   "execution_count": 2,
   "metadata": {},
   "outputs": [
    {
     "data": {
      "text/plain": [
       "2"
      ]
     },
     "execution_count": 2,
     "metadata": {},
     "output_type": "execute_result"
    }
   ],
   "source": [
    "# This is a scalar\n",
    "a = 2\n",
    "a"
   ]
  },
  {
   "cell_type": "code",
   "execution_count": 15,
   "metadata": {},
   "outputs": [
    {
     "data": {
      "text/plain": [
       "(1, 3)"
      ]
     },
     "metadata": {},
     "output_type": "display_data"
    },
    {
     "data": {
      "text/plain": [
       "array([[1, 2, 5]])"
      ]
     },
     "metadata": {},
     "output_type": "display_data"
    }
   ],
   "source": [
    "# This is a row vector\n",
    "# It is important to do the double brakets\n",
    "b = np.array([[1,2,5]])\n",
    "display(b.shape,b)\n"
   ]
  },
  {
   "cell_type": "code",
   "execution_count": 12,
   "metadata": {},
   "outputs": [
    {
     "data": {
      "text/plain": [
       "(3, 1)"
      ]
     },
     "metadata": {},
     "output_type": "display_data"
    },
    {
     "data": {
      "text/plain": [
       "array([[1],\n",
       "       [2],\n",
       "       [5]])"
      ]
     },
     "metadata": {},
     "output_type": "display_data"
    }
   ],
   "source": [
    "# This is a column vector\n",
    "c = np.array([[1],[2],[5]])\n",
    "display(c.shape,c)\n"
   ]
  },
  {
   "cell_type": "code",
   "execution_count": 6,
   "metadata": {},
   "outputs": [
    {
     "data": {
      "text/plain": [
       "(3,)"
      ]
     },
     "metadata": {},
     "output_type": "display_data"
    },
    {
     "data": {
      "text/plain": [
       "array([1, 2, 5])"
      ]
     },
     "metadata": {},
     "output_type": "display_data"
    }
   ],
   "source": [
    "# It is important to note that b and c are 2-dimensional arrays in NumPy.\n",
    "# If you want to create one-dimensional arrays, do this\n",
    "b1 = np.array([1,2,5])\n",
    "display(b1.shape,b1)\n"
   ]
  },
  {
   "cell_type": "code",
   "execution_count": 7,
   "metadata": {},
   "outputs": [
    {
     "data": {
      "text/plain": [
       "(1, 3)"
      ]
     },
     "metadata": {},
     "output_type": "display_data"
    },
    {
     "data": {
      "text/plain": [
       "array([[1, 2, 5]])"
      ]
     },
     "metadata": {},
     "output_type": "display_data"
    },
    {
     "data": {
      "text/plain": [
       "(3, 1)"
      ]
     },
     "metadata": {},
     "output_type": "display_data"
    },
    {
     "data": {
      "text/plain": [
       "array([[1],\n",
       "       [2],\n",
       "       [5]])"
      ]
     },
     "metadata": {},
     "output_type": "display_data"
    }
   ],
   "source": [
    "# You can convert 1-dimensional array to column vector or row vector\n",
    "# using reshape\n",
    "b2 = b1.reshape([1,3])\n",
    "display(b2.shape,b2)\n",
    "c2 = b1.reshape([3,1])\n",
    "display(c2.shape,c2)\n"
   ]
  },
  {
   "cell_type": "code",
   "execution_count": 8,
   "metadata": {},
   "outputs": [
    {
     "data": {
      "text/plain": [
       "(3,)"
      ]
     },
     "metadata": {},
     "output_type": "display_data"
    },
    {
     "data": {
      "text/plain": [
       "array([1, 2, 5])"
      ]
     },
     "metadata": {},
     "output_type": "display_data"
    },
    {
     "data": {
      "text/plain": [
       "(3,)"
      ]
     },
     "metadata": {},
     "output_type": "display_data"
    },
    {
     "data": {
      "text/plain": [
       "array([1, 2, 5])"
      ]
     },
     "metadata": {},
     "output_type": "display_data"
    }
   ],
   "source": [
    "# You can also convert column or row vector to 1-dimensional array\n",
    "b3 = b2.flatten()\n",
    "display(b3.shape,b3)\n",
    "c3 = c2.flatten()\n",
    "display(c3.shape,c3)"
   ]
  },
  {
   "cell_type": "code",
   "execution_count": 9,
   "metadata": {},
   "outputs": [
    {
     "data": {
      "text/plain": [
       "(3, 4)"
      ]
     },
     "metadata": {},
     "output_type": "display_data"
    },
    {
     "data": {
      "text/plain": [
       "array([[ 1,  2,  5, -1],\n",
       "       [ 2,  0,  4,  6],\n",
       "       [ 3,  5,  2,  1]])"
      ]
     },
     "metadata": {},
     "output_type": "display_data"
    }
   ],
   "source": [
    "# This is a 3x4 matrix\n",
    "A = np.array([[1,2,5,-1],[2,0,4,6],[3,5,2,1]])\n",
    "display(A.shape,A)\n"
   ]
  },
  {
   "cell_type": "code",
   "execution_count": 16,
   "metadata": {},
   "outputs": [
    {
     "data": {
      "text/plain": [
       "(3, 1)"
      ]
     },
     "metadata": {},
     "output_type": "display_data"
    },
    {
     "data": {
      "text/plain": [
       "array([[1],\n",
       "       [2],\n",
       "       [5]])"
      ]
     },
     "metadata": {},
     "output_type": "display_data"
    }
   ],
   "source": [
    "c = b.T\n",
    "display(c.shape,c)\n"
   ]
  },
  {
   "cell_type": "code",
   "execution_count": 32,
   "metadata": {},
   "outputs": [
    {
     "data": {
      "text/plain": [
       "(4, 3)"
      ]
     },
     "metadata": {},
     "output_type": "display_data"
    },
    {
     "data": {
      "text/plain": [
       "array([[ 1,  2,  3],\n",
       "       [ 2,  0,  5],\n",
       "       [ 5,  4,  2],\n",
       "       [-1,  6,  1]])"
      ]
     },
     "metadata": {},
     "output_type": "display_data"
    }
   ],
   "source": [
    "A1 = A.T\n",
    "display(A1.shape,A1)"
   ]
  },
  {
   "cell_type": "code",
   "execution_count": 34,
   "metadata": {},
   "outputs": [
    {
     "data": {
      "text/plain": [
       "array([[0.],\n",
       "       [0.],\n",
       "       [0.],\n",
       "       [0.]])"
      ]
     },
     "execution_count": 34,
     "metadata": {},
     "output_type": "execute_result"
    }
   ],
   "source": [
    "zero_vec = np.zeros([4,1])\n",
    "zero_vec\n"
   ]
  },
  {
   "cell_type": "code",
   "execution_count": 35,
   "metadata": {},
   "outputs": [
    {
     "data": {
      "text/plain": [
       "array([[1.],\n",
       "       [1.],\n",
       "       [1.],\n",
       "       [1.]])"
      ]
     },
     "execution_count": 35,
     "metadata": {},
     "output_type": "execute_result"
    }
   ],
   "source": [
    "one_vec = np.ones([4,1])\n",
    "one_vec"
   ]
  },
  {
   "cell_type": "code",
   "execution_count": 36,
   "metadata": {},
   "outputs": [
    {
     "data": {
      "text/plain": [
       "array([[1., 0., 0., 0., 0.],\n",
       "       [0., 1., 0., 0., 0.],\n",
       "       [0., 0., 1., 0., 0.],\n",
       "       [0., 0., 0., 1., 0.],\n",
       "       [0., 0., 0., 0., 1.]])"
      ]
     },
     "execution_count": 36,
     "metadata": {},
     "output_type": "execute_result"
    }
   ],
   "source": [
    "# Identity Matrix\n",
    "idtymat = np.eye(5)\n",
    "idtymat\n"
   ]
  },
  {
   "cell_type": "code",
   "execution_count": 28,
   "metadata": {},
   "outputs": [
    {
     "data": {
      "text/plain": [
       "array([[2, 3, 1]])"
      ]
     },
     "metadata": {},
     "output_type": "display_data"
    },
    {
     "data": {
      "text/plain": [
       "array([[4, 2, 0]])"
      ]
     },
     "metadata": {},
     "output_type": "display_data"
    },
    {
     "data": {
      "text/plain": [
       "array([[6, 5, 1]])"
      ]
     },
     "metadata": {},
     "output_type": "display_data"
    }
   ],
   "source": [
    "b1 = np.array([[2,3,1]])\n",
    "b2 = np.array([[4,2,0]])\n",
    "b3 = b1+b2\n",
    "display(b1,b2,b3)\n"
   ]
  },
  {
   "cell_type": "code",
   "execution_count": 26,
   "metadata": {},
   "outputs": [
    {
     "data": {
      "text/plain": [
       "array([[2, 3, 5],\n",
       "       [1, 2, 3],\n",
       "       [7, 6, 4],\n",
       "       [5, 2, 1]])"
      ]
     },
     "metadata": {},
     "output_type": "display_data"
    },
    {
     "data": {
      "text/plain": [
       "array([[1, 2, 3],\n",
       "       [7, 8, 9],\n",
       "       [4, 5, 6],\n",
       "       [2, 4, 2]])"
      ]
     },
     "metadata": {},
     "output_type": "display_data"
    },
    {
     "data": {
      "text/plain": [
       "array([[ 3,  5,  8],\n",
       "       [ 8, 10, 12],\n",
       "       [11, 11, 10],\n",
       "       [ 7,  6,  3]])"
      ]
     },
     "metadata": {},
     "output_type": "display_data"
    }
   ],
   "source": [
    "A1 = np.array([[2,3,5],[1,2,3],[7,6,4],[5,2,1]])\n",
    "A2 = np.array([[1,2,3],[7,8,9],[4,5,6],[2,4,2]])\n",
    "A3 = A1+A2\n",
    "display(A1,A2,A3)"
   ]
  },
  {
   "cell_type": "code",
   "execution_count": 25,
   "metadata": {},
   "outputs": [
    {
     "data": {
      "text/plain": [
       "array([[2, 3, 1]])"
      ]
     },
     "metadata": {},
     "output_type": "display_data"
    },
    {
     "data": {
      "text/plain": [
       "array([[2, 3, 5],\n",
       "       [1, 2, 3],\n",
       "       [7, 6, 4],\n",
       "       [5, 2, 1]])"
      ]
     },
     "metadata": {},
     "output_type": "display_data"
    },
    {
     "data": {
      "text/plain": [
       "array([[4, 6, 6],\n",
       "       [3, 5, 4],\n",
       "       [9, 9, 5],\n",
       "       [7, 5, 2]])"
      ]
     },
     "metadata": {},
     "output_type": "display_data"
    }
   ],
   "source": [
    "# Here is an example of array broadcasting\n",
    "display(b1,A1,A1+b1)\n"
   ]
  },
  {
   "cell_type": "code",
   "execution_count": 39,
   "metadata": {},
   "outputs": [
    {
     "data": {
      "text/plain": [
       "array([[1.],\n",
       "       [1.],\n",
       "       [1.],\n",
       "       [1.],\n",
       "       [1.]])"
      ]
     },
     "metadata": {},
     "output_type": "display_data"
    },
    {
     "data": {
      "text/plain": [
       "array([[1., 1., 1., 1., 1.]])"
      ]
     },
     "metadata": {},
     "output_type": "display_data"
    },
    {
     "data": {
      "text/plain": [
       "array([[1., 0., 0., 0., 0.],\n",
       "       [0., 1., 0., 0., 0.],\n",
       "       [0., 0., 1., 0., 0.],\n",
       "       [0., 0., 0., 1., 0.],\n",
       "       [0., 0., 0., 0., 1.]])"
      ]
     },
     "metadata": {},
     "output_type": "display_data"
    },
    {
     "data": {
      "text/plain": [
       "array([[2., 1., 1., 1., 1.],\n",
       "       [1., 2., 1., 1., 1.],\n",
       "       [1., 1., 2., 1., 1.],\n",
       "       [1., 1., 1., 2., 1.],\n",
       "       [1., 1., 1., 1., 2.]])"
      ]
     },
     "metadata": {},
     "output_type": "display_data"
    },
    {
     "data": {
      "text/plain": [
       "array([[2., 1., 1., 1., 1.],\n",
       "       [1., 2., 1., 1., 1.],\n",
       "       [1., 1., 2., 1., 1.],\n",
       "       [1., 1., 1., 2., 1.],\n",
       "       [1., 1., 1., 1., 2.]])"
      ]
     },
     "metadata": {},
     "output_type": "display_data"
    }
   ],
   "source": [
    "col = np.ones([5,1])\n",
    "row = np.ones([1,5])\n",
    "display(col,row,idtymat,col+idtymat,row+idtymat)"
   ]
  },
  {
   "cell_type": "code",
   "execution_count": 47,
   "metadata": {},
   "outputs": [
    {
     "data": {
      "text/plain": [
       "array([[3],\n",
       "       [2],\n",
       "       [1]])"
      ]
     },
     "metadata": {},
     "output_type": "display_data"
    },
    {
     "data": {
      "text/plain": [
       "(3, 1)"
      ]
     },
     "metadata": {},
     "output_type": "display_data"
    },
    {
     "data": {
      "text/plain": [
       "array([[3, 2, 1]])"
      ]
     },
     "metadata": {},
     "output_type": "display_data"
    },
    {
     "data": {
      "text/plain": [
       "(1, 3)"
      ]
     },
     "metadata": {},
     "output_type": "display_data"
    },
    {
     "data": {
      "text/plain": [
       "array([[4],\n",
       "       [5],\n",
       "       [6]])"
      ]
     },
     "metadata": {},
     "output_type": "display_data"
    },
    {
     "data": {
      "text/plain": [
       "(3, 1)"
      ]
     },
     "metadata": {},
     "output_type": "display_data"
    },
    {
     "data": {
      "text/plain": [
       "array([[28]])"
      ]
     },
     "metadata": {},
     "output_type": "display_data"
    },
    {
     "data": {
      "text/plain": [
       "(1, 1)"
      ]
     },
     "metadata": {},
     "output_type": "display_data"
    }
   ],
   "source": [
    "# Matrix multiply\n",
    "a = np.array([[3],[2],[1]])\n",
    "b = np.array([[4],[5],[6]])\n",
    "c = np.dot(a.T,b)\n",
    "display(a,a.shape,a.T,a.T.shape,b,b.shape,c,c.shape)\n"
   ]
  },
  {
   "cell_type": "code",
   "execution_count": 45,
   "metadata": {},
   "outputs": [
    {
     "data": {
      "text/plain": [
       "array([[2, 3, 1],\n",
       "       [3, 2, 7]])"
      ]
     },
     "metadata": {},
     "output_type": "display_data"
    },
    {
     "data": {
      "text/plain": [
       "(2, 3)"
      ]
     },
     "metadata": {},
     "output_type": "display_data"
    },
    {
     "data": {
      "text/plain": [
       "array([[4],\n",
       "       [5],\n",
       "       [6]])"
      ]
     },
     "metadata": {},
     "output_type": "display_data"
    },
    {
     "data": {
      "text/plain": [
       "(3, 1)"
      ]
     },
     "metadata": {},
     "output_type": "display_data"
    },
    {
     "data": {
      "text/plain": [
       "array([[29],\n",
       "       [64]])"
      ]
     },
     "metadata": {},
     "output_type": "display_data"
    },
    {
     "data": {
      "text/plain": [
       "(2, 1)"
      ]
     },
     "metadata": {},
     "output_type": "display_data"
    }
   ],
   "source": [
    "A = np.array([[2,3,1],[3,2,7]])\n",
    "c = A.dot(b)\n",
    "display(A,A.shape,b,b.shape,c,c.shape)\n"
   ]
  },
  {
   "cell_type": "code",
   "execution_count": 51,
   "metadata": {},
   "outputs": [
    {
     "data": {
      "text/plain": [
       "array([[29],\n",
       "       [64]])"
      ]
     },
     "metadata": {},
     "output_type": "display_data"
    },
    {
     "data": {
      "text/plain": [
       "(2, 1)"
      ]
     },
     "metadata": {},
     "output_type": "display_data"
    }
   ],
   "source": [
    "# An alternative way of doing the above\n",
    "c = np.matmul(A,b)\n",
    "display(c,c.shape)\n"
   ]
  },
  {
   "cell_type": "code",
   "execution_count": 52,
   "metadata": {},
   "outputs": [
    {
     "data": {
      "text/plain": [
       "array([[2, 3, 1],\n",
       "       [3, 2, 7]])"
      ]
     },
     "metadata": {},
     "output_type": "display_data"
    },
    {
     "data": {
      "text/plain": [
       "(2, 3)"
      ]
     },
     "metadata": {},
     "output_type": "display_data"
    },
    {
     "data": {
      "text/plain": [
       "array([[ 3,  2,  1,  4],\n",
       "       [ 4,  3,  2,  7],\n",
       "       [ 3,  0, -1,  2]])"
      ]
     },
     "metadata": {},
     "output_type": "display_data"
    },
    {
     "data": {
      "text/plain": [
       "(3, 4)"
      ]
     },
     "metadata": {},
     "output_type": "display_data"
    },
    {
     "data": {
      "text/plain": [
       "array([[21, 13,  7, 31],\n",
       "       [38, 12,  0, 40]])"
      ]
     },
     "metadata": {},
     "output_type": "display_data"
    },
    {
     "data": {
      "text/plain": [
       "(2, 4)"
      ]
     },
     "metadata": {},
     "output_type": "display_data"
    }
   ],
   "source": [
    "B = np.array([[3,2,1,4],[4,3,2,7],[3,0,-1,2]])\n",
    "C = np.matmul(A,B)\n",
    "display(A,A.shape,B,B.shape,C,C.shape)\n"
   ]
  },
  {
   "cell_type": "code",
   "execution_count": 54,
   "metadata": {},
   "outputs": [
    {
     "data": {
      "text/plain": [
       "array([[ 3,  2,  1,  4],\n",
       "       [ 4,  3,  2,  7],\n",
       "       [ 3,  0, -1,  2],\n",
       "       [ 2,  1,  5,  4]])"
      ]
     },
     "metadata": {},
     "output_type": "display_data"
    },
    {
     "data": {
      "text/plain": [
       "array([[ 0.91176471, -0.64705882,  0.20588235,  0.11764706],\n",
       "       [ 1.38235294, -0.52941176, -0.55882353, -0.17647059],\n",
       "       [ 0.32352941, -0.29411765, -0.08823529,  0.23529412],\n",
       "       [-1.20588235,  0.82352941,  0.14705882, -0.05882353]])"
      ]
     },
     "metadata": {},
     "output_type": "display_data"
    }
   ],
   "source": [
    "# Matrix Inverse\n",
    "A = np.array([[3,2,1,4],[4,3,2,7],[3,0,-1,2],[2,1,5,4]])\n",
    "B = np.linalg.inv(A)\n",
    "display(A,B)\n"
   ]
  },
  {
   "cell_type": "code",
   "execution_count": 56,
   "metadata": {},
   "outputs": [
    {
     "data": {
      "text/plain": [
       "array([[ 1.,  0.,  0.,  0.],\n",
       "       [-0.,  1.,  0.,  0.],\n",
       "       [-0.,  0.,  1.,  0.],\n",
       "       [ 0.,  0.,  0.,  1.]])"
      ]
     },
     "execution_count": 56,
     "metadata": {},
     "output_type": "execute_result"
    }
   ],
   "source": [
    "C = A.dot(B)\n",
    "np.round(C,4)\n"
   ]
  },
  {
   "cell_type": "code",
   "execution_count": 57,
   "metadata": {},
   "outputs": [
    {
     "data": {
      "text/plain": [
       "array([[ 1.,  0.,  0.,  0.],\n",
       "       [ 0.,  1.,  0.,  0.],\n",
       "       [ 0.,  0.,  1.,  0.],\n",
       "       [-0., -0., -0.,  1.]])"
      ]
     },
     "execution_count": 57,
     "metadata": {},
     "output_type": "execute_result"
    }
   ],
   "source": [
    "C1 = np.matmul(B,A)\n",
    "np.round(C1,4)"
   ]
  },
  {
   "cell_type": "markdown",
   "metadata": {},
   "source": [
    "$$\n",
    "𝑎1 + + = , ,1𝑥1 𝑎1,2𝑥2 𝑎_1,3 𝑥_3 𝑏_1\n",
    "𝑎2 + + = , ,1𝑥1 𝑎2,2𝑥2 𝑎_2,3 𝑥_3 𝑏_2\n",
    "𝑎3 + + = , ,1𝑥2 𝑎3,2𝑥2 𝑎_3,3 𝑥_3 𝑏_3 \n",
    "$$"
   ]
  },
  {
   "cell_type": "code",
   "execution_count": 2,
   "metadata": {},
   "outputs": [
    {
     "data": {
      "text/plain": [
       "array([[ 2,  3,  4],\n",
       "       [ 5, -1,  2],\n",
       "       [ 2,  3,  6]])"
      ]
     },
     "metadata": {},
     "output_type": "display_data"
    },
    {
     "data": {
      "text/plain": [
       "array([[2],\n",
       "       [4],\n",
       "       [6]])"
      ]
     },
     "metadata": {},
     "output_type": "display_data"
    },
    {
     "data": {
      "text/plain": [
       "array([[-0.35294118],\n",
       "       [-1.76470588],\n",
       "       [ 2.        ]])"
      ]
     },
     "metadata": {},
     "output_type": "display_data"
    }
   ],
   "source": [
    "A = np.array([[2,3,4],[5,-1,2],[2,3,6]])\n",
    "b = np.array([[2],[4],[6]])\n",
    "x = np.matmul(np.linalg.inv(A),b)\n",
    "display(A,b,x)\n"
   ]
  },
  {
   "cell_type": "code",
   "execution_count": 3,
   "metadata": {},
   "outputs": [],
   "source": [
    "# Linear Regressions\n",
    "import numpy as np\n",
    "import pandas as pd\n",
    "import datetime\n",
    "import matplotlib.pyplot as plt\n",
    "# To use statsmodels for linear regression\n",
    "import statsmodels.formula.api as smf\n",
    "# To use sklearn for linear regression\n",
    "from sklearn.linear_model import LinearRegression"
   ]
  },
  {
   "cell_type": "code",
   "execution_count": 44,
   "metadata": {},
   "outputs": [
    {
     "data": {
      "text/html": [
       "<div>\n",
       "<style scoped>\n",
       "    .dataframe tbody tr th:only-of-type {\n",
       "        vertical-align: middle;\n",
       "    }\n",
       "\n",
       "    .dataframe tbody tr th {\n",
       "        vertical-align: top;\n",
       "    }\n",
       "\n",
       "    .dataframe thead th {\n",
       "        text-align: right;\n",
       "    }\n",
       "</style>\n",
       "<table border=\"1\" class=\"dataframe\">\n",
       "  <thead>\n",
       "    <tr style=\"text-align: right;\">\n",
       "      <th></th>\n",
       "      <th>spy</th>\n",
       "      <th>ko</th>\n",
       "      <th>pep</th>\n",
       "      <th>usdx</th>\n",
       "    </tr>\n",
       "    <tr>\n",
       "      <th>Date</th>\n",
       "      <th></th>\n",
       "      <th></th>\n",
       "      <th></th>\n",
       "      <th></th>\n",
       "    </tr>\n",
       "  </thead>\n",
       "  <tbody>\n",
       "    <tr>\n",
       "      <th>2020-08-04</th>\n",
       "      <td>0.003855</td>\n",
       "      <td>0.008388</td>\n",
       "      <td>0.005617</td>\n",
       "      <td>-0.001284</td>\n",
       "    </tr>\n",
       "    <tr>\n",
       "      <th>2020-08-05</th>\n",
       "      <td>0.006192</td>\n",
       "      <td>0.011288</td>\n",
       "      <td>-0.008914</td>\n",
       "      <td>-0.005907</td>\n",
       "    </tr>\n",
       "    <tr>\n",
       "      <th>2020-08-06</th>\n",
       "      <td>0.006662</td>\n",
       "      <td>0.005491</td>\n",
       "      <td>-0.002866</td>\n",
       "      <td>-0.000431</td>\n",
       "    </tr>\n",
       "    <tr>\n",
       "      <th>2020-08-07</th>\n",
       "      <td>0.000717</td>\n",
       "      <td>0.006717</td>\n",
       "      <td>0.006456</td>\n",
       "      <td>0.006981</td>\n",
       "    </tr>\n",
       "    <tr>\n",
       "      <th>2020-08-10</th>\n",
       "      <td>0.002985</td>\n",
       "      <td>-0.001675</td>\n",
       "      <td>-0.005574</td>\n",
       "      <td>0.001497</td>\n",
       "    </tr>\n",
       "    <tr>\n",
       "      <th>...</th>\n",
       "      <td>...</td>\n",
       "      <td>...</td>\n",
       "      <td>...</td>\n",
       "      <td>...</td>\n",
       "    </tr>\n",
       "    <tr>\n",
       "      <th>2023-07-25</th>\n",
       "      <td>0.002726</td>\n",
       "      <td>-0.003368</td>\n",
       "      <td>0.002302</td>\n",
       "      <td>0.000000</td>\n",
       "    </tr>\n",
       "    <tr>\n",
       "      <th>2023-07-26</th>\n",
       "      <td>0.000154</td>\n",
       "      <td>0.012770</td>\n",
       "      <td>0.001253</td>\n",
       "      <td>-0.004549</td>\n",
       "    </tr>\n",
       "    <tr>\n",
       "      <th>2023-07-27</th>\n",
       "      <td>-0.006652</td>\n",
       "      <td>-0.009722</td>\n",
       "      <td>-0.016153</td>\n",
       "      <td>0.008685</td>\n",
       "    </tr>\n",
       "    <tr>\n",
       "      <th>2023-07-28</th>\n",
       "      <td>0.009743</td>\n",
       "      <td>0.000640</td>\n",
       "      <td>0.009397</td>\n",
       "      <td>-0.001475</td>\n",
       "    </tr>\n",
       "    <tr>\n",
       "      <th>2023-07-31</th>\n",
       "      <td>0.001902</td>\n",
       "      <td>-0.008842</td>\n",
       "      <td>-0.015089</td>\n",
       "      <td>0.002359</td>\n",
       "    </tr>\n",
       "  </tbody>\n",
       "</table>\n",
       "<p>752 rows × 4 columns</p>\n",
       "</div>"
      ],
      "text/plain": [
       "                 spy        ko       pep      usdx\n",
       "Date                                              \n",
       "2020-08-04  0.003855  0.008388  0.005617 -0.001284\n",
       "2020-08-05  0.006192  0.011288 -0.008914 -0.005907\n",
       "2020-08-06  0.006662  0.005491 -0.002866 -0.000431\n",
       "2020-08-07  0.000717  0.006717  0.006456  0.006981\n",
       "2020-08-10  0.002985 -0.001675 -0.005574  0.001497\n",
       "...              ...       ...       ...       ...\n",
       "2023-07-25  0.002726 -0.003368  0.002302  0.000000\n",
       "2023-07-26  0.000154  0.012770  0.001253 -0.004549\n",
       "2023-07-27 -0.006652 -0.009722 -0.016153  0.008685\n",
       "2023-07-28  0.009743  0.000640  0.009397 -0.001475\n",
       "2023-07-31  0.001902 -0.008842 -0.015089  0.002359\n",
       "\n",
       "[752 rows x 4 columns]"
      ]
     },
     "execution_count": 44,
     "metadata": {},
     "output_type": "execute_result"
    }
   ],
   "source": [
    "# Online Fetch data and calculate log returns. If you've read data from csv\n",
    "import yfinance as yf\n",
    "####################################################\n",
    "## Fetch data from yfinance\n",
    "## 3-year daily data for Coca-Cola, SPY, Pepsi, and USD index\n",
    "end1 = datetime.date(2023, 8, 1)\n",
    "start1 = end1 - pd.Timedelta(days = 365 * 3)\n",
    "ko_df = yf.download(\"KO\", start = start1, end = end1, progress = False)\n",
    "spy_df = yf.download(\"SPY\", start = start1, end = end1, progress = False)\n",
    "pep_df = yf.download(\"PEP\", start = start1, end = end1, progress = False)\n",
    "usdx_df = yf.download(\"DX-Y.NYB\", start = start1, end = end1, progress = False)\n",
    "####################################################\n",
    "## Calculate log returns for the period based on Adj Close prices\n",
    "ko_df['ko'] = np.log(ko_df['Adj Close'] / ko_df['Adj Close'].shift(1))\n",
    "spy_df['spy'] = np.log(spy_df['Adj Close'] / spy_df['Adj Close'].shift(1))\n",
    "pep_df['pep'] = np.log(pep_df['Adj Close'] / pep_df['Adj Close'].shift(1))\n",
    "usdx_df['usdx'] = np.log(usdx_df['Adj Close'] / usdx_df['Adj Close'].shift(1))\n",
    "####################################################\n",
    "## Create a dataframe with X's (spy, pep, usdx) and Y (ko)\n",
    "df = pd.concat([spy_df['spy'], ko_df['ko'],\n",
    "pep_df['pep'], usdx_df['usdx']], axis = 1).dropna()\n",
    "df\n",
    "# ## Save the csv file. Good practice to save data files after initial proc\n",
    "# df.to_csv(\"data_linear_reg.csv\")\n",
    "####################################################"
   ]
  },
  {
   "cell_type": "code",
   "execution_count": 7,
   "metadata": {},
   "outputs": [
    {
     "data": {
      "image/png": "[encoded data removed]",
      "text/plain": [
       "<Figure size 1000x600 with 1 Axes>"
      ]
     },
     "metadata": {},
     "output_type": "display_data"
    }
   ],
   "source": [
    "## A scatter plot of X (spy) and Y (ko) to examine the nature of their relati\n",
    "plt.figure(figsize = (10, 6))\n",
    "plt.rcParams.update({'font.size': 14})\n",
    "plt.xlabel(\"SPY returns\")\n",
    "plt.ylabel(\"KO returns\")\n",
    "plt.title(\"Scatter plot of daily returns (Aug 2020 to Jul 2023)\")\n",
    "plt.scatter(df['spy'], df['ko'])\n",
    "plt.show()"
   ]
  },
  {
   "cell_type": "code",
   "execution_count": 8,
   "metadata": {},
   "outputs": [
    {
     "data": {
      "text/html": [
       "<div>\n",
       "<style scoped>\n",
       "    .dataframe tbody tr th:only-of-type {\n",
       "        vertical-align: middle;\n",
       "    }\n",
       "\n",
       "    .dataframe tbody tr th {\n",
       "        vertical-align: top;\n",
       "    }\n",
       "\n",
       "    .dataframe thead th {\n",
       "        text-align: right;\n",
       "    }\n",
       "</style>\n",
       "<table border=\"1\" class=\"dataframe\">\n",
       "  <thead>\n",
       "    <tr style=\"text-align: right;\">\n",
       "      <th></th>\n",
       "      <th>spy</th>\n",
       "      <th>ko</th>\n",
       "      <th>pep</th>\n",
       "      <th>usdx</th>\n",
       "    </tr>\n",
       "  </thead>\n",
       "  <tbody>\n",
       "    <tr>\n",
       "      <th>spy</th>\n",
       "      <td>1.000000</td>\n",
       "      <td>0.539683</td>\n",
       "      <td>0.543285</td>\n",
       "      <td>-0.376342</td>\n",
       "    </tr>\n",
       "    <tr>\n",
       "      <th>ko</th>\n",
       "      <td>0.539683</td>\n",
       "      <td>1.000000</td>\n",
       "      <td>0.743223</td>\n",
       "      <td>-0.230901</td>\n",
       "    </tr>\n",
       "    <tr>\n",
       "      <th>pep</th>\n",
       "      <td>0.543285</td>\n",
       "      <td>0.743223</td>\n",
       "      <td>1.000000</td>\n",
       "      <td>-0.175518</td>\n",
       "    </tr>\n",
       "    <tr>\n",
       "      <th>usdx</th>\n",
       "      <td>-0.376342</td>\n",
       "      <td>-0.230901</td>\n",
       "      <td>-0.175518</td>\n",
       "      <td>1.000000</td>\n",
       "    </tr>\n",
       "  </tbody>\n",
       "</table>\n",
       "</div>"
      ],
      "text/plain": [
       "           spy        ko       pep      usdx\n",
       "spy   1.000000  0.539683  0.543285 -0.376342\n",
       "ko    0.539683  1.000000  0.743223 -0.230901\n",
       "pep   0.543285  0.743223  1.000000 -0.175518\n",
       "usdx -0.376342 -0.230901 -0.175518  1.000000"
      ]
     },
     "execution_count": 8,
     "metadata": {},
     "output_type": "execute_result"
    }
   ],
   "source": [
    "### Calculate correlation between Xs and Y\n",
    "df.corr()\n"
   ]
  },
  {
   "cell_type": "code",
   "execution_count": 9,
   "metadata": {},
   "outputs": [
    {
     "name": "stdout",
     "output_type": "stream",
     "text": [
      "                            OLS Regression Results                            \n",
      "==============================================================================\n",
      "Dep. Variable:                     ko   R-squared:                       0.291\n",
      "Model:                            OLS   Adj. R-squared:                  0.290\n",
      "Method:                 Least Squares   F-statistic:                     308.2\n",
      "Date:                Tue, 08 Aug 2023   Prob (F-statistic):           4.61e-58\n",
      "Time:                        20:14:31   Log-Likelihood:                 2458.4\n",
      "No. Observations:                 752   AIC:                            -4913.\n",
      "Df Residuals:                     750   BIC:                            -4904.\n",
      "Df Model:                           1                                         \n",
      "Covariance Type:            nonrobust                                         \n",
      "==============================================================================\n",
      "                 coef    std err          t      P>|t|      [0.025      0.975]\n",
      "------------------------------------------------------------------------------\n",
      "Intercept      0.0003      0.000      0.745      0.457      -0.000       0.001\n",
      "spy            0.5152      0.029     17.556      0.000       0.458       0.573\n",
      "==============================================================================\n",
      "Omnibus:                       72.813   Durbin-Watson:                   1.892\n",
      "Prob(Omnibus):                  0.000   Jarque-Bera (JB):              455.265\n",
      "Skew:                          -0.066   Prob(JB):                     1.38e-99\n",
      "Kurtosis:                       6.810   Cond. No.                         87.3\n",
      "==============================================================================\n",
      "\n",
      "Notes:\n",
      "[1] Standard Errors assume that the covariance matrix of the errors is correctly specified.\n"
     ]
    }
   ],
   "source": [
    "### Fit a simple linear regression model to the data using statsmodels\n",
    "### Create an instance of the class OLS\n",
    "slr_sm_model = smf.ols('ko ~ spy', data=df)\n",
    "### Fit the model (statsmodels calculates beta_0 and beta_1 here)\n",
    "slr_sm_model_ko = slr_sm_model.fit()\n",
    "### Summarize the model\n",
    "print(slr_sm_model_ko.summary())\n",
    "param_slr = slr_sm_model_ko.params"
   ]
  },
  {
   "cell_type": "code",
   "execution_count": 10,
   "metadata": {},
   "outputs": [
    {
     "name": "stdout",
     "output_type": "stream",
     "text": [
      "====================================================================\n",
      "The intercept in the statsmodels regression model is 0.0003\n",
      "The slope in the statsmodels regression model is 0.5152\n",
      "====================================================================\n"
     ]
    }
   ],
   "source": [
    "### Print the parameter estimates of the simple linear regression model\n",
    "print(\"====================================================================\")\n",
    "print(\"The intercept in the statsmodels regression model is\", \\\n",
    " np.round(param_slr.Intercept, 4))\n",
    "print(\"The slope in the statsmodels regression model is\", \\\n",
    " np.round(param_slr.spy, 4))\n",
    "print(\"====================================================================\")"
   ]
  },
  {
   "cell_type": "code",
   "execution_count": 11,
   "metadata": {},
   "outputs": [
    {
     "data": {
      "image/png": "[encoded data removed]",
      "text/plain": [
       "<Figure size 1000x600 with 1 Axes>"
      ]
     },
     "metadata": {},
     "output_type": "display_data"
    }
   ],
   "source": [
    "### Linear regression plot of X (spy) and Y (ko)\n",
    "plt.figure(figsize = (10, 6))\n",
    "plt.rcParams.update({'font.size': 14})\n",
    "plt.xlabel(\"SPY returns\")\n",
    "plt.ylabel(\"KO returns\")\n",
    "plt.title(\"Simple linear regression model\")\n",
    "plt.scatter(df['spy'],df['ko'])\n",
    "plt.plot(df['spy'], param_slr.Intercept+param_slr.spy * df['spy'],\n",
    " label='Y={:.4f}+{:.4f}X'.format(param_slr.Intercept, param_slr.spy),\n",
    " color='red')\n",
    "plt.legend()\n",
    "plt.show()\n"
   ]
  },
  {
   "cell_type": "code",
   "execution_count": 12,
   "metadata": {},
   "outputs": [
    {
     "name": "stdout",
     "output_type": "stream",
     "text": [
      "                            OLS Regression Results                            \n",
      "==============================================================================\n",
      "Dep. Variable:                     ko   R-squared:                       0.581\n",
      "Model:                            OLS   Adj. R-squared:                  0.579\n",
      "Method:                 Least Squares   F-statistic:                     345.8\n",
      "Date:                Tue, 08 Aug 2023   Prob (F-statistic):          7.91e-141\n",
      "Time:                        20:15:18   Log-Likelihood:                 2656.1\n",
      "No. Observations:                 752   AIC:                            -5304.\n",
      "Df Residuals:                     748   BIC:                            -5286.\n",
      "Df Model:                           3                                         \n",
      "Covariance Type:            nonrobust                                         \n",
      "==============================================================================\n",
      "                 coef    std err          t      P>|t|      [0.025      0.975]\n",
      "------------------------------------------------------------------------------\n",
      "Intercept   8.604e-05      0.000      0.332      0.740      -0.000       0.001\n",
      "spy            0.1635      0.029      5.715      0.000       0.107       0.220\n",
      "pep            0.6692      0.029     22.713      0.000       0.611       0.727\n",
      "usdx          -0.1285      0.061     -2.112      0.035      -0.248      -0.009\n",
      "==============================================================================\n",
      "Omnibus:                      196.858   Durbin-Watson:                   1.970\n",
      "Prob(Omnibus):                  0.000   Jarque-Bera (JB):             1903.035\n",
      "Skew:                           0.884   Prob(JB):                         0.00\n",
      "Kurtosis:                      10.590   Cond. No.                         239.\n",
      "==============================================================================\n",
      "\n",
      "Notes:\n",
      "[1] Standard Errors assume that the covariance matrix of the errors is correctly specified.\n"
     ]
    }
   ],
   "source": [
    "### Fit a multiple linear regression model to the data using statsmodels\n",
    "### Create an instance of the class OLS\n",
    "mlr_sm_model = smf.ols('ko ~ spy + pep + usdx', data=df)\n",
    "### Fit the model (statsmodels calculates beta_0, beta_1, beta_2, beta_3 here\n",
    "mlr_sm_model_ko = mlr_sm_model.fit()\n",
    "### Summarize the model\n",
    "print(mlr_sm_model_ko.summary())"
   ]
  },
  {
   "cell_type": "code",
   "execution_count": 42,
   "metadata": {},
   "outputs": [
    {
     "name": "stdout",
     "output_type": "stream",
     "text": [
      "====================================================================\n",
      "The intercept and slopes in the statsmodels regression model are\n",
      "\n",
      "\n",
      "Intercept    0.000086\n",
      "spy          0.163520\n",
      "pep          0.669177\n",
      "usdx        -0.128473\n",
      "dtype: float64\n",
      "====================================================================\n"
     ]
    }
   ],
   "source": [
    "### Print the parameter estimates of the muliple linear regression model\n",
    "param_mlr = mlr_sm_model_ko.params\n",
    "print(\"====================================================================\")\n",
    "print(\"The intercept and slopes in the statsmodels regression model are\")\n",
    "print(\"\\n\")\n",
    "print(param_mlr)\n",
    "print(\"====================================================================\")\n"
   ]
  },
  {
   "cell_type": "code",
   "execution_count": 56,
   "metadata": {},
   "outputs": [
    {
     "data": {
      "text/html": [
       "<div>\n",
       "<style scoped>\n",
       "    .dataframe tbody tr th:only-of-type {\n",
       "        vertical-align: middle;\n",
       "    }\n",
       "\n",
       "    .dataframe tbody tr th {\n",
       "        vertical-align: top;\n",
       "    }\n",
       "\n",
       "    .dataframe thead th {\n",
       "        text-align: right;\n",
       "    }\n",
       "</style>\n",
       "<table border=\"1\" class=\"dataframe\">\n",
       "  <thead>\n",
       "    <tr style=\"text-align: right;\">\n",
       "      <th></th>\n",
       "      <th>spy</th>\n",
       "    </tr>\n",
       "    <tr>\n",
       "      <th>Date</th>\n",
       "      <th></th>\n",
       "    </tr>\n",
       "  </thead>\n",
       "  <tbody>\n",
       "    <tr>\n",
       "      <th>2020-08-04</th>\n",
       "      <td>0.003855</td>\n",
       "    </tr>\n",
       "    <tr>\n",
       "      <th>2020-08-05</th>\n",
       "      <td>0.006192</td>\n",
       "    </tr>\n",
       "    <tr>\n",
       "      <th>2020-08-06</th>\n",
       "      <td>0.006662</td>\n",
       "    </tr>\n",
       "    <tr>\n",
       "      <th>2020-08-07</th>\n",
       "      <td>0.000717</td>\n",
       "    </tr>\n",
       "    <tr>\n",
       "      <th>2020-08-10</th>\n",
       "      <td>0.002985</td>\n",
       "    </tr>\n",
       "    <tr>\n",
       "      <th>...</th>\n",
       "      <td>...</td>\n",
       "    </tr>\n",
       "    <tr>\n",
       "      <th>2023-07-25</th>\n",
       "      <td>0.002726</td>\n",
       "    </tr>\n",
       "    <tr>\n",
       "      <th>2023-07-26</th>\n",
       "      <td>0.000154</td>\n",
       "    </tr>\n",
       "    <tr>\n",
       "      <th>2023-07-27</th>\n",
       "      <td>-0.006652</td>\n",
       "    </tr>\n",
       "    <tr>\n",
       "      <th>2023-07-28</th>\n",
       "      <td>0.009743</td>\n",
       "    </tr>\n",
       "    <tr>\n",
       "      <th>2023-07-31</th>\n",
       "      <td>0.001902</td>\n",
       "    </tr>\n",
       "  </tbody>\n",
       "</table>\n",
       "<p>752 rows × 1 columns</p>\n",
       "</div>"
      ],
      "text/plain": [
       "                 spy\n",
       "Date                \n",
       "2020-08-04  0.003855\n",
       "2020-08-05  0.006192\n",
       "2020-08-06  0.006662\n",
       "2020-08-07  0.000717\n",
       "2020-08-10  0.002985\n",
       "...              ...\n",
       "2023-07-25  0.002726\n",
       "2023-07-26  0.000154\n",
       "2023-07-27 -0.006652\n",
       "2023-07-28  0.009743\n",
       "2023-07-31  0.001902\n",
       "\n",
       "[752 rows x 1 columns]"
      ]
     },
     "metadata": {},
     "output_type": "display_data"
    },
    {
     "name": "stdout",
     "output_type": "stream",
     "text": [
      "The intercept in the sklearn regression result is 0.0003\n",
      "The slope in the sklearn regression model is 0.5152\n"
     ]
    }
   ],
   "source": [
    "### Create an instance of the class LinearRegression()\n",
    "slr_skl_model = LinearRegression()\n",
    "### Fit the model (sklearn calculates beta_0 and beta_1 here)\n",
    "\n",
    "# X = df['spy'].values.reshape(-1, 1)\n",
    "X = df[['spy']]\n",
    "display(X)\n",
    "slr_skl_model_ko = slr_skl_model.fit(X, df['ko'])\n",
    "print(\"The intercept in the sklearn regression result is\", np.round(slr_skl_model_ko.intercept_,4))\n",
    "print(\"The slope in the sklearn regression model is\", np.round(slr_skl_model_ko.coef_[0],4))"
   ]
  },
  {
   "cell_type": "code",
   "execution_count": 58,
   "metadata": {},
   "outputs": [
    {
     "data": {
      "image/png": "[encoded data removed]",
      "text/plain": [
       "<Figure size 1000x600 with 1 Axes>"
      ]
     },
     "metadata": {},
     "output_type": "display_data"
    }
   ],
   "source": [
    "### Linear regression plot of X (spy) and Y (ko)\n",
    "plt.figure(figsize = (10, 6))\n",
    "plt.rcParams.update({'font.size': 14})\n",
    "plt.xlabel(\"SPY returns\")\n",
    "plt.ylabel(\"KO returns\")\n",
    "plt.title(\"Simple linear regression model\")\n",
    "plt.scatter(df['spy'], df['ko'])\n",
    "plt.plot(X, slr_skl_model.predict(X), label='Y={:.4f}+{:.4f}X'.format(slr_skl_model_ko.intercept_,slr_skl_model_ko.coef_[0]),color='red')\n",
    "plt.legend()\n",
    "plt.show()"
   ]
  },
  {
   "cell_type": "code",
   "execution_count": 59,
   "metadata": {},
   "outputs": [
    {
     "name": "stdout",
     "output_type": "stream",
     "text": [
      "====================================================================\n",
      "The intercept in the sklearn regression result is 0.0003\n",
      "The slope in the sklearn regression model is 0.5152\n",
      "====================================================================\n"
     ]
    }
   ],
   "source": [
    "### Print the parameter estimates of the simple linear regression model\n",
    "print(\"====================================================================\")\n",
    "print(\"The intercept in the sklearn regression result is\", \\\n",
    " np.round(slr_skl_model_ko.intercept_, 4))\n",
    "print(\"The slope in the sklearn regression model is\", \\\n",
    " np.round(slr_skl_model_ko.coef_[0], 4))\n",
    "print(\"====================================================================\")"
   ]
  },
  {
   "cell_type": "code",
   "execution_count": 61,
   "metadata": {},
   "outputs": [
    {
     "data": {
      "text/html": [
       "<div>\n",
       "<style scoped>\n",
       "    .dataframe tbody tr th:only-of-type {\n",
       "        vertical-align: middle;\n",
       "    }\n",
       "\n",
       "    .dataframe tbody tr th {\n",
       "        vertical-align: top;\n",
       "    }\n",
       "\n",
       "    .dataframe thead th {\n",
       "        text-align: right;\n",
       "    }\n",
       "</style>\n",
       "<table border=\"1\" class=\"dataframe\">\n",
       "  <thead>\n",
       "    <tr style=\"text-align: right;\">\n",
       "      <th></th>\n",
       "      <th>spy</th>\n",
       "      <th>pep</th>\n",
       "      <th>usdx</th>\n",
       "    </tr>\n",
       "    <tr>\n",
       "      <th>Date</th>\n",
       "      <th></th>\n",
       "      <th></th>\n",
       "      <th></th>\n",
       "    </tr>\n",
       "  </thead>\n",
       "  <tbody>\n",
       "    <tr>\n",
       "      <th>2020-08-04</th>\n",
       "      <td>0.003855</td>\n",
       "      <td>0.005617</td>\n",
       "      <td>-0.001284</td>\n",
       "    </tr>\n",
       "    <tr>\n",
       "      <th>2020-08-05</th>\n",
       "      <td>0.006192</td>\n",
       "      <td>-0.008914</td>\n",
       "      <td>-0.005907</td>\n",
       "    </tr>\n",
       "    <tr>\n",
       "      <th>2020-08-06</th>\n",
       "      <td>0.006662</td>\n",
       "      <td>-0.002866</td>\n",
       "      <td>-0.000431</td>\n",
       "    </tr>\n",
       "    <tr>\n",
       "      <th>2020-08-07</th>\n",
       "      <td>0.000717</td>\n",
       "      <td>0.006456</td>\n",
       "      <td>0.006981</td>\n",
       "    </tr>\n",
       "    <tr>\n",
       "      <th>2020-08-10</th>\n",
       "      <td>0.002985</td>\n",
       "      <td>-0.005574</td>\n",
       "      <td>0.001497</td>\n",
       "    </tr>\n",
       "    <tr>\n",
       "      <th>...</th>\n",
       "      <td>...</td>\n",
       "      <td>...</td>\n",
       "      <td>...</td>\n",
       "    </tr>\n",
       "    <tr>\n",
       "      <th>2023-07-25</th>\n",
       "      <td>0.002726</td>\n",
       "      <td>0.002302</td>\n",
       "      <td>0.000000</td>\n",
       "    </tr>\n",
       "    <tr>\n",
       "      <th>2023-07-26</th>\n",
       "      <td>0.000154</td>\n",
       "      <td>0.001253</td>\n",
       "      <td>-0.004549</td>\n",
       "    </tr>\n",
       "    <tr>\n",
       "      <th>2023-07-27</th>\n",
       "      <td>-0.006652</td>\n",
       "      <td>-0.016153</td>\n",
       "      <td>0.008685</td>\n",
       "    </tr>\n",
       "    <tr>\n",
       "      <th>2023-07-28</th>\n",
       "      <td>0.009743</td>\n",
       "      <td>0.009397</td>\n",
       "      <td>-0.001475</td>\n",
       "    </tr>\n",
       "    <tr>\n",
       "      <th>2023-07-31</th>\n",
       "      <td>0.001902</td>\n",
       "      <td>-0.015089</td>\n",
       "      <td>0.002359</td>\n",
       "    </tr>\n",
       "  </tbody>\n",
       "</table>\n",
       "<p>752 rows × 3 columns</p>\n",
       "</div>"
      ],
      "text/plain": [
       "                 spy       pep      usdx\n",
       "Date                                    \n",
       "2020-08-04  0.003855  0.005617 -0.001284\n",
       "2020-08-05  0.006192 -0.008914 -0.005907\n",
       "2020-08-06  0.006662 -0.002866 -0.000431\n",
       "2020-08-07  0.000717  0.006456  0.006981\n",
       "2020-08-10  0.002985 -0.005574  0.001497\n",
       "...              ...       ...       ...\n",
       "2023-07-25  0.002726  0.002302  0.000000\n",
       "2023-07-26  0.000154  0.001253 -0.004549\n",
       "2023-07-27 -0.006652 -0.016153  0.008685\n",
       "2023-07-28  0.009743  0.009397 -0.001475\n",
       "2023-07-31  0.001902 -0.015089  0.002359\n",
       "\n",
       "[752 rows x 3 columns]"
      ]
     },
     "metadata": {},
     "output_type": "display_data"
    },
    {
     "name": "stdout",
     "output_type": "stream",
     "text": [
      "The intercept in the sklearn regression result is 8.604059912595854e-05\n",
      "The slope in the sklearn regression model is [ 0.16352052  0.66917701 -0.12847304]\n"
     ]
    }
   ],
   "source": [
    "### Fit a multiple linear regression model to the data using sklearn\n",
    "### Create an instance of the class LinearRegression()\n",
    "mlr_skl_model = LinearRegression()\n",
    "### Fit the model (sklearn calculates beta_0 and beta_1 here)\n",
    "X = df[['spy', 'pep', 'usdx']]\n",
    "display(X)\n",
    "y = df['ko']\n",
    "mlr_skl_model_ko = mlr_skl_model.fit(X, y)\n",
    "print(\"The intercept in the sklearn regression result is\", \\\n",
    " mlr_skl_model_ko.intercept_)\n",
    "print(\"The slope in the sklearn regression model is\", \\\n",
    " mlr_skl_model_ko.coef_)\n",
    "\n"
   ]
  },
  {
   "cell_type": "code",
   "execution_count": 62,
   "metadata": {},
   "outputs": [],
   "source": [
    "# Portfolio Optimization\n",
    "\n",
    "import numpy as np\n",
    "import pandas as pd\n",
    "import matplotlib.pyplot as plt\n",
    "import matplotlib as mpl\n",
    "import seaborn as sns"
   ]
  },
  {
   "cell_type": "code",
   "execution_count": 16,
   "metadata": {},
   "outputs": [
    {
     "name": "stdout",
     "output_type": "stream",
     "text": [
      "[*********************100%***********************]  4 of 4 completed\n"
     ]
    },
    {
     "data": {
      "text/html": [
       "<div>\n",
       "<style scoped>\n",
       "    .dataframe tbody tr th:only-of-type {\n",
       "        vertical-align: middle;\n",
       "    }\n",
       "\n",
       "    .dataframe tbody tr th {\n",
       "        vertical-align: top;\n",
       "    }\n",
       "\n",
       "    .dataframe thead th {\n",
       "        text-align: right;\n",
       "    }\n",
       "</style>\n",
       "<table border=\"1\" class=\"dataframe\">\n",
       "  <thead>\n",
       "    <tr style=\"text-align: right;\">\n",
       "      <th></th>\n",
       "      <th>AAPL</th>\n",
       "      <th>AMZN</th>\n",
       "      <th>GOOGL</th>\n",
       "      <th>MSFT</th>\n",
       "    </tr>\n",
       "    <tr>\n",
       "      <th>Date</th>\n",
       "      <th></th>\n",
       "      <th></th>\n",
       "      <th></th>\n",
       "      <th></th>\n",
       "    </tr>\n",
       "  </thead>\n",
       "  <tbody>\n",
       "    <tr>\n",
       "      <th>2015-01-02</th>\n",
       "      <td>24.531761</td>\n",
       "      <td>15.426000</td>\n",
       "      <td>26.477501</td>\n",
       "      <td>40.620667</td>\n",
       "    </tr>\n",
       "    <tr>\n",
       "      <th>2015-01-05</th>\n",
       "      <td>23.840666</td>\n",
       "      <td>15.109500</td>\n",
       "      <td>25.973000</td>\n",
       "      <td>40.247124</td>\n",
       "    </tr>\n",
       "    <tr>\n",
       "      <th>2015-01-06</th>\n",
       "      <td>23.842913</td>\n",
       "      <td>14.764500</td>\n",
       "      <td>25.332001</td>\n",
       "      <td>39.656399</td>\n",
       "    </tr>\n",
       "    <tr>\n",
       "      <th>2015-01-07</th>\n",
       "      <td>24.177240</td>\n",
       "      <td>14.921000</td>\n",
       "      <td>25.257500</td>\n",
       "      <td>40.160248</td>\n",
       "    </tr>\n",
       "    <tr>\n",
       "      <th>2015-01-08</th>\n",
       "      <td>25.106186</td>\n",
       "      <td>15.023000</td>\n",
       "      <td>25.345501</td>\n",
       "      <td>41.341694</td>\n",
       "    </tr>\n",
       "    <tr>\n",
       "      <th>...</th>\n",
       "      <td>...</td>\n",
       "      <td>...</td>\n",
       "      <td>...</td>\n",
       "      <td>...</td>\n",
       "    </tr>\n",
       "    <tr>\n",
       "      <th>2019-12-24</th>\n",
       "      <td>69.421051</td>\n",
       "      <td>89.460503</td>\n",
       "      <td>67.221497</td>\n",
       "      <td>152.286926</td>\n",
       "    </tr>\n",
       "    <tr>\n",
       "      <th>2019-12-26</th>\n",
       "      <td>70.798401</td>\n",
       "      <td>93.438499</td>\n",
       "      <td>68.123497</td>\n",
       "      <td>153.535141</td>\n",
       "    </tr>\n",
       "    <tr>\n",
       "      <th>2019-12-27</th>\n",
       "      <td>70.771538</td>\n",
       "      <td>93.489998</td>\n",
       "      <td>67.732002</td>\n",
       "      <td>153.815781</td>\n",
       "    </tr>\n",
       "    <tr>\n",
       "      <th>2019-12-30</th>\n",
       "      <td>71.191589</td>\n",
       "      <td>92.344498</td>\n",
       "      <td>66.985497</td>\n",
       "      <td>152.490097</td>\n",
       "    </tr>\n",
       "    <tr>\n",
       "      <th>2019-12-31</th>\n",
       "      <td>71.711739</td>\n",
       "      <td>92.391998</td>\n",
       "      <td>66.969498</td>\n",
       "      <td>152.596558</td>\n",
       "    </tr>\n",
       "  </tbody>\n",
       "</table>\n",
       "<p>1258 rows × 4 columns</p>\n",
       "</div>"
      ],
      "text/plain": [
       "                 AAPL       AMZN      GOOGL        MSFT\n",
       "Date                                                   \n",
       "2015-01-02  24.531761  15.426000  26.477501   40.620667\n",
       "2015-01-05  23.840666  15.109500  25.973000   40.247124\n",
       "2015-01-06  23.842913  14.764500  25.332001   39.656399\n",
       "2015-01-07  24.177240  14.921000  25.257500   40.160248\n",
       "2015-01-08  25.106186  15.023000  25.345501   41.341694\n",
       "...               ...        ...        ...         ...\n",
       "2019-12-24  69.421051  89.460503  67.221497  152.286926\n",
       "2019-12-26  70.798401  93.438499  68.123497  153.535141\n",
       "2019-12-27  70.771538  93.489998  67.732002  153.815781\n",
       "2019-12-30  71.191589  92.344498  66.985497  152.490097\n",
       "2019-12-31  71.711739  92.391998  66.969498  152.596558\n",
       "\n",
       "[1258 rows x 4 columns]"
      ]
     },
     "execution_count": 16,
     "metadata": {},
     "output_type": "execute_result"
    }
   ],
   "source": [
    "# Fetch Data online. Skip the part if you've read data from csv file\n",
    "from pandas_datareader import data as pdr\n",
    "import yfinance as yf\n",
    "yf.pdr_override()\n",
    "# symbols = ['AAPL','GOOG','TSLA','MSFT','META','AMZN']\n",
    "symbols = ['AAPL','MSFT','AMZN','GOOGL']\n",
    "num_assets = len(symbols) #the number of assets\n",
    "data = pdr.get_data_yahoo(symbols,start=\"2015-01-01\", end=\"2020-01-01\")\n",
    "adj_close=data['Adj Close']\n",
    "adj_close"
   ]
  },
  {
   "cell_type": "code",
   "execution_count": 69,
   "metadata": {},
   "outputs": [],
   "source": [
    "# Calculate average returns for stocks as expected returns\n",
    "def calc_returns(price_data, ret_type=\"arithmatic\"):\n",
    "   \"\"\"\n",
    "   Parameters\n",
    "   price_data: price timeseries pd.DataFrame object.\n",
    "\n",
    "   ret_type: return calculation type. \\\"arithmatic\\\" or \\\"log\\\"\n",
    "   Returns:\n",
    "   returns timeseries pd.DataFrame object\n",
    "   \"\"\"\n",
    "\n",
    "   if ret_type==\"arithmatic\":\n",
    "      ret = price_data.pct_change().dropna()\n",
    "   elif ret_type==\"log\":\n",
    "      ret = np.log(price_data/price_data.shift()).dropna()\n",
    "   else:\n",
    "      raise ValueError(\"ret_type: return calculation type is not valid.\")\n",
    "   return(ret)\n"
   ]
  },
  {
   "cell_type": "code",
   "execution_count": 70,
   "metadata": {},
   "outputs": [
    {
     "data": {
      "text/html": [
       "<div>\n",
       "<style scoped>\n",
       "    .dataframe tbody tr th:only-of-type {\n",
       "        vertical-align: middle;\n",
       "    }\n",
       "\n",
       "    .dataframe tbody tr th {\n",
       "        vertical-align: top;\n",
       "    }\n",
       "\n",
       "    .dataframe thead th {\n",
       "        text-align: right;\n",
       "    }\n",
       "</style>\n",
       "<table border=\"1\" class=\"dataframe\">\n",
       "  <thead>\n",
       "    <tr style=\"text-align: right;\">\n",
       "      <th></th>\n",
       "      <th>AAPL</th>\n",
       "      <th>AMZN</th>\n",
       "      <th>GOOGL</th>\n",
       "      <th>MSFT</th>\n",
       "    </tr>\n",
       "    <tr>\n",
       "      <th>Date</th>\n",
       "      <th></th>\n",
       "      <th></th>\n",
       "      <th></th>\n",
       "      <th></th>\n",
       "    </tr>\n",
       "  </thead>\n",
       "  <tbody>\n",
       "    <tr>\n",
       "      <th>2015-01-05</th>\n",
       "      <td>-0.028576</td>\n",
       "      <td>-0.020731</td>\n",
       "      <td>-0.019238</td>\n",
       "      <td>-0.009238</td>\n",
       "    </tr>\n",
       "    <tr>\n",
       "      <th>2015-01-06</th>\n",
       "      <td>0.000094</td>\n",
       "      <td>-0.023098</td>\n",
       "      <td>-0.024989</td>\n",
       "      <td>-0.014786</td>\n",
       "    </tr>\n",
       "    <tr>\n",
       "      <th>2015-01-07</th>\n",
       "      <td>0.013925</td>\n",
       "      <td>0.010544</td>\n",
       "      <td>-0.002945</td>\n",
       "      <td>0.012625</td>\n",
       "    </tr>\n",
       "    <tr>\n",
       "      <th>2015-01-08</th>\n",
       "      <td>0.037703</td>\n",
       "      <td>0.006813</td>\n",
       "      <td>0.003478</td>\n",
       "      <td>0.028994</td>\n",
       "    </tr>\n",
       "    <tr>\n",
       "      <th>2015-01-09</th>\n",
       "      <td>0.001072</td>\n",
       "      <td>-0.011818</td>\n",
       "      <td>-0.012286</td>\n",
       "      <td>-0.008441</td>\n",
       "    </tr>\n",
       "    <tr>\n",
       "      <th>...</th>\n",
       "      <td>...</td>\n",
       "      <td>...</td>\n",
       "      <td>...</td>\n",
       "      <td>...</td>\n",
       "    </tr>\n",
       "    <tr>\n",
       "      <th>2019-12-24</th>\n",
       "      <td>0.000950</td>\n",
       "      <td>-0.002116</td>\n",
       "      <td>-0.004601</td>\n",
       "      <td>-0.000190</td>\n",
       "    </tr>\n",
       "    <tr>\n",
       "      <th>2019-12-26</th>\n",
       "      <td>0.019646</td>\n",
       "      <td>0.043506</td>\n",
       "      <td>0.013329</td>\n",
       "      <td>0.008163</td>\n",
       "    </tr>\n",
       "    <tr>\n",
       "      <th>2019-12-27</th>\n",
       "      <td>-0.000380</td>\n",
       "      <td>0.000551</td>\n",
       "      <td>-0.005763</td>\n",
       "      <td>0.001826</td>\n",
       "    </tr>\n",
       "    <tr>\n",
       "      <th>2019-12-30</th>\n",
       "      <td>0.005918</td>\n",
       "      <td>-0.012328</td>\n",
       "      <td>-0.011083</td>\n",
       "      <td>-0.008656</td>\n",
       "    </tr>\n",
       "    <tr>\n",
       "      <th>2019-12-31</th>\n",
       "      <td>0.007280</td>\n",
       "      <td>0.000514</td>\n",
       "      <td>-0.000239</td>\n",
       "      <td>0.000698</td>\n",
       "    </tr>\n",
       "  </tbody>\n",
       "</table>\n",
       "<p>1257 rows × 4 columns</p>\n",
       "</div>"
      ],
      "text/plain": [
       "                AAPL      AMZN     GOOGL      MSFT\n",
       "Date                                              \n",
       "2015-01-05 -0.028576 -0.020731 -0.019238 -0.009238\n",
       "2015-01-06  0.000094 -0.023098 -0.024989 -0.014786\n",
       "2015-01-07  0.013925  0.010544 -0.002945  0.012625\n",
       "2015-01-08  0.037703  0.006813  0.003478  0.028994\n",
       "2015-01-09  0.001072 -0.011818 -0.012286 -0.008441\n",
       "...              ...       ...       ...       ...\n",
       "2019-12-24  0.000950 -0.002116 -0.004601 -0.000190\n",
       "2019-12-26  0.019646  0.043506  0.013329  0.008163\n",
       "2019-12-27 -0.000380  0.000551 -0.005763  0.001826\n",
       "2019-12-30  0.005918 -0.012328 -0.011083 -0.008656\n",
       "2019-12-31  0.007280  0.000514 -0.000239  0.000698\n",
       "\n",
       "[1257 rows x 4 columns]"
      ]
     },
     "execution_count": 70,
     "metadata": {},
     "output_type": "execute_result"
    }
   ],
   "source": [
    "daily_ret = calc_returns(adj_close, ret_type=\"log\")\n",
    "daily_ret\n"
   ]
  },
  {
   "cell_type": "code",
   "execution_count": 73,
   "metadata": {},
   "outputs": [],
   "source": [
    "def calc_returns_stats(returns):\n",
    "    \"\"\"\n",
    "    Parameters\n",
    "    returns: returns timeseries pd.DataFrame object\n",
    "    Returns:\n",
    "    mean_returns: Avereage of returns\n",
    "    cov_matrix: returns Covariance matrix\n",
    "    \"\"\"\n",
    "    mean_returns = returns.mean()\n",
    "    corr_matrix = returns.corr()\n",
    "    cov_matrix = returns.cov()\n",
    "    return (mean_returns, corr_matrix, cov_matrix)\n"
   ]
  },
  {
   "cell_type": "code",
   "execution_count": 76,
   "metadata": {},
   "outputs": [
    {
     "data": {
      "text/html": [
       "<div>\n",
       "<style scoped>\n",
       "    .dataframe tbody tr th:only-of-type {\n",
       "        vertical-align: middle;\n",
       "    }\n",
       "\n",
       "    .dataframe tbody tr th {\n",
       "        vertical-align: top;\n",
       "    }\n",
       "\n",
       "    .dataframe thead th {\n",
       "        text-align: right;\n",
       "    }\n",
       "</style>\n",
       "<table border=\"1\" class=\"dataframe\">\n",
       "  <thead>\n",
       "    <tr style=\"text-align: right;\">\n",
       "      <th></th>\n",
       "      <th>AAPL</th>\n",
       "      <th>AMZN</th>\n",
       "      <th>GOOGL</th>\n",
       "      <th>MSFT</th>\n",
       "    </tr>\n",
       "    <tr>\n",
       "      <th>Date</th>\n",
       "      <th></th>\n",
       "      <th></th>\n",
       "      <th></th>\n",
       "      <th></th>\n",
       "    </tr>\n",
       "  </thead>\n",
       "  <tbody>\n",
       "    <tr>\n",
       "      <th>2015-01-05</th>\n",
       "      <td>-0.028576</td>\n",
       "      <td>-0.020731</td>\n",
       "      <td>-0.019238</td>\n",
       "      <td>-0.009238</td>\n",
       "    </tr>\n",
       "    <tr>\n",
       "      <th>2015-01-06</th>\n",
       "      <td>0.000094</td>\n",
       "      <td>-0.023098</td>\n",
       "      <td>-0.024989</td>\n",
       "      <td>-0.014786</td>\n",
       "    </tr>\n",
       "    <tr>\n",
       "      <th>2015-01-07</th>\n",
       "      <td>0.013925</td>\n",
       "      <td>0.010544</td>\n",
       "      <td>-0.002945</td>\n",
       "      <td>0.012625</td>\n",
       "    </tr>\n",
       "    <tr>\n",
       "      <th>2015-01-08</th>\n",
       "      <td>0.037703</td>\n",
       "      <td>0.006813</td>\n",
       "      <td>0.003478</td>\n",
       "      <td>0.028994</td>\n",
       "    </tr>\n",
       "    <tr>\n",
       "      <th>2015-01-09</th>\n",
       "      <td>0.001072</td>\n",
       "      <td>-0.011818</td>\n",
       "      <td>-0.012286</td>\n",
       "      <td>-0.008441</td>\n",
       "    </tr>\n",
       "    <tr>\n",
       "      <th>...</th>\n",
       "      <td>...</td>\n",
       "      <td>...</td>\n",
       "      <td>...</td>\n",
       "      <td>...</td>\n",
       "    </tr>\n",
       "    <tr>\n",
       "      <th>2019-12-24</th>\n",
       "      <td>0.000950</td>\n",
       "      <td>-0.002116</td>\n",
       "      <td>-0.004601</td>\n",
       "      <td>-0.000190</td>\n",
       "    </tr>\n",
       "    <tr>\n",
       "      <th>2019-12-26</th>\n",
       "      <td>0.019646</td>\n",
       "      <td>0.043506</td>\n",
       "      <td>0.013329</td>\n",
       "      <td>0.008163</td>\n",
       "    </tr>\n",
       "    <tr>\n",
       "      <th>2019-12-27</th>\n",
       "      <td>-0.000380</td>\n",
       "      <td>0.000551</td>\n",
       "      <td>-0.005763</td>\n",
       "      <td>0.001826</td>\n",
       "    </tr>\n",
       "    <tr>\n",
       "      <th>2019-12-30</th>\n",
       "      <td>0.005918</td>\n",
       "      <td>-0.012328</td>\n",
       "      <td>-0.011083</td>\n",
       "      <td>-0.008656</td>\n",
       "    </tr>\n",
       "    <tr>\n",
       "      <th>2019-12-31</th>\n",
       "      <td>0.007280</td>\n",
       "      <td>0.000514</td>\n",
       "      <td>-0.000239</td>\n",
       "      <td>0.000698</td>\n",
       "    </tr>\n",
       "  </tbody>\n",
       "</table>\n",
       "<p>1257 rows × 4 columns</p>\n",
       "</div>"
      ],
      "text/plain": [
       "                AAPL      AMZN     GOOGL      MSFT\n",
       "Date                                              \n",
       "2015-01-05 -0.028576 -0.020731 -0.019238 -0.009238\n",
       "2015-01-06  0.000094 -0.023098 -0.024989 -0.014786\n",
       "2015-01-07  0.013925  0.010544 -0.002945  0.012625\n",
       "2015-01-08  0.037703  0.006813  0.003478  0.028994\n",
       "2015-01-09  0.001072 -0.011818 -0.012286 -0.008441\n",
       "...              ...       ...       ...       ...\n",
       "2019-12-24  0.000950 -0.002116 -0.004601 -0.000190\n",
       "2019-12-26  0.019646  0.043506  0.013329  0.008163\n",
       "2019-12-27 -0.000380  0.000551 -0.005763  0.001826\n",
       "2019-12-30  0.005918 -0.012328 -0.011083 -0.008656\n",
       "2019-12-31  0.007280  0.000514 -0.000239  0.000698\n",
       "\n",
       "[1257 rows x 4 columns]"
      ]
     },
     "metadata": {},
     "output_type": "display_data"
    },
    {
     "data": {
      "text/plain": [
       "AAPL     0.000853\n",
       "AMZN     0.001424\n",
       "GOOGL    0.000738\n",
       "MSFT     0.001053\n",
       "dtype: float64"
      ]
     },
     "metadata": {},
     "output_type": "display_data"
    },
    {
     "data": {
      "text/html": [
       "<div>\n",
       "<style scoped>\n",
       "    .dataframe tbody tr th:only-of-type {\n",
       "        vertical-align: middle;\n",
       "    }\n",
       "\n",
       "    .dataframe tbody tr th {\n",
       "        vertical-align: top;\n",
       "    }\n",
       "\n",
       "    .dataframe thead th {\n",
       "        text-align: right;\n",
       "    }\n",
       "</style>\n",
       "<table border=\"1\" class=\"dataframe\">\n",
       "  <thead>\n",
       "    <tr style=\"text-align: right;\">\n",
       "      <th></th>\n",
       "      <th>AAPL</th>\n",
       "      <th>AMZN</th>\n",
       "      <th>GOOGL</th>\n",
       "      <th>MSFT</th>\n",
       "    </tr>\n",
       "  </thead>\n",
       "  <tbody>\n",
       "    <tr>\n",
       "      <th>AAPL</th>\n",
       "      <td>1.000000</td>\n",
       "      <td>0.496610</td>\n",
       "      <td>0.524817</td>\n",
       "      <td>0.575227</td>\n",
       "    </tr>\n",
       "    <tr>\n",
       "      <th>AMZN</th>\n",
       "      <td>0.496610</td>\n",
       "      <td>1.000000</td>\n",
       "      <td>0.647942</td>\n",
       "      <td>0.626203</td>\n",
       "    </tr>\n",
       "    <tr>\n",
       "      <th>GOOGL</th>\n",
       "      <td>0.524817</td>\n",
       "      <td>0.647942</td>\n",
       "      <td>1.000000</td>\n",
       "      <td>0.658674</td>\n",
       "    </tr>\n",
       "    <tr>\n",
       "      <th>MSFT</th>\n",
       "      <td>0.575227</td>\n",
       "      <td>0.626203</td>\n",
       "      <td>0.658674</td>\n",
       "      <td>1.000000</td>\n",
       "    </tr>\n",
       "  </tbody>\n",
       "</table>\n",
       "</div>"
      ],
      "text/plain": [
       "           AAPL      AMZN     GOOGL      MSFT\n",
       "AAPL   1.000000  0.496610  0.524817  0.575227\n",
       "AMZN   0.496610  1.000000  0.647942  0.626203\n",
       "GOOGL  0.524817  0.647942  1.000000  0.658674\n",
       "MSFT   0.575227  0.626203  0.658674  1.000000"
      ]
     },
     "metadata": {},
     "output_type": "display_data"
    },
    {
     "data": {
      "text/html": [
       "<div>\n",
       "<style scoped>\n",
       "    .dataframe tbody tr th:only-of-type {\n",
       "        vertical-align: middle;\n",
       "    }\n",
       "\n",
       "    .dataframe tbody tr th {\n",
       "        vertical-align: top;\n",
       "    }\n",
       "\n",
       "    .dataframe thead th {\n",
       "        text-align: right;\n",
       "    }\n",
       "</style>\n",
       "<table border=\"1\" class=\"dataframe\">\n",
       "  <thead>\n",
       "    <tr style=\"text-align: right;\">\n",
       "      <th></th>\n",
       "      <th>AAPL</th>\n",
       "      <th>AMZN</th>\n",
       "      <th>GOOGL</th>\n",
       "      <th>MSFT</th>\n",
       "    </tr>\n",
       "  </thead>\n",
       "  <tbody>\n",
       "    <tr>\n",
       "      <th>AAPL</th>\n",
       "      <td>0.000246</td>\n",
       "      <td>0.000142</td>\n",
       "      <td>0.000122</td>\n",
       "      <td>0.000132</td>\n",
       "    </tr>\n",
       "    <tr>\n",
       "      <th>AMZN</th>\n",
       "      <td>0.000142</td>\n",
       "      <td>0.000333</td>\n",
       "      <td>0.000176</td>\n",
       "      <td>0.000167</td>\n",
       "    </tr>\n",
       "    <tr>\n",
       "      <th>GOOGL</th>\n",
       "      <td>0.000122</td>\n",
       "      <td>0.000176</td>\n",
       "      <td>0.000221</td>\n",
       "      <td>0.000144</td>\n",
       "    </tr>\n",
       "    <tr>\n",
       "      <th>MSFT</th>\n",
       "      <td>0.000132</td>\n",
       "      <td>0.000167</td>\n",
       "      <td>0.000144</td>\n",
       "      <td>0.000215</td>\n",
       "    </tr>\n",
       "  </tbody>\n",
       "</table>\n",
       "</div>"
      ],
      "text/plain": [
       "           AAPL      AMZN     GOOGL      MSFT\n",
       "AAPL   0.000246  0.000142  0.000122  0.000132\n",
       "AMZN   0.000142  0.000333  0.000176  0.000167\n",
       "GOOGL  0.000122  0.000176  0.000221  0.000144\n",
       "MSFT   0.000132  0.000167  0.000144  0.000215"
      ]
     },
     "metadata": {},
     "output_type": "display_data"
    }
   ],
   "source": [
    "mean_returns, corr_matrix, cov_matrix = calc_returns_stats(daily_ret)\n",
    "display(daily_ret, mean_returns, corr_matrix, cov_matrix)\n"
   ]
  },
  {
   "cell_type": "code",
   "execution_count": 78,
   "metadata": {},
   "outputs": [],
   "source": [
    "def portfolio(weights, mean_returns, cov_matrix):\n",
    "    portfolio_return = np.dot(weights.reshape(1,-1), mean_returns.values.reshape(-1,1))\n",
    "    portfolio_var = np.dot(np.dot(weights.reshape(1,-1), cov_matrix.values),weights.reshape(-1,1))\n",
    "\n",
    "    return (portfolio_return.item()*252,portfolio_var.item()*252)"
   ]
  },
  {
   "cell_type": "code",
   "execution_count": 79,
   "metadata": {},
   "outputs": [],
   "source": [
    "weights=np.array([1/len(symbols) for i in range(len(symbols))])\n",
    "returns,variances=portfolio(weights, mean_returns, cov_matrix)\n",
    "rf=0.01 # assume annualized risk-free interest rate is 1%\n",
    "SharpeRatio=(returns-rf)/np.sqrt(variances)\n",
    "# print(f'The Expected Return of the Portfolio is {np.round(returns*100,2)}% and Variance is {np.round(variances*100,2)}%.\\n When risk-free interest rate is \n"
   ]
  },
  {
   "cell_type": "code",
   "execution_count": 81,
   "metadata": {},
   "outputs": [],
   "source": [
    "weights=np.array([0.1,0.2,0.3,0.3])\n",
    "returns,variances=portfolio(weights, mean_returns, cov_matrix)\n",
    "rf=0.01 # assume annualized risk-free interest rate is 1%\n",
    "SharpeRatio=(returns-rf)/np.sqrt(variances)\n",
    "# print(f'The Expected Return of the Portfolio is {np.round(returns*100,2)}% an"
   ]
  },
  {
   "cell_type": "code",
   "execution_count": 82,
   "metadata": {},
   "outputs": [],
   "source": [
    "rf = 0.01 # assume annualized risk-free rate is 1%\n",
    "# list containers to store random portfolios\n",
    "p_ret = []\n",
    "p_vol = []\n",
    "p_weights = []\n",
    "# Simulation times\n",
    "num_portfolios = 50000"
   ]
  },
  {
   "cell_type": "code",
   "execution_count": 1,
   "metadata": {},
   "outputs": [
    {
     "ename": "NameError",
     "evalue": "name 'num_portfolios' is not defined",
     "output_type": "error",
     "traceback": [
      "\u001b[1;31m---------------------------------------------------------------------------\u001b[0m",
      "\u001b[1;31mNameError\u001b[0m                                 Traceback (most recent call last)",
      "Cell \u001b[1;32mIn[1], line 1\u001b[0m\n\u001b[1;32m----> 1\u001b[0m \u001b[39mfor\u001b[39;00m i \u001b[39min\u001b[39;00m \u001b[39mrange\u001b[39m(num_portfolios):\n\u001b[0;32m      2\u001b[0m \n\u001b[0;32m      3\u001b[0m     \u001b[39m# Form random portfolio: Assign random weights to assets\u001b[39;00m\n\u001b[0;32m      4\u001b[0m     weights \u001b[39m=\u001b[39m np\u001b[39m.\u001b[39mrandom\u001b[39m.\u001b[39mrandom(num_assets) \u001b[39m# Random floats in the half-open interval [0.0, 1.0): Long-only portfolio\u001b[39;00m\n\u001b[0;32m      5\u001b[0m     weights \u001b[39m=\u001b[39m weights\u001b[39m/\u001b[39mnp\u001b[39m.\u001b[39msum(weights) \u001b[39m# Make sure sum is 1\u001b[39;00m\n",
      "\u001b[1;31mNameError\u001b[0m: name 'num_portfolios' is not defined"
     ]
    }
   ],
   "source": [
    "for i in range(num_portfolios):\n",
    "\n",
    "    # Form random portfolio: Assign random weights to assets\n",
    "    weights = np.random.random(num_assets) # Random floats in the half-open interval [0.0, 1.0): Long-only portfolio\n",
    "    weights = weights/np.sum(weights) # Make sure sum is 1\n",
    "    # Calculate portfolio returns and variance\n",
    "    porfolio_ret, porfolio_var = portfolio(weights, mean_returns, cov_matrix)\n",
    "    # Append the random portfolio into our simulation list\n",
    "    p_weights.append(weights)\n",
    "    p_ret.append(porfolio_ret)\n",
    "    p_vol.append(porfolio_var)\n",
    "\n",
    "# Store the simulation results into DataFrame\n",
    "data = {'Returns':p_ret, 'Variances':p_vol}\n",
    "for counter, symbol in enumerate(symbols):\n",
    "    data[symbol+' weight'] = [w[counter] for w in p_weights]\n",
    "\n",
    "portfolios = pd.DataFrame(data)\n",
    "portfolios['Sharpe Ratio']=(portfolios['Returns']-rf)/np.sqrt(portfolios['Variances'])\n",
    "portfolios\n"
   ]
  },
  {
   "cell_type": "code",
   "execution_count": 86,
   "metadata": {},
   "outputs": [
    {
     "data": {
      "text/plain": [
       "<Axes: xlabel='Variances', ylabel='Returns'>"
      ]
     },
     "execution_count": 86,
     "metadata": {},
     "output_type": "execute_result"
    },
    {
     "data": {
      "image/png": "[encoded data removed]",
      "text/plain": [
       "<Figure size 640x480 with 1 Axes>"
      ]
     },
     "metadata": {},
     "output_type": "display_data"
    }
   ],
   "source": [
    "portfolios.plot.scatter(x='Variances', y='Returns', grid=True) "
   ]
  },
  {
   "cell_type": "code",
   "execution_count": 87,
   "metadata": {},
   "outputs": [
    {
     "data": {
      "text/html": [
       "<div>\n",
       "<style scoped>\n",
       "    .dataframe tbody tr th:only-of-type {\n",
       "        vertical-align: middle;\n",
       "    }\n",
       "\n",
       "    .dataframe tbody tr th {\n",
       "        vertical-align: top;\n",
       "    }\n",
       "\n",
       "    .dataframe thead th {\n",
       "        text-align: right;\n",
       "    }\n",
       "</style>\n",
       "<table border=\"1\" class=\"dataframe\">\n",
       "  <thead>\n",
       "    <tr style=\"text-align: right;\">\n",
       "      <th></th>\n",
       "      <th>Returns</th>\n",
       "      <th>Variances</th>\n",
       "      <th>AAPL weight</th>\n",
       "      <th>MSFT weight</th>\n",
       "      <th>AMZN weight</th>\n",
       "      <th>GOOGL weight</th>\n",
       "      <th>Sharpe Ratio</th>\n",
       "    </tr>\n",
       "  </thead>\n",
       "  <tbody>\n",
       "    <tr>\n",
       "      <th>91835</th>\n",
       "      <td>0.223191</td>\n",
       "      <td>0.041355</td>\n",
       "      <td>0.308357</td>\n",
       "      <td>0.008439</td>\n",
       "      <td>0.345857</td>\n",
       "      <td>0.337348</td>\n",
       "      <td>1.048347</td>\n",
       "    </tr>\n",
       "  </tbody>\n",
       "</table>\n",
       "</div>"
      ],
      "text/plain": [
       "        Returns  Variances  AAPL weight  MSFT weight  AMZN weight  \\\n",
       "91835  0.223191   0.041355     0.308357     0.008439     0.345857   \n",
       "\n",
       "       GOOGL weight  Sharpe Ratio  \n",
       "91835      0.337348      1.048347  "
      ]
     },
     "execution_count": 87,
     "metadata": {},
     "output_type": "execute_result"
    }
   ],
   "source": [
    "# Global Minimum Variance Portfolio\n",
    "portfolios[portfolios['Variances']==portfolios['Variances'].min()]\n"
   ]
  },
  {
   "cell_type": "code",
   "execution_count": 88,
   "metadata": {},
   "outputs": [
    {
     "data": {
      "text/plain": [
       "Returns         0.223191\n",
       "Variances       0.041355\n",
       "AAPL weight     0.308357\n",
       "MSFT weight     0.008439\n",
       "AMZN weight     0.345857\n",
       "GOOGL weight    0.337348\n",
       "Sharpe Ratio    1.048347\n",
       "Name: 91835, dtype: float64"
      ]
     },
     "execution_count": 88,
     "metadata": {},
     "output_type": "execute_result"
    }
   ],
   "source": [
    "min_var_port = portfolios.iloc[portfolios['Variances'].idxmin()]\n",
    "min_var_port"
   ]
  },
  {
   "cell_type": "code",
   "execution_count": 89,
   "metadata": {},
   "outputs": [
    {
     "ename": "SyntaxError",
     "evalue": "unterminated string literal (detected at line 3) (3037035772.py, line 3)",
     "output_type": "error",
     "traceback": [
      "\u001b[1;36m  Cell \u001b[1;32mIn[89], line 3\u001b[1;36m\u001b[0m\n\u001b[1;33m    print(f\"Annual Sharpe Ratio: {round(min_var_port['Sharpe Ratio'],3)} | Annual Return: % {round(min_var_port['Returns']*100,2)}\u001b[0m\n\u001b[1;37m          ^\u001b[0m\n\u001b[1;31mSyntaxError\u001b[0m\u001b[1;31m:\u001b[0m unterminated string literal (detected at line 3)\n"
     ]
    }
   ],
   "source": [
    "# Output Global-Minimum Variance portfolio\n",
    "print(\"\\nPortfolio with Minimum-Variance:\\n\")\n",
    "print(f\"Annual Sharpe Ratio: {round(min_var_port['Sharpe Ratio'],3)} | Annual Return: % {round(min_var_port['Returns']*100,2)}\n",
    "for index,symbol in enumerate(symbols):\n",
    " print(f'{symbol}:\\t% {round(min_var_port[index+2]*100,2)}')"
   ]
  },
  {
   "cell_type": "code",
   "execution_count": 92,
   "metadata": {},
   "outputs": [],
   "source": [
    "import scipy.optimize as opt"
   ]
  },
  {
   "cell_type": "code",
   "execution_count": 91,
   "metadata": {},
   "outputs": [],
   "source": [
    "# Objective Function: Minimize portfolio variance\n",
    "def portfolio_variance(weights, mean_returns, cov_matrix):\n",
    "    portfolio_return, portfolio_var = portfolio(weights, mean_returns, cov_matrix)\n",
    "    return(portfolio_var)\n",
    "\n",
    "def minimize_portfolio_variance(mean_returns, cov_matrix, risk_free_rate=0, w_bounds=(0,1)):\n",
    "    \"This function finds the portfolio weights which minimize the portfolio volatility(variance)\"\n",
    "    init_guess = np.array([1/len(mean_returns) for i in range(len(mean_returns))])\n",
    "    args = (mean_returns, cov_matrix)\n",
    "    constraints = ({'type': 'eq', 'fun': lambda x: np.sum(x) - 1})\n",
    "    result = opt.minimize(fun=portfolio_variance,\n",
    "                          x0=init_guess,\n",
    "                          args=args,\n",
    "                          method='SLSQP',\n",
    "                          bounds=tuple(w_bounds for i in range(len(mean_retures))),\n",
    "                          constraints=constraints,\n",
    "                          )\n",
    "                            \n",
    "\n",
    "    if result['success']:\n",
    "        print(result['message'])\n",
    "        min_var = result['fun']\n",
    "        min_var_weights = result['x']\n",
    "        min_var_return, min_var_variance= portfolio(min_var_weights, mean_returns, cov_matrix)\n",
    "\n",
    "        min_var_sharpe = ((min_var_return-risk_free_rate)/np.sqrt(min_var_variance))\n",
    "        return(min_var_sharpe, min_var_weights, min_var_return, min_var_variance)\n",
    "    else:\n",
    "        print(\"Optimization operation was not succesfull!\")\n",
    "        print(result['message'])\n",
    "        return(None)\n"
   ]
  }
 ],
 "metadata": {
  "kernelspec": {
   "display_name": "cuhk",
   "language": "python",
   "name": "python3"
  },
  "language_info": {
   "codemirror_mode": {
    "name": "ipython",
    "version": 3
   },
   "file_extension": ".py",
   "mimetype": "text/x-python",
   "name": "python",
   "nbconvert_exporter": "python",
   "pygments_lexer": "ipython3",
   "version": "3.11.4"
  },
  "orig_nbformat": 4
 },
 "nbformat": 4,
 "nbformat_minor": 2
}
