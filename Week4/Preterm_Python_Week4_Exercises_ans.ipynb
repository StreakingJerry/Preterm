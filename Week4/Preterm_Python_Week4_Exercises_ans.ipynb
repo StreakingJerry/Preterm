{
 "cells": [
  {
   "cell_type": "markdown",
   "id": "45797b2f",
   "metadata": {},
   "source": [
    "# Exercises-Week4"
   ]
  },
  {
   "cell_type": "markdown",
   "id": "d6e2a5de",
   "metadata": {},
   "source": [
    "## Question-1"
   ]
  },
  {
   "cell_type": "markdown",
   "id": "c8ae8a26",
   "metadata": {},
   "source": [
    "Assuming that $ A=\\begin{bmatrix}\n",
    "2 & 5 & 5  \\\\\n",
    "1 & 7 & 5  \\\\\n",
    "2 & -7 & 2  \\\\\n",
    "\\end{bmatrix}  $, $ B=\\begin{bmatrix}\n",
    "1 & 2 & -5  \\\\\n",
    "3 & 4 & 3  \\\\\n",
    "\\end{bmatrix}  $, $ y=\\begin{bmatrix}\n",
    "5   \\\\\n",
    "2   \\\\\n",
    "8   \\\\\n",
    "\\end{bmatrix}  $ , $ z=\\begin{bmatrix}\n",
    "-15   \\\\\n",
    "7   \\\\\n",
    "-11   \\\\\n",
    "\\end{bmatrix}  $ \\\n",
    "calculate each of the following:"
   ]
  },
  {
   "cell_type": "markdown",
   "id": "75fb7102",
   "metadata": {},
   "source": [
    "(1) $ BA $"
   ]
  },
  {
   "cell_type": "code",
   "execution_count": null,
   "id": "3bf20bfa",
   "metadata": {},
   "outputs": [],
   "source": [
    "# Write down your code here.\n",
    "\n",
    "\n"
   ]
  },
  {
   "cell_type": "markdown",
   "id": "6dfef825",
   "metadata": {},
   "source": [
    "Sample Answer"
   ]
  },
  {
   "cell_type": "code",
   "execution_count": 18,
   "id": "21a654f5",
   "metadata": {},
   "outputs": [
    {
     "data": {
      "text/plain": [
       "array([[-6, 54,  5],\n",
       "       [16, 22, 41]])"
      ]
     },
     "execution_count": 18,
     "metadata": {},
     "output_type": "execute_result"
    }
   ],
   "source": [
    "# Write down your code here.\n",
    "\n",
    "A = np.array([[2,5,5],[1,7,5],[2,-7,2]])\n",
    "B = np.array([[1,2,-5],[3,4,3]])\n",
    "np.dot(B,A) \n"
   ]
  },
  {
   "cell_type": "markdown",
   "id": "0409c6c2",
   "metadata": {},
   "source": [
    "(2) $ AB^T $"
   ]
  },
  {
   "cell_type": "code",
   "execution_count": null,
   "id": "67799a56",
   "metadata": {},
   "outputs": [],
   "source": [
    "# Write down your code here.\n",
    "\n",
    "\n"
   ]
  },
  {
   "cell_type": "markdown",
   "id": "9c76b40b",
   "metadata": {},
   "source": [
    "Sample Answer"
   ]
  },
  {
   "cell_type": "code",
   "execution_count": 19,
   "id": "03679ddc",
   "metadata": {},
   "outputs": [
    {
     "data": {
      "text/plain": [
       "array([[-13,  41],\n",
       "       [-10,  46],\n",
       "       [-22, -16]])"
      ]
     },
     "execution_count": 19,
     "metadata": {},
     "output_type": "execute_result"
    }
   ],
   "source": [
    "# Write down your code here.\n",
    "\n",
    "A = np.array([[2,5,5],[1,7,5],[2,-7,2]])\n",
    "B = np.array([[1,2,-5],[3,4,3]])\n",
    "np.dot(A,B.T) \n"
   ]
  },
  {
   "cell_type": "markdown",
   "id": "8b04be70",
   "metadata": {},
   "source": [
    "(3) $ Ay $"
   ]
  },
  {
   "cell_type": "code",
   "execution_count": null,
   "id": "5e86125f",
   "metadata": {},
   "outputs": [],
   "source": [
    "# Write down your code here.\n",
    "\n",
    "\n"
   ]
  },
  {
   "cell_type": "markdown",
   "id": "1a813716",
   "metadata": {},
   "source": [
    "Sample Answer"
   ]
  },
  {
   "cell_type": "code",
   "execution_count": 40,
   "id": "40853e0c",
   "metadata": {},
   "outputs": [
    {
     "data": {
      "text/plain": [
       "array([[60],\n",
       "       [59],\n",
       "       [12]])"
      ]
     },
     "execution_count": 40,
     "metadata": {},
     "output_type": "execute_result"
    }
   ],
   "source": [
    "# Write down your code here.\n",
    "\n",
    "A = np.array([[2,5,5],[1,7,5],[2,-7,2]])\n",
    "y = np.array([[5],[2],[8]])\n",
    "np.dot(A,y) "
   ]
  },
  {
   "cell_type": "markdown",
   "id": "bd6a40cc",
   "metadata": {},
   "source": [
    "(4) $ y^Tz $"
   ]
  },
  {
   "cell_type": "code",
   "execution_count": 41,
   "id": "3896b2cb",
   "metadata": {},
   "outputs": [],
   "source": [
    "# Write down your code here.\n",
    "\n",
    "\n"
   ]
  },
  {
   "cell_type": "markdown",
   "id": "574433d1",
   "metadata": {},
   "source": [
    "Sample Answer"
   ]
  },
  {
   "cell_type": "code",
   "execution_count": 42,
   "id": "2a8c3369",
   "metadata": {},
   "outputs": [
    {
     "data": {
      "text/plain": [
       "array([[ -50],\n",
       "       [ -21],\n",
       "       [-101]])"
      ]
     },
     "execution_count": 42,
     "metadata": {},
     "output_type": "execute_result"
    }
   ],
   "source": [
    "# Write down your code here.\n",
    "\n",
    "y = np.array([[5],[2],[8]])\n",
    "y = np.array([[-15],[7],[-11]])\n",
    "np.dot(A,y) \n"
   ]
  },
  {
   "cell_type": "markdown",
   "id": "aa6a2913",
   "metadata": {},
   "source": [
    "## Question-2"
   ]
  },
  {
   "cell_type": "markdown",
   "id": "bea4acee",
   "metadata": {},
   "source": [
    "Suppose we have the following system of equations and we'd like to solve for the values of x, y, and z:\n",
    "\n",
    "6x + 2y + 3z = 31\n",
    "\n",
    "3x + 5y – 2z = 20\n",
    "\n",
    "8x + y - 4z = 30"
   ]
  },
  {
   "cell_type": "code",
   "execution_count": 43,
   "id": "5c721d44",
   "metadata": {},
   "outputs": [],
   "source": [
    "# Write down your code here.\n",
    "\n",
    "\n",
    "\n"
   ]
  },
  {
   "cell_type": "markdown",
   "id": "a15b6558",
   "metadata": {},
   "source": [
    "Sample Answer"
   ]
  },
  {
   "cell_type": "code",
   "execution_count": 44,
   "id": "625eb5fb",
   "metadata": {},
   "outputs": [
    {
     "data": {
      "text/plain": [
       "array([4., 2., 1.])"
      ]
     },
     "execution_count": 44,
     "metadata": {},
     "output_type": "execute_result"
    }
   ],
   "source": [
    "import numpy as np\n",
    "\n",
    "#define left-hand side of equation\n",
    "left_side = np.array([[6, 2, 3], [3, 5, -2], [8, 1, -4]])\n",
    "\n",
    "#define right-hand side of equation\n",
    "right_side = np.array([31, 20, 30])\n",
    "\n",
    "#solve for x, y, and z\n",
    "np.linalg.inv(left_side).dot(right_side)"
   ]
  },
  {
   "cell_type": "markdown",
   "id": "7067314c",
   "metadata": {},
   "source": [
    "## Question-3"
   ]
  },
  {
   "cell_type": "markdown",
   "id": "e7f3eda9",
   "metadata": {},
   "source": [
    "We will model the linear relationship between the stock excess returns and the market excess returns.\n",
    "\n",
    "First, you need to load the data from the csv file ('data_exercises_week4.csv').\n",
    "\n",
    "Secondly, model the linear relationship between 'Exret' and 'mktrf'.\n",
    "\n",
    "$$ y=\\beta x + \\alpha $$\n",
    "\n",
    "In this context, the dependent variable y is 'Exret' and the independent variable x is 'mktrf'.\n",
    "\n",
    "Please follow what we' ve learned in class to figure out the coefficient estimates and plot them.\n"
   ]
  },
  {
   "cell_type": "code",
   "execution_count": null,
   "id": "f2ae2186",
   "metadata": {},
   "outputs": [],
   "source": [
    "# Write down your code here.\n",
    "\n",
    "\n",
    "\n"
   ]
  },
  {
   "cell_type": "markdown",
   "id": "6a796202",
   "metadata": {},
   "source": [
    "Sample Answer"
   ]
  },
  {
   "cell_type": "code",
   "execution_count": 29,
   "id": "48eed7fa",
   "metadata": {},
   "outputs": [],
   "source": [
    "import numpy as np\n",
    "import pandas as pd\n",
    "import datetime\n",
    "import matplotlib.pyplot as plt\n",
    "\n",
    "## To use statsmodels for linear regression\n",
    "import statsmodels.formula.api as smf"
   ]
  },
  {
   "cell_type": "code",
   "execution_count": 36,
   "id": "4d11ecff",
   "metadata": {},
   "outputs": [],
   "source": [
    "# Read data from csv file\n",
    "df=pd.read_csv('data_exercises_week4.csv')"
   ]
  },
  {
   "cell_type": "code",
   "execution_count": 37,
   "id": "d7c1f937",
   "metadata": {},
   "outputs": [
    {
     "name": "stdout",
     "output_type": "stream",
     "text": [
      "                            OLS Regression Results                            \n",
      "==============================================================================\n",
      "Dep. Variable:                  exret   R-squared:                       0.435\n",
      "Model:                            OLS   Adj. R-squared:                  0.433\n",
      "Method:                 Least Squares   F-statistic:                     191.8\n",
      "Date:                Tue, 08 Aug 2023   Prob (F-statistic):           9.98e-33\n",
      "Time:                        00:23:33   Log-Likelihood:                 510.08\n",
      "No. Observations:                 251   AIC:                            -1016.\n",
      "Df Residuals:                     249   BIC:                            -1009.\n",
      "Df Model:                           1                                         \n",
      "Covariance Type:            nonrobust                                         \n",
      "==============================================================================\n",
      "                 coef    std err          t      P>|t|      [0.025      0.975]\n",
      "------------------------------------------------------------------------------\n",
      "Intercept     -0.0028      0.002     -1.389      0.166      -0.007       0.001\n",
      "mktrf          1.7467      0.126     13.850      0.000       1.498       1.995\n",
      "==============================================================================\n",
      "Omnibus:                       25.548   Durbin-Watson:                   1.958\n",
      "Prob(Omnibus):                  0.000   Jarque-Bera (JB):               58.477\n",
      "Skew:                          -0.476   Prob(JB):                     2.00e-13\n",
      "Kurtosis:                       5.165   Cond. No.                         62.8\n",
      "==============================================================================\n",
      "\n",
      "Notes:\n",
      "[1] Standard Errors assume that the covariance matrix of the errors is correctly specified.\n"
     ]
    }
   ],
   "source": [
    "### Fit a simple linear regression model to the data using statsmodels \n",
    "\n",
    "### Create an instance of the class OLS\n",
    "slr_sm_model = smf.ols('exret ~ mktrf', data=df)\n",
    "\n",
    "### Fit the model (statsmodels calculates beta_0 and beta_1 here)\n",
    "slr_sm_model_fit = slr_sm_model.fit()\n",
    "\n",
    "### Summarize the model\n",
    "\n",
    "print(slr_sm_model_fit.summary()) \n",
    "\n",
    "param_slr = slr_sm_model_fit.params"
   ]
  },
  {
   "cell_type": "code",
   "execution_count": 38,
   "id": "ad655a63",
   "metadata": {},
   "outputs": [
    {
     "name": "stdout",
     "output_type": "stream",
     "text": [
      "====================================================================\n",
      "The intercept in the statsmodels regression model is -0.0028\n",
      "The slope in the statsmodels regression model is 1.7467\n",
      "====================================================================\n"
     ]
    }
   ],
   "source": [
    "### Print the parameter estimates of the simple linear regression model\n",
    "\n",
    "print(\"====================================================================\")\n",
    "print(\"The intercept in the statsmodels regression model is\", \\\n",
    "      np.round(param_slr.Intercept, 4))\n",
    "print(\"The slope in the statsmodels regression model is\", \\\n",
    "      np.round(param_slr.mktrf, 4))\n",
    "print(\"====================================================================\")"
   ]
  },
  {
   "cell_type": "code",
   "execution_count": 39,
   "id": "37bc0249",
   "metadata": {},
   "outputs": [
    {
     "data": {
      "image/png": "[encoded data removed]",
      "text/plain": [
       "<Figure size 720x432 with 1 Axes>"
      ]
     },
     "metadata": {
      "needs_background": "light"
     },
     "output_type": "display_data"
    }
   ],
   "source": [
    "### Linear regression plot of X (spy) and Y (ko)\n",
    "plt.figure(figsize = (10, 6))\n",
    "plt.rcParams.update({'font.size': 14})\n",
    "plt.xlabel(\"market excess returns\")\n",
    "plt.ylabel(\"stock excess returns\")\n",
    "plt.title(\"Simple linear regression model\")\n",
    "plt.scatter(df['mktrf'],df['exret'])\n",
    "plt.plot(df['mktrf'], param_slr.Intercept+param_slr.mktrf * df['mktrf'],\n",
    "         label='Y={:.4f}+{:.4f}X'.format(param_slr.Intercept, param_slr.mktrf), \n",
    "         color='red')\n",
    "plt.legend()\n",
    "plt.show()"
   ]
  }
 ],
 "metadata": {
  "kernelspec": {
   "display_name": "Python 3 (ipykernel)",
   "language": "python",
   "name": "python3"
  },
  "language_info": {
   "codemirror_mode": {
    "name": "ipython",
    "version": 3
   },
   "file_extension": ".py",
   "mimetype": "text/x-python",
   "name": "python",
   "nbconvert_exporter": "python",
   "pygments_lexer": "ipython3",
   "version": "3.7.11"
  },
  "toc": {
   "base_numbering": 1,
   "nav_menu": {},
   "number_sections": true,
   "sideBar": true,
   "skip_h1_title": false,
   "title_cell": "Table of Contents",
   "title_sidebar": "Contents",
   "toc_cell": false,
   "toc_position": {},
   "toc_section_display": true,
   "toc_window_display": false
  },
  "varInspector": {
   "cols": {
    "lenName": 16,
    "lenType": 16,
    "lenVar": 40
   },
   "kernels_config": {
    "python": {
     "delete_cmd_postfix": "",
     "delete_cmd_prefix": "del ",
     "library": "var_list.py",
     "varRefreshCmd": "print(var_dic_list())"
    },
    "r": {
     "delete_cmd_postfix": ") ",
     "delete_cmd_prefix": "rm(",
     "library": "var_list.r",
     "varRefreshCmd": "cat(var_dic_list()) "
    }
   },
   "types_to_exclude": [
    "module",
    "function",
    "builtin_function_or_method",
    "instance",
    "_Feature"
   ],
   "window_display": false
  }
 },
 "nbformat": 4,
 "nbformat_minor": 5
}
