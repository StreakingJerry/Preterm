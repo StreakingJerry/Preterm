{
 "cells": [
  {
   "cell_type": "markdown",
   "id": "50f07378",
   "metadata": {},
   "source": [
    " ![title](image3.png)"
   ]
  },
  {
   "cell_type": "markdown",
   "id": "45797b2f",
   "metadata": {},
   "source": [
    "# Exercises-Week4"
   ]
  },
  {
   "cell_type": "markdown",
   "id": "d6e2a5de",
   "metadata": {},
   "source": [
    "## Question-1"
   ]
  },
  {
   "cell_type": "markdown",
   "id": "c8ae8a26",
   "metadata": {},
   "source": [
    "Assuming that $ A=\\begin{bmatrix}\n",
    "2 & 5 & 5  \\\\\n",
    "1 & 7 & 5  \\\\\n",
    "2 & -7 & 2  \\\\\n",
    "\\end{bmatrix}  $, $ B=\\begin{bmatrix}\n",
    "1 & 2 & -5  \\\\\n",
    "3 & 4 & 3  \\\\\n",
    "\\end{bmatrix}  $, $ y=\\begin{bmatrix}\n",
    "5   \\\\\n",
    "2   \\\\\n",
    "8   \\\\\n",
    "\\end{bmatrix}  $ , $ z=\\begin{bmatrix}\n",
    "-15   \\\\\n",
    "7   \\\\\n",
    "-11   \\\\\n",
    "\\end{bmatrix}  $ \\\n",
    "calculate each of the following:"
   ]
  },
  {
   "cell_type": "markdown",
   "id": "75fb7102",
   "metadata": {},
   "source": [
    "(1) $ BA $"
   ]
  },
  {
   "cell_type": "code",
   "execution_count": null,
   "id": "3bf20bfa",
   "metadata": {},
   "outputs": [],
   "source": [
    "# Write down your code here.\n",
    "\n",
    "\n"
   ]
  },
  {
   "cell_type": "markdown",
   "id": "0409c6c2",
   "metadata": {},
   "source": [
    "(2) $ AB^T $"
   ]
  },
  {
   "cell_type": "code",
   "execution_count": null,
   "id": "67799a56",
   "metadata": {},
   "outputs": [],
   "source": [
    "# Write down your code here.\n",
    "\n",
    "\n"
   ]
  },
  {
   "cell_type": "markdown",
   "id": "8b04be70",
   "metadata": {},
   "source": [
    "(3) $ Ay $"
   ]
  },
  {
   "cell_type": "code",
   "execution_count": null,
   "id": "5e86125f",
   "metadata": {},
   "outputs": [],
   "source": [
    "# Write down your code here.\n",
    "\n",
    "\n"
   ]
  },
  {
   "cell_type": "markdown",
   "id": "bd6a40cc",
   "metadata": {},
   "source": [
    "(4) $ y^Tz $"
   ]
  },
  {
   "cell_type": "code",
   "execution_count": null,
   "id": "2a8c3369",
   "metadata": {},
   "outputs": [],
   "source": [
    "# Write down your code here.\n",
    "\n",
    "\n"
   ]
  },
  {
   "cell_type": "markdown",
   "id": "aa6a2913",
   "metadata": {},
   "source": [
    "## Question-2"
   ]
  },
  {
   "cell_type": "markdown",
   "id": "bea4acee",
   "metadata": {},
   "source": [
    "Suppose we have the following system of equations and we'd like to solve for the values of x, y, and z:\n",
    "\n",
    "6x + 2y + 3z = 31\n",
    "\n",
    "3x + 5y – 2z = 20\n",
    "\n",
    "8x + y - 4z = 30"
   ]
  },
  {
   "cell_type": "code",
   "execution_count": null,
   "id": "5c721d44",
   "metadata": {},
   "outputs": [],
   "source": [
    "# Write down your code here.\n",
    "\n",
    "\n",
    "\n"
   ]
  },
  {
   "cell_type": "markdown",
   "id": "7067314c",
   "metadata": {},
   "source": [
    "## Question-3"
   ]
  },
  {
   "cell_type": "markdown",
   "id": "0db40932",
   "metadata": {},
   "source": [
    "We will model the linear relationship between the stock excess returns and the market excess returns.\n",
    "\n",
    "First, you need to load the data from the csv file ('data_exercises_week4.csv').\n",
    "\n",
    "Secondly, model the linear relationship between 'Exret' and 'mktrf'.\n",
    "\n",
    "$$ y=\\beta x + \\alpha $$\n",
    "\n",
    "In this context, the dependent variable y is 'Exret' and the independent variable x is 'mktrf'.\n",
    "\n",
    "Please follow what we' ve learned in class to figure out the coefficient estimates and plot them."
   ]
  },
  {
   "cell_type": "code",
   "execution_count": null,
   "id": "f2ae2186",
   "metadata": {},
   "outputs": [],
   "source": [
    "# Write down your code here.\n",
    "\n",
    "\n",
    "\n"
   ]
  },
  {
   "cell_type": "markdown",
   "id": "010763c6",
   "metadata": {},
   "source": [
    "# Submission\n",
    "\n",
    "* Please submit your exercises via the link: https://forms.gle/xGBvaiBYDNot8GAcA \n",
    "    - When uploading exercises, you need to sign in to Google.\n",
    "    - Put the exercise questions(.ipynb, .py, .markdown, .html, or .pdf) into one file named with StudentID_FullName_Week4.\n",
    "    - The submission deadline is Saturday, Aug 12, at 24:00. Early submission will be regarded as an advantage.\n",
    "    - Only for students who cannot access Google Drive, please submit your exercises via Baidu Netdisk. https://pan.baidu.com/disk/main#/transfer/send?surl=ACQAAAAAABEBNQ"
   ]
  }
 ],
 "metadata": {
  "kernelspec": {
   "display_name": "Python 3 (ipykernel)",
   "language": "python",
   "name": "python3"
  },
  "language_info": {
   "codemirror_mode": {
    "name": "ipython",
    "version": 3
   },
   "file_extension": ".py",
   "mimetype": "text/x-python",
   "name": "python",
   "nbconvert_exporter": "python",
   "pygments_lexer": "ipython3",
   "version": "3.7.11"
  },
  "toc": {
   "base_numbering": 1,
   "nav_menu": {},
   "number_sections": true,
   "sideBar": true,
   "skip_h1_title": false,
   "title_cell": "Table of Contents",
   "title_sidebar": "Contents",
   "toc_cell": false,
   "toc_position": {},
   "toc_section_display": true,
   "toc_window_display": false
  },
  "varInspector": {
   "cols": {
    "lenName": 16,
    "lenType": 16,
    "lenVar": 40
   },
   "kernels_config": {
    "python": {
     "delete_cmd_postfix": "",
     "delete_cmd_prefix": "del ",
     "library": "var_list.py",
     "varRefreshCmd": "print(var_dic_list())"
    },
    "r": {
     "delete_cmd_postfix": ") ",
     "delete_cmd_prefix": "rm(",
     "library": "var_list.r",
     "varRefreshCmd": "cat(var_dic_list()) "
    }
   },
   "types_to_exclude": [
    "module",
    "function",
    "builtin_function_or_method",
    "instance",
    "_Feature"
   ],
   "window_display": false
  }
 },
 "nbformat": 4,
 "nbformat_minor": 5
}
