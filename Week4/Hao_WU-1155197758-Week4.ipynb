{
 "cells": [
  {
   "cell_type": "markdown",
   "id": "50f07378",
   "metadata": {},
   "source": [
    " ![title](image3.png)"
   ]
  },
  {
   "cell_type": "markdown",
   "id": "45797b2f",
   "metadata": {},
   "source": [
    "# Exercises-Week4"
   ]
  },
  {
   "cell_type": "markdown",
   "id": "d6e2a5de",
   "metadata": {},
   "source": [
    "## Question-1"
   ]
  },
  {
   "cell_type": "markdown",
   "id": "c8ae8a26",
   "metadata": {},
   "source": [
    "Assuming that $ A=\\begin{bmatrix}\n",
    "2 & 5 & 5  \\\\\n",
    "1 & 7 & 5  \\\\\n",
    "2 & -7 & 2  \\\\\n",
    "\\end{bmatrix}  $, $ B=\\begin{bmatrix}\n",
    "1 & 2 & -5  \\\\\n",
    "3 & 4 & 3  \\\\\n",
    "\\end{bmatrix}  $, $ y=\\begin{bmatrix}\n",
    "5   \\\\\n",
    "2   \\\\\n",
    "8   \\\\\n",
    "\\end{bmatrix}  $ , $ z=\\begin{bmatrix}\n",
    "-15   \\\\\n",
    "7   \\\\\n",
    "-11   \\\\\n",
    "\\end{bmatrix}  $ \\\n",
    "calculate each of the following:"
   ]
  },
  {
   "cell_type": "code",
   "execution_count": 1,
   "id": "487a0cf8",
   "metadata": {},
   "outputs": [],
   "source": [
    "import pandas as pd\n",
    "import numpy as np\n",
    "\n",
    "A = np.array([[2,5,5],[1,7,5],[2,-7,2]])\n",
    "B = np.array([[1,2,-5],[3,4,3]])\n",
    "y = np.array([[5,2,8]]).T\n",
    "z = np.array([[-15,7,-11]]).T"
   ]
  },
  {
   "cell_type": "markdown",
   "id": "75fb7102",
   "metadata": {},
   "source": [
    "(1) $ BA $"
   ]
  },
  {
   "cell_type": "code",
   "execution_count": 2,
   "id": "3bf20bfa",
   "metadata": {},
   "outputs": [
    {
     "data": {
      "text/plain": [
       "array([[-6, 54,  5],\n",
       "       [16, 22, 41]])"
      ]
     },
     "execution_count": 2,
     "metadata": {},
     "output_type": "execute_result"
    }
   ],
   "source": [
    "# Write down your code here.\n",
    "\n",
    "B.dot(A)\n"
   ]
  },
  {
   "cell_type": "markdown",
   "id": "0409c6c2",
   "metadata": {},
   "source": [
    "(2) $ AB^T $"
   ]
  },
  {
   "cell_type": "code",
   "execution_count": 3,
   "id": "67799a56",
   "metadata": {},
   "outputs": [
    {
     "data": {
      "text/plain": [
       "array([[-13,  41],\n",
       "       [-10,  46],\n",
       "       [-22, -16]])"
      ]
     },
     "execution_count": 3,
     "metadata": {},
     "output_type": "execute_result"
    }
   ],
   "source": [
    "# Write down your code here.\n",
    "\n",
    "A.dot(B.T)\n"
   ]
  },
  {
   "cell_type": "markdown",
   "id": "8b04be70",
   "metadata": {},
   "source": [
    "(3) $ Ay $"
   ]
  },
  {
   "cell_type": "code",
   "execution_count": 4,
   "id": "5e86125f",
   "metadata": {},
   "outputs": [
    {
     "data": {
      "text/plain": [
       "array([[60],\n",
       "       [59],\n",
       "       [12]])"
      ]
     },
     "execution_count": 4,
     "metadata": {},
     "output_type": "execute_result"
    }
   ],
   "source": [
    "# Write down your code here.\n",
    "\n",
    "A.dot(y)\n"
   ]
  },
  {
   "cell_type": "markdown",
   "id": "bd6a40cc",
   "metadata": {},
   "source": [
    "(4) $ y^Tz $"
   ]
  },
  {
   "cell_type": "code",
   "execution_count": 5,
   "id": "2a8c3369",
   "metadata": {},
   "outputs": [
    {
     "data": {
      "text/plain": [
       "array([[-149]])"
      ]
     },
     "execution_count": 5,
     "metadata": {},
     "output_type": "execute_result"
    }
   ],
   "source": [
    "# Write down your code here.\n",
    "\n",
    "y.T.dot(z)\n"
   ]
  },
  {
   "cell_type": "markdown",
   "id": "aa6a2913",
   "metadata": {},
   "source": [
    "## Question-2"
   ]
  },
  {
   "cell_type": "markdown",
   "id": "bea4acee",
   "metadata": {},
   "source": [
    "Suppose we have the following system of equations and we'd like to solve for the values of x, y, and z:\n",
    "\n",
    "6x + 2y + 3z = 31\n",
    "\n",
    "3x + 5y – 2z = 20\n",
    "\n",
    "8x + y - 4z = 30"
   ]
  },
  {
   "cell_type": "code",
   "execution_count": 6,
   "id": "5c721d44",
   "metadata": {},
   "outputs": [
    {
     "name": "stdout",
     "output_type": "stream",
     "text": [
      "x = 4\n",
      "y = 2\n",
      "z = 1\n"
     ]
    }
   ],
   "source": [
    "# Write down your code here.\n",
    "\n",
    "a = np.array([[6,2,3],[3,5,-2],[8,1,-4]])\n",
    "c = np.array([[31,20,30]]).T\n",
    "result = np.linalg.inv(a).dot(c)\n",
    "print(\"x = %.f\" % result[0][0])\n",
    "print(\"y = %.f\" % result[1][0])\n",
    "print(\"z = %.f\" % result[2][0])\n",
    "\n"
   ]
  },
  {
   "cell_type": "markdown",
   "id": "7067314c",
   "metadata": {},
   "source": [
    "## Question-3"
   ]
  },
  {
   "cell_type": "markdown",
   "id": "0db40932",
   "metadata": {},
   "source": [
    "We will model the linear relationship between the stock excess returns and the market excess returns.\n",
    "\n",
    "First, you need to load the data from the csv file ('data_exercises_week4.csv').\n",
    "\n",
    "Secondly, model the linear relationship between 'Exret' and 'mktrf'.\n",
    "\n",
    "$$ y=\\beta x + \\alpha $$\n",
    "\n",
    "In this context, the dependent variable y is 'Exret' and the independent variable x is 'mktrf'.\n",
    "\n",
    "Please follow what we' ve learned in class to figure out the coefficient estimates and plot them."
   ]
  },
  {
   "cell_type": "code",
   "execution_count": 7,
   "id": "f2ae2186",
   "metadata": {},
   "outputs": [
    {
     "name": "stdout",
     "output_type": "stream",
     "text": [
      "                            OLS Regression Results                            \n",
      "==============================================================================\n",
      "Dep. Variable:                  exret   R-squared:                       0.435\n",
      "Model:                            OLS   Adj. R-squared:                  0.433\n",
      "Method:                 Least Squares   F-statistic:                     191.8\n",
      "Date:                Fri, 11 Aug 2023   Prob (F-statistic):           9.98e-33\n",
      "Time:                        08:28:12   Log-Likelihood:                 510.08\n",
      "No. Observations:                 251   AIC:                            -1016.\n",
      "Df Residuals:                     249   BIC:                            -1009.\n",
      "Df Model:                           1                                         \n",
      "Covariance Type:            nonrobust                                         \n",
      "==============================================================================\n",
      "                 coef    std err          t      P>|t|      [0.025      0.975]\n",
      "------------------------------------------------------------------------------\n",
      "Intercept     -0.0028      0.002     -1.389      0.166      -0.007       0.001\n",
      "mktrf          1.7467      0.126     13.850      0.000       1.498       1.995\n",
      "==============================================================================\n",
      "Omnibus:                       25.548   Durbin-Watson:                   1.958\n",
      "Prob(Omnibus):                  0.000   Jarque-Bera (JB):               58.477\n",
      "Skew:                          -0.476   Prob(JB):                     2.00e-13\n",
      "Kurtosis:                       5.165   Cond. No.                         62.8\n",
      "==============================================================================\n",
      "\n",
      "Notes:\n",
      "[1] Standard Errors assume that the covariance matrix of the errors is correctly specified.\n",
      "Intercept   -0.002795\n",
      "mktrf        1.746689\n",
      "dtype: float64\n"
     ]
    },
    {
     "data": {
      "image/png": "[encoded data removed]",
      "text/plain": [
       "<Figure size 1000x600 with 1 Axes>"
      ]
     },
     "metadata": {},
     "output_type": "display_data"
    }
   ],
   "source": [
    "# Write down your code here.\n",
    "\n",
    "import matplotlib.pyplot as plt\n",
    "import statsmodels.formula.api as smf\n",
    "\n",
    "df=pd.read_csv('data_exercises_week4.csv', index_col=\"date\")\n",
    "\n",
    "model = smf.ols('exret ~ mktrf', data=df)\n",
    "fit = model.fit()\n",
    "param = fit.params\n",
    "print(fit.summary())\n",
    "print(param)\n",
    "\n",
    "plt.figure(figsize = (10, 6))\n",
    "plt.rcParams.update({'font.size': 14})\n",
    "plt.xlabel(\"market excess returns\")\n",
    "plt.ylabel(\"stock excess returns\")\n",
    "plt.title(\"Scatter plot of excess returns\")\n",
    "plt.scatter(df['mktrf'], df['exret'])\n",
    "plt.plot(df['mktrf'], param.Intercept+param.mktrf * df['mktrf'],\n",
    "    label='Y={:.4f}+{:.4f}X'.format(param.Intercept, param.mktrf),\n",
    "    color='red')\n",
    "plt.legend()\n",
    "plt.show()\n",
    "\n"
   ]
  },
  {
   "cell_type": "markdown",
   "id": "010763c6",
   "metadata": {},
   "source": [
    "# Submission\n",
    "\n",
    "* Please submit your exercises via the link: https://forms.gle/xGBvaiBYDNot8GAcA \n",
    "    - When uploading exercises, you need to sign in to Google.\n",
    "    - Put the exercise questions(.ipynb, .py, .markdown, .html, or .pdf) into one file named with StudentID_FullName_Week4.\n",
    "    - The submission deadline is Saturday, Aug 12, at 24:00. Early submission will be regarded as an advantage.\n",
    "    - Only for students who cannot access Google Drive, please submit your exercises via Baidu Netdisk. https://pan.baidu.com/disk/main#/transfer/send?surl=ACQAAAAAABEBNQ"
   ]
  }
 ],
 "metadata": {
  "kernelspec": {
   "display_name": "Python 3 (ipykernel)",
   "language": "python",
   "name": "python3"
  },
  "language_info": {
   "codemirror_mode": {
    "name": "ipython",
    "version": 3
   },
   "file_extension": ".py",
   "mimetype": "text/x-python",
   "name": "python",
   "nbconvert_exporter": "python",
   "pygments_lexer": "ipython3",
   "version": "3.11.4"
  },
  "toc": {
   "base_numbering": 1,
   "nav_menu": {},
   "number_sections": true,
   "sideBar": true,
   "skip_h1_title": false,
   "title_cell": "Table of Contents",
   "title_sidebar": "Contents",
   "toc_cell": false,
   "toc_position": {},
   "toc_section_display": true,
   "toc_window_display": false
  },
  "varInspector": {
   "cols": {
    "lenName": 16,
    "lenType": 16,
    "lenVar": 40
   },
   "kernels_config": {
    "python": {
     "delete_cmd_postfix": "",
     "delete_cmd_prefix": "del ",
     "library": "var_list.py",
     "varRefreshCmd": "print(var_dic_list())"
    },
    "r": {
     "delete_cmd_postfix": ") ",
     "delete_cmd_prefix": "rm(",
     "library": "var_list.r",
     "varRefreshCmd": "cat(var_dic_list()) "
    }
   },
   "types_to_exclude": [
    "module",
    "function",
    "builtin_function_or_method",
    "instance",
    "_Feature"
   ],
   "window_display": false
  }
 },
 "nbformat": 4,
 "nbformat_minor": 5
}
