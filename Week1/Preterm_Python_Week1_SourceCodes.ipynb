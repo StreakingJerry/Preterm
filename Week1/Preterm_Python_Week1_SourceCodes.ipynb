{
 "cells": [
  {
   "cell_type": "code",
   "execution_count": 1,
   "id": "0551248c",
   "metadata": {},
   "outputs": [
    {
     "name": "stdout",
     "output_type": "stream",
     "text": [
      "Hello World!\n"
     ]
    }
   ],
   "source": [
    "print(\"Hello World!\")\n"
   ]
  },
  {
   "cell_type": "code",
   "execution_count": 2,
   "id": "53d43f65",
   "metadata": {},
   "outputs": [
    {
     "name": "stdout",
     "output_type": "stream",
     "text": [
      "This is the Pre-Term Python Course for MSc in Finance!\n"
     ]
    }
   ],
   "source": [
    "print(\"This is the Pre-Term Python Course for MSc in Finance!\")"
   ]
  },
  {
   "attachments": {},
   "cell_type": "markdown",
   "id": "08949168",
   "metadata": {},
   "source": [
    "# Basic Data Types and Data Structures"
   ]
  },
  {
   "attachments": {},
   "cell_type": "markdown",
   "id": "6cb666df",
   "metadata": {
    "colab_type": "text",
    "id": "4POoACzaXUie"
   },
   "source": [
    "\n",
    "## Basic Data Types\n",
    "* __Integer__: Natural numbers\n",
    "* __Float__: Real numbers\n",
    "* __Bool__: Something true or false\n",
    "* __Str__: Character, word, text\n"
   ]
  },
  {
   "cell_type": "code",
   "execution_count": 3,
   "id": "f0e88e42",
   "metadata": {
    "colab": {
     "base_uri": "https://localhost:8080/",
     "height": 36
    },
    "colab_type": "code",
    "id": "IpEiK2QYyDUB",
    "outputId": "56b21cb7-48ae-4570-99a9-b360663d8d80"
   },
   "outputs": [
    {
     "data": {
      "text/plain": [
       "5"
      ]
     },
     "execution_count": 3,
     "metadata": {},
     "output_type": "execute_result"
    }
   ],
   "source": [
    "a = 5\n",
    "a"
   ]
  },
  {
   "cell_type": "code",
   "execution_count": 4,
   "id": "0615025e",
   "metadata": {
    "colab": {
     "base_uri": "https://localhost:8080/",
     "height": 36
    },
    "colab_type": "code",
    "id": "9xagQ_jyyGpu",
    "outputId": "25c4dca4-85ca-4bf4-9d64-7bd0d983e236"
   },
   "outputs": [
    {
     "data": {
      "text/plain": [
       "int"
      ]
     },
     "execution_count": 4,
     "metadata": {},
     "output_type": "execute_result"
    }
   ],
   "source": [
    "type(a)"
   ]
  },
  {
   "cell_type": "code",
   "execution_count": 5,
   "id": "51dab56f",
   "metadata": {},
   "outputs": [
    {
     "data": {
      "text/plain": [
       "6"
      ]
     },
     "execution_count": 5,
     "metadata": {},
     "output_type": "execute_result"
    }
   ],
   "source": [
    "1 + a"
   ]
  },
  {
   "cell_type": "code",
   "execution_count": 6,
   "id": "83f049ba",
   "metadata": {},
   "outputs": [
    {
     "data": {
      "text/plain": [
       "0.2"
      ]
     },
     "execution_count": 6,
     "metadata": {},
     "output_type": "execute_result"
    }
   ],
   "source": [
    "1 / a"
   ]
  },
  {
   "cell_type": "code",
   "execution_count": 7,
   "id": "4d75a17a",
   "metadata": {},
   "outputs": [
    {
     "data": {
      "text/plain": [
       "float"
      ]
     },
     "execution_count": 7,
     "metadata": {},
     "output_type": "execute_result"
    }
   ],
   "source": [
    "type(1 / a)"
   ]
  },
  {
   "cell_type": "code",
   "execution_count": 8,
   "id": "0ee132fa",
   "metadata": {},
   "outputs": [],
   "source": [
    "b = 0.2"
   ]
  },
  {
   "cell_type": "code",
   "execution_count": 9,
   "id": "c5d98c18",
   "metadata": {},
   "outputs": [
    {
     "data": {
      "text/plain": [
       "float"
      ]
     },
     "execution_count": 9,
     "metadata": {},
     "output_type": "execute_result"
    }
   ],
   "source": [
    "type(b)"
   ]
  },
  {
   "cell_type": "code",
   "execution_count": 10,
   "id": "7e13f7ed",
   "metadata": {},
   "outputs": [
    {
     "data": {
      "text/plain": [
       "True"
      ]
     },
     "execution_count": 10,
     "metadata": {},
     "output_type": "execute_result"
    }
   ],
   "source": [
    "a = 5\n",
    "b = 0.2\n",
    "a > b # >(less than) is comparison operators"
   ]
  },
  {
   "cell_type": "code",
   "execution_count": 11,
   "id": "67bffef8",
   "metadata": {},
   "outputs": [
    {
     "data": {
      "text/plain": [
       "bool"
      ]
     },
     "execution_count": 11,
     "metadata": {},
     "output_type": "execute_result"
    }
   ],
   "source": [
    "type(a > b)   # > (large than) "
   ]
  },
  {
   "cell_type": "code",
   "execution_count": 12,
   "id": "363278e4",
   "metadata": {},
   "outputs": [
    {
     "data": {
      "text/plain": [
       "False"
      ]
     },
     "execution_count": 12,
     "metadata": {},
     "output_type": "execute_result"
    }
   ],
   "source": [
    "a <= b   # <= (less than or equal) "
   ]
  },
  {
   "cell_type": "code",
   "execution_count": 13,
   "id": "dbf7ccf4",
   "metadata": {},
   "outputs": [
    {
     "data": {
      "text/plain": [
       "True"
      ]
     },
     "execution_count": 13,
     "metadata": {},
     "output_type": "execute_result"
    }
   ],
   "source": [
    "a != b  # != (not equal) "
   ]
  },
  {
   "cell_type": "code",
   "execution_count": 14,
   "id": "3da9a171",
   "metadata": {},
   "outputs": [
    {
     "data": {
      "text/plain": [
       "False"
      ]
     },
     "execution_count": 14,
     "metadata": {},
     "output_type": "execute_result"
    }
   ],
   "source": [
    "a == b  # == (equal) "
   ]
  },
  {
   "cell_type": "code",
   "execution_count": 15,
   "id": "ad131cf4",
   "metadata": {},
   "outputs": [
    {
     "data": {
      "text/plain": [
       "1"
      ]
     },
     "execution_count": 15,
     "metadata": {},
     "output_type": "execute_result"
    }
   ],
   "source": [
    "int(True)"
   ]
  },
  {
   "cell_type": "code",
   "execution_count": 16,
   "id": "130ff627",
   "metadata": {},
   "outputs": [
    {
     "data": {
      "text/plain": [
       "0"
      ]
     },
     "execution_count": 16,
     "metadata": {},
     "output_type": "execute_result"
    }
   ],
   "source": [
    "int(False)"
   ]
  },
  {
   "cell_type": "code",
   "execution_count": 17,
   "id": "7b963648",
   "metadata": {},
   "outputs": [
    {
     "data": {
      "text/plain": [
       "1.0"
      ]
     },
     "execution_count": 17,
     "metadata": {},
     "output_type": "execute_result"
    }
   ],
   "source": [
    "float(True)"
   ]
  },
  {
   "cell_type": "code",
   "execution_count": 18,
   "id": "d0c73b02",
   "metadata": {},
   "outputs": [
    {
     "data": {
      "text/plain": [
       "0.0"
      ]
     },
     "execution_count": 18,
     "metadata": {},
     "output_type": "execute_result"
    }
   ],
   "source": [
    "float(False)"
   ]
  },
  {
   "cell_type": "code",
   "execution_count": 19,
   "id": "5554404c",
   "metadata": {},
   "outputs": [
    {
     "data": {
      "text/plain": [
       "False"
      ]
     },
     "execution_count": 19,
     "metadata": {},
     "output_type": "execute_result"
    }
   ],
   "source": [
    "bool(0)"
   ]
  },
  {
   "cell_type": "code",
   "execution_count": 20,
   "id": "0c367efe",
   "metadata": {},
   "outputs": [
    {
     "data": {
      "text/plain": [
       "True"
      ]
     },
     "execution_count": 20,
     "metadata": {},
     "output_type": "execute_result"
    }
   ],
   "source": [
    "bool(1)"
   ]
  },
  {
   "cell_type": "code",
   "execution_count": 21,
   "id": "4f050f91",
   "metadata": {},
   "outputs": [
    {
     "data": {
      "text/plain": [
       "True"
      ]
     },
     "execution_count": 21,
     "metadata": {},
     "output_type": "execute_result"
    }
   ],
   "source": [
    "bool(11.8) "
   ]
  },
  {
   "attachments": {},
   "cell_type": "markdown",
   "id": "e98a0cb8",
   "metadata": {},
   "source": [
    "### String"
   ]
  },
  {
   "cell_type": "code",
   "execution_count": 22,
   "id": "98f18ef2",
   "metadata": {},
   "outputs": [],
   "source": [
    "c = 'this is a string object'"
   ]
  },
  {
   "cell_type": "code",
   "execution_count": 23,
   "id": "65990cd4",
   "metadata": {},
   "outputs": [
    {
     "data": {
      "text/plain": [
       "'this is a string object'"
      ]
     },
     "execution_count": 23,
     "metadata": {},
     "output_type": "execute_result"
    }
   ],
   "source": [
    "c "
   ]
  },
  {
   "cell_type": "code",
   "execution_count": 24,
   "id": "90ebfba8",
   "metadata": {},
   "outputs": [
    {
     "data": {
      "text/plain": [
       "'This is a string object'"
      ]
     },
     "execution_count": 24,
     "metadata": {},
     "output_type": "execute_result"
    }
   ],
   "source": [
    "c.capitalize() #only change the output of c, not repalce the original c"
   ]
  },
  {
   "cell_type": "code",
   "execution_count": 25,
   "id": "3a76c03b",
   "metadata": {},
   "outputs": [
    {
     "data": {
      "text/plain": [
       "['this', 'is', 'a', 'string', 'object']"
      ]
     },
     "execution_count": 25,
     "metadata": {},
     "output_type": "execute_result"
    }
   ],
   "source": [
    "c.split()"
   ]
  },
  {
   "cell_type": "code",
   "execution_count": 26,
   "id": "f52e37eb",
   "metadata": {},
   "outputs": [
    {
     "data": {
      "text/plain": [
       "10"
      ]
     },
     "execution_count": 26,
     "metadata": {},
     "output_type": "execute_result"
    }
   ],
   "source": [
    "c.find('string')"
   ]
  },
  {
   "cell_type": "code",
   "execution_count": 27,
   "id": "10e7e17b",
   "metadata": {},
   "outputs": [
    {
     "data": {
      "text/plain": [
       "-1"
      ]
     },
     "execution_count": 27,
     "metadata": {},
     "output_type": "execute_result"
    }
   ],
   "source": [
    "c.find('This')"
   ]
  },
  {
   "cell_type": "code",
   "execution_count": 28,
   "id": "06b9716d",
   "metadata": {},
   "outputs": [
    {
     "data": {
      "text/plain": [
       "0"
      ]
     },
     "execution_count": 28,
     "metadata": {},
     "output_type": "execute_result"
    }
   ],
   "source": [
    "c.find('this')"
   ]
  },
  {
   "cell_type": "code",
   "execution_count": 29,
   "id": "e4ffaea2",
   "metadata": {},
   "outputs": [
    {
     "data": {
      "text/plain": [
       "'this|is|a|string|object'"
      ]
     },
     "execution_count": 29,
     "metadata": {},
     "output_type": "execute_result"
    }
   ],
   "source": [
    "c.replace(' ', '|') "
   ]
  },
  {
   "cell_type": "code",
   "execution_count": 30,
   "id": "dfa86876",
   "metadata": {},
   "outputs": [],
   "source": [
    "# string replacement operations"
   ]
  },
  {
   "cell_type": "code",
   "execution_count": 31,
   "id": "63c4b294",
   "metadata": {},
   "outputs": [
    {
     "data": {
      "text/plain": [
       "'this is an integer 15'"
      ]
     },
     "execution_count": 31,
     "metadata": {},
     "output_type": "execute_result"
    }
   ],
   "source": [
    "'this is an integer %d' % 15"
   ]
  },
  {
   "cell_type": "code",
   "execution_count": 32,
   "id": "e81e8cbb",
   "metadata": {},
   "outputs": [
    {
     "data": {
      "text/plain": [
       "'this is an integer 15'"
      ]
     },
     "execution_count": 32,
     "metadata": {},
     "output_type": "execute_result"
    }
   ],
   "source": [
    "'this is an integer {:d}'.format(15)"
   ]
  },
  {
   "cell_type": "code",
   "execution_count": 33,
   "id": "6c0d2320",
   "metadata": {},
   "outputs": [
    {
     "data": {
      "text/plain": [
       "'this is an integer 0015'"
      ]
     },
     "execution_count": 33,
     "metadata": {},
     "output_type": "execute_result"
    }
   ],
   "source": [
    "'this is an integer %04d' % 15"
   ]
  },
  {
   "cell_type": "code",
   "execution_count": 34,
   "id": "ee8abfbe",
   "metadata": {},
   "outputs": [
    {
     "data": {
      "text/plain": [
       "'this is an integer 0015'"
      ]
     },
     "execution_count": 34,
     "metadata": {},
     "output_type": "execute_result"
    }
   ],
   "source": [
    "'this is an integer {:04d}'.format(15)"
   ]
  },
  {
   "cell_type": "code",
   "execution_count": 35,
   "id": "ea67d9c9",
   "metadata": {},
   "outputs": [
    {
     "data": {
      "text/plain": [
       "'this is a float 15.35'"
      ]
     },
     "execution_count": 35,
     "metadata": {},
     "output_type": "execute_result"
    }
   ],
   "source": [
    "'this is a float %.2f' % 15.3456"
   ]
  },
  {
   "cell_type": "code",
   "execution_count": 36,
   "id": "3b88904b",
   "metadata": {},
   "outputs": [
    {
     "data": {
      "text/plain": [
       "'this is a float 15.35'"
      ]
     },
     "execution_count": 36,
     "metadata": {},
     "output_type": "execute_result"
    }
   ],
   "source": [
    "'this is a float {:.2f}'.format(15.3456) "
   ]
  },
  {
   "cell_type": "code",
   "execution_count": 37,
   "id": "92e314f1",
   "metadata": {},
   "outputs": [
    {
     "data": {
      "text/plain": [
       "'this is a float 15.35'"
      ]
     },
     "execution_count": 37,
     "metadata": {},
     "output_type": "execute_result"
    }
   ],
   "source": [
    "'this is a float {value:.2f}'.format(value = 15.3456) "
   ]
  },
  {
   "cell_type": "code",
   "execution_count": 38,
   "id": "1caf66fa",
   "metadata": {},
   "outputs": [
    {
     "data": {
      "text/plain": [
       "'this is a float 00015.35'"
      ]
     },
     "execution_count": 38,
     "metadata": {},
     "output_type": "execute_result"
    }
   ],
   "source": [
    "'this is a float %08.2f' % 15.3456 "
   ]
  },
  {
   "cell_type": "code",
   "execution_count": 39,
   "id": "3ecf87e7",
   "metadata": {},
   "outputs": [
    {
     "data": {
      "text/plain": [
       "'this is a float 00015.35'"
      ]
     },
     "execution_count": 39,
     "metadata": {},
     "output_type": "execute_result"
    }
   ],
   "source": [
    "'this is a float {:08.2f}'.format(15.3456) "
   ]
  },
  {
   "attachments": {},
   "cell_type": "markdown",
   "id": "c5116f72",
   "metadata": {},
   "source": [
    "#### Extracting Elements \n",
    "\n",
    "（1） Indexing\n",
    "\n",
    "- Indexing refers to selecting __one element__ from a sequence\n",
    "- Index <font color='blue'> operator </font>, [  ] , is used to retreive an element from a sequence\n",
    "- Integer N inside the index <font color='blue'> operator </font>, [N], indicates the position of the element\n",
    "\n",
    "__NOTE :__  Python index starts at 0\n"
   ]
  },
  {
   "cell_type": "code",
   "execution_count": 40,
   "id": "5ab82da3",
   "metadata": {},
   "outputs": [
    {
     "name": "stdout",
     "output_type": "stream",
     "text": [
      "Hello World!\n",
      "<class 'str'>\n"
     ]
    }
   ],
   "source": [
    "c = 'Hello World!'\n",
    "print(c)\n",
    "print(type(c))"
   ]
  },
  {
   "cell_type": "code",
   "execution_count": 41,
   "id": "c84e7a3e",
   "metadata": {
    "colab": {
     "base_uri": "https://localhost:8080/",
     "height": 36
    },
    "colab_type": "code",
    "id": "cOCynG-QYvkz",
    "outputId": "46236d89-5744-4b7c-89d4-8f4bde1b6de2"
   },
   "outputs": [
    {
     "data": {
      "text/plain": [
       "'H'"
      ]
     },
     "execution_count": 41,
     "metadata": {},
     "output_type": "execute_result"
    }
   ],
   "source": [
    "c[0]"
   ]
  },
  {
   "cell_type": "code",
   "execution_count": 42,
   "id": "50098e7c",
   "metadata": {},
   "outputs": [
    {
     "name": "stdout",
     "output_type": "stream",
     "text": [
      " \n"
     ]
    }
   ],
   "source": [
    "print(c[5]) # result is a space character i.e. ' '"
   ]
  },
  {
   "cell_type": "code",
   "execution_count": 43,
   "id": "cb0524ad",
   "metadata": {},
   "outputs": [
    {
     "name": "stdout",
     "output_type": "stream",
     "text": [
      "W\n"
     ]
    }
   ],
   "source": [
    "print(c[6])"
   ]
  },
  {
   "cell_type": "code",
   "execution_count": 44,
   "id": "9526e62e",
   "metadata": {},
   "outputs": [
    {
     "name": "stdout",
     "output_type": "stream",
     "text": [
      "6\n"
     ]
    }
   ],
   "source": [
    "print(c.index('W'))"
   ]
  },
  {
   "cell_type": "code",
   "execution_count": 45,
   "id": "0ed726bc",
   "metadata": {},
   "outputs": [
    {
     "data": {
      "text/plain": [
       "7"
      ]
     },
     "execution_count": 45,
     "metadata": {},
     "output_type": "execute_result"
    }
   ],
   "source": [
    "# start from position 5\n",
    "c.index('o',5)"
   ]
  },
  {
   "cell_type": "code",
   "execution_count": 46,
   "id": "b1a7c4d1",
   "metadata": {},
   "outputs": [
    {
     "data": {
      "text/plain": [
       "-1"
      ]
     },
     "execution_count": 46,
     "metadata": {},
     "output_type": "execute_result"
    }
   ],
   "source": [
    "# find from position index begin to 4\n",
    "c.find('o',None,4)"
   ]
  },
  {
   "attachments": {},
   "cell_type": "markdown",
   "id": "c90cb3a1",
   "metadata": {},
   "source": [
    "(2) Slicing in Python\n",
    "\n",
    "\n",
    "- Slicing refers to selecting __more than one element__ from a sequence\n",
    "- Slicing uses index <font color='blue'> operator </font> with a colon, [ : ] \n",
    "- Integer N before the colon and integer M after the colon, [ N:M ] , indicates the start and stop positions\n",
    "- If no integers are defined with the \":\" operator then it returns everything"
   ]
  },
  {
   "cell_type": "code",
   "execution_count": 47,
   "id": "2573b269",
   "metadata": {
    "colab": {
     "base_uri": "https://localhost:8080/",
     "height": 36
    },
    "colab_type": "code",
    "id": "R1ynrfCB2hxi",
    "outputId": "ba40c18e-4301-49c5-f830-6731c94fab90"
   },
   "outputs": [
    {
     "data": {
      "text/plain": [
       "'Worl'"
      ]
     },
     "execution_count": 47,
     "metadata": {},
     "output_type": "execute_result"
    }
   ],
   "source": [
    "c[6:10]"
   ]
  },
  {
   "cell_type": "code",
   "execution_count": 48,
   "id": "628ccede",
   "metadata": {},
   "outputs": [
    {
     "data": {
      "text/plain": [
       "'World!'"
      ]
     },
     "execution_count": 48,
     "metadata": {},
     "output_type": "execute_result"
    }
   ],
   "source": [
    "c[6:]"
   ]
  },
  {
   "attachments": {},
   "cell_type": "markdown",
   "id": "4638525d",
   "metadata": {},
   "source": [
    "(3) Stepping in Python\n",
    "\n",
    "- Stepping refers to setting the interval at which elements are to be included in the slice\n",
    "- Stepping uses index operator with double colon, [ : : ]\n",
    "- Integer N before the both colons, integer M after the first colon and integer K after the second colon, [ N:M:K ] , indicate  start, stop and step positions"
   ]
  },
  {
   "cell_type": "code",
   "execution_count": 49,
   "id": "af011964",
   "metadata": {},
   "outputs": [
    {
     "data": {
      "text/plain": [
       "'HloWrd'"
      ]
     },
     "execution_count": 49,
     "metadata": {},
     "output_type": "execute_result"
    }
   ],
   "source": [
    "c[::2]"
   ]
  },
  {
   "attachments": {},
   "cell_type": "markdown",
   "id": "fe902784",
   "metadata": {},
   "source": [
    "- Stepping on a slice is also possible\n",
    "\n",
    "__NOTE :__ Indices extract elements from right of the start position up to the left of the stop position only. If the start index is at the left of the stop indices, stop comes before start and thus, no elements are extracted."
   ]
  },
  {
   "cell_type": "code",
   "execution_count": 50,
   "id": "8dc6b401",
   "metadata": {},
   "outputs": [
    {
     "data": {
      "text/plain": [
       "'lo Worl'"
      ]
     },
     "execution_count": 50,
     "metadata": {},
     "output_type": "execute_result"
    }
   ],
   "source": [
    "c[3:10]"
   ]
  },
  {
   "cell_type": "code",
   "execution_count": 51,
   "id": "83821507",
   "metadata": {},
   "outputs": [
    {
     "data": {
      "text/plain": [
       "'l ol'"
      ]
     },
     "execution_count": 51,
     "metadata": {},
     "output_type": "execute_result"
    }
   ],
   "source": [
    "c[3:10:2]"
   ]
  },
  {
   "cell_type": "code",
   "execution_count": 52,
   "id": "a7c9697b",
   "metadata": {},
   "outputs": [
    {
     "data": {
      "text/plain": [
       "''"
      ]
     },
     "execution_count": 52,
     "metadata": {},
     "output_type": "execute_result"
    }
   ],
   "source": [
    "# pay attention to the start and stop positions\n",
    "c[10:3]\n"
   ]
  },
  {
   "cell_type": "code",
   "execution_count": 53,
   "id": "f5013627",
   "metadata": {},
   "outputs": [
    {
     "data": {
      "text/plain": [
       "'dlroW o'"
      ]
     },
     "execution_count": 53,
     "metadata": {},
     "output_type": "execute_result"
    }
   ],
   "source": [
    "c[10:3:-1]"
   ]
  },
  {
   "attachments": {},
   "cell_type": "markdown",
   "id": "d492c58d",
   "metadata": {},
   "source": [
    "(3) Negative Indexing\n",
    "\n",
    "- Python also offers negative indexing, which extracts elements from the end of the list counting backwards\n",
    "- Negative indexing does not have 0"
   ]
  },
  {
   "cell_type": "code",
   "execution_count": 54,
   "id": "c6fdec63",
   "metadata": {},
   "outputs": [
    {
     "data": {
      "text/plain": [
       "'!'"
      ]
     },
     "execution_count": 54,
     "metadata": {},
     "output_type": "execute_result"
    }
   ],
   "source": [
    "c[-1]"
   ]
  },
  {
   "cell_type": "code",
   "execution_count": 55,
   "id": "5f2dbd90",
   "metadata": {},
   "outputs": [
    {
     "name": "stdout",
     "output_type": "stream",
     "text": [
      "H\n"
     ]
    },
    {
     "data": {
      "text/plain": [
       "str"
      ]
     },
     "execution_count": 55,
     "metadata": {},
     "output_type": "execute_result"
    }
   ],
   "source": [
    "print(c[-12])\n",
    "type(c[-12])"
   ]
  },
  {
   "attachments": {},
   "cell_type": "markdown",
   "id": "42fb4fa6",
   "metadata": {},
   "source": [
    "- Negative indexing can be combined with slicing as well."
   ]
  },
  {
   "cell_type": "code",
   "execution_count": 56,
   "id": "f67d64c2",
   "metadata": {},
   "outputs": [
    {
     "data": {
      "text/plain": [
       "'Hello Worl'"
      ]
     },
     "execution_count": 56,
     "metadata": {},
     "output_type": "execute_result"
    }
   ],
   "source": [
    "c[:-2]"
   ]
  },
  {
   "cell_type": "code",
   "execution_count": 57,
   "id": "da09b3f6",
   "metadata": {},
   "outputs": [
    {
     "data": {
      "text/plain": [
       "'d!'"
      ]
     },
     "execution_count": 57,
     "metadata": {},
     "output_type": "execute_result"
    }
   ],
   "source": [
    "c[-2:]"
   ]
  },
  {
   "attachments": {},
   "cell_type": "markdown",
   "id": "858aec7e",
   "metadata": {},
   "source": [
    "- Negative indexing can be particularly useful when combined with stepping."
   ]
  },
  {
   "cell_type": "code",
   "execution_count": 58,
   "id": "2c95f54e",
   "metadata": {},
   "outputs": [
    {
     "data": {
      "text/plain": [
       "'!dlroW olleH'"
      ]
     },
     "execution_count": 58,
     "metadata": {},
     "output_type": "execute_result"
    }
   ],
   "source": [
    "c[::-1]"
   ]
  },
  {
   "cell_type": "code",
   "execution_count": 59,
   "id": "0f1c3491",
   "metadata": {},
   "outputs": [
    {
     "data": {
      "text/plain": [
       "'oll'"
      ]
     },
     "execution_count": 59,
     "metadata": {},
     "output_type": "execute_result"
    }
   ],
   "source": [
    "c[4:1:-1] "
   ]
  },
  {
   "cell_type": "code",
   "execution_count": 60,
   "id": "72d38bfc",
   "metadata": {},
   "outputs": [
    {
     "data": {
      "text/plain": [
       "''"
      ]
     },
     "execution_count": 60,
     "metadata": {},
     "output_type": "execute_result"
    }
   ],
   "source": [
    "c[1:4:-1]"
   ]
  },
  {
   "cell_type": "code",
   "execution_count": 61,
   "id": "94b6fbac",
   "metadata": {},
   "outputs": [
    {
     "data": {
      "text/plain": [
       "'!d'"
      ]
     },
     "execution_count": 61,
     "metadata": {},
     "output_type": "execute_result"
    }
   ],
   "source": [
    "c[:-3:-1]"
   ]
  },
  {
   "cell_type": "code",
   "execution_count": 62,
   "id": "aff38008",
   "metadata": {},
   "outputs": [
    {
     "data": {
      "text/plain": [
       "'lWlH'"
      ]
     },
     "execution_count": 62,
     "metadata": {},
     "output_type": "execute_result"
    }
   ],
   "source": [
    "c[-3::-3]"
   ]
  },
  {
   "attachments": {},
   "cell_type": "markdown",
   "id": "87fe811a",
   "metadata": {},
   "source": [
    "- The indexed positions of list elements don’t change, but the order in which the elements are extracted does."
   ]
  },
  {
   "cell_type": "code",
   "execution_count": 63,
   "id": "02388938",
   "metadata": {},
   "outputs": [
    {
     "data": {
      "text/plain": [
       "''"
      ]
     },
     "execution_count": 63,
     "metadata": {},
     "output_type": "execute_result"
    }
   ],
   "source": [
    "c[8:2:1]"
   ]
  },
  {
   "cell_type": "code",
   "execution_count": 64,
   "id": "8d50939b",
   "metadata": {},
   "outputs": [
    {
     "data": {
      "text/plain": [
       "'rWo'"
      ]
     },
     "execution_count": 64,
     "metadata": {},
     "output_type": "execute_result"
    }
   ],
   "source": [
    "c[8:2:-2]"
   ]
  },
  {
   "cell_type": "code",
   "execution_count": 65,
   "id": "ba3e8b06",
   "metadata": {},
   "outputs": [
    {
     "data": {
      "text/plain": [
       "'oWr'"
      ]
     },
     "execution_count": 65,
     "metadata": {},
     "output_type": "execute_result"
    }
   ],
   "source": [
    "c[-8:-3:2]"
   ]
  },
  {
   "cell_type": "code",
   "execution_count": 66,
   "id": "3111eeb6",
   "metadata": {},
   "outputs": [
    {
     "data": {
      "text/plain": [
       "''"
      ]
     },
     "execution_count": 66,
     "metadata": {},
     "output_type": "execute_result"
    }
   ],
   "source": [
    "c[8:2:2]"
   ]
  },
  {
   "attachments": {},
   "cell_type": "markdown",
   "id": "6262df4d",
   "metadata": {},
   "source": [
    "__Can slicing and indexing be used if we want to change 'Hello World!' to 'Hello Alice!'?__\n",
    "\n",
    "- It depends on the <font color='blue'> mutability </font> attribute of the variable's data type."
   ]
  },
  {
   "cell_type": "code",
   "execution_count": 67,
   "id": "88d19c9b",
   "metadata": {},
   "outputs": [
    {
     "name": "stdout",
     "output_type": "stream",
     "text": [
      "!!!Error:  'str' object does not support item assignment\n"
     ]
    }
   ],
   "source": [
    "try:\n",
    "    c[6:] = 'Alice'\n",
    "except Exception as ex:\n",
    "    print(\"!!!Error: \", ex)"
   ]
  },
  {
   "attachments": {},
   "cell_type": "markdown",
   "id": "0fb88c04",
   "metadata": {},
   "source": [
    "This behavior with string is expected as strings are __immutable__. Values of immutable objects cannot be changed once they are created.\n",
    "\n",
    "Lists, however, are mutable and its values can be changed even after they are created. So we can convert the string into list and then replace the elements accordingly.\n"
   ]
  },
  {
   "cell_type": "code",
   "execution_count": 68,
   "id": "cceac151",
   "metadata": {
    "scrolled": true
   },
   "outputs": [
    {
     "data": {
      "text/plain": [
       "['H', 'e', 'l', 'l', 'o', ' ', 'W', 'o', 'r', 'l', 'd', '!']"
      ]
     },
     "execution_count": 68,
     "metadata": {},
     "output_type": "execute_result"
    }
   ],
   "source": [
    "alist = list(c)\n",
    "alist"
   ]
  },
  {
   "cell_type": "code",
   "execution_count": 69,
   "id": "eb63cffb",
   "metadata": {},
   "outputs": [
    {
     "data": {
      "text/plain": [
       "list"
      ]
     },
     "execution_count": 69,
     "metadata": {},
     "output_type": "execute_result"
    }
   ],
   "source": [
    "type(alist)"
   ]
  },
  {
   "cell_type": "code",
   "execution_count": 70,
   "id": "bb3333ea",
   "metadata": {},
   "outputs": [
    {
     "name": "stdout",
     "output_type": "stream",
     "text": [
      "['H', 'e', 'l', 'l', 'o', ' ', 'A', 'l', 'i', 'c', 'e', '!']\n"
     ]
    }
   ],
   "source": [
    "alist[6:11] = 'Alice'\n",
    "print(alist)"
   ]
  },
  {
   "attachments": {},
   "cell_type": "markdown",
   "id": "aa8d558c",
   "metadata": {},
   "source": [
    "## Basic Data Structures\n",
    "\n",
    "* __Tuple__\n",
    "* __List__\n",
    "* __Set__\n",
    "* __Dictionary__"
   ]
  },
  {
   "attachments": {},
   "cell_type": "markdown",
   "id": "86335a60",
   "metadata": {},
   "source": [
    "### Tuple"
   ]
  },
  {
   "cell_type": "code",
   "execution_count": 71,
   "id": "60d2c123",
   "metadata": {},
   "outputs": [],
   "source": [
    "t = (1, 2.5, 'data')"
   ]
  },
  {
   "cell_type": "code",
   "execution_count": 72,
   "id": "3af9f054",
   "metadata": {},
   "outputs": [
    {
     "data": {
      "text/plain": [
       "tuple"
      ]
     },
     "execution_count": 72,
     "metadata": {},
     "output_type": "execute_result"
    }
   ],
   "source": [
    "type(t)"
   ]
  },
  {
   "cell_type": "code",
   "execution_count": 73,
   "id": "aadf4ffb",
   "metadata": {},
   "outputs": [
    {
     "data": {
      "text/plain": [
       "tuple"
      ]
     },
     "execution_count": 73,
     "metadata": {},
     "output_type": "execute_result"
    }
   ],
   "source": [
    "t = 1, 2.5, 'data'\n",
    "type(t)"
   ]
  },
  {
   "cell_type": "code",
   "execution_count": 74,
   "id": "f28bd529",
   "metadata": {},
   "outputs": [
    {
     "data": {
      "text/plain": [
       "'data'"
      ]
     },
     "execution_count": 74,
     "metadata": {},
     "output_type": "execute_result"
    }
   ],
   "source": [
    "t[2] # Python uses zero-based numbering, such that the third element of a tuple is at index position 2"
   ]
  },
  {
   "cell_type": "code",
   "execution_count": 75,
   "id": "91c0c6a7",
   "metadata": {},
   "outputs": [
    {
     "data": {
      "text/plain": [
       "str"
      ]
     },
     "execution_count": 75,
     "metadata": {},
     "output_type": "execute_result"
    }
   ],
   "source": [
    "type(t[2])"
   ]
  },
  {
   "cell_type": "code",
   "execution_count": 76,
   "id": "3a264727",
   "metadata": {},
   "outputs": [
    {
     "data": {
      "text/plain": [
       "1"
      ]
     },
     "execution_count": 76,
     "metadata": {},
     "output_type": "execute_result"
    }
   ],
   "source": [
    "t.count('data') # counts the number of occurrences of a certain object"
   ]
  },
  {
   "cell_type": "code",
   "execution_count": 77,
   "id": "90716c3c",
   "metadata": {},
   "outputs": [
    {
     "data": {
      "text/plain": [
       "2"
      ]
     },
     "execution_count": 77,
     "metadata": {},
     "output_type": "execute_result"
    }
   ],
   "source": [
    "t.index('data') # gives the index value of the first appearance of a certain object"
   ]
  },
  {
   "attachments": {},
   "cell_type": "markdown",
   "id": "9c0c35e4",
   "metadata": {},
   "source": [
    "### List\n",
    "list objects are mutable and can be changed via different operations"
   ]
  },
  {
   "cell_type": "code",
   "execution_count": 78,
   "id": "3e0071be",
   "metadata": {},
   "outputs": [
    {
     "data": {
      "text/plain": [
       "'data'"
      ]
     },
     "execution_count": 78,
     "metadata": {},
     "output_type": "execute_result"
    }
   ],
   "source": [
    "l = [1, 2.5, 'data']\n",
    "l[2]"
   ]
  },
  {
   "cell_type": "code",
   "execution_count": 79,
   "id": "05e25e02",
   "metadata": {},
   "outputs": [
    {
     "data": {
      "text/plain": [
       "list"
      ]
     },
     "execution_count": 79,
     "metadata": {},
     "output_type": "execute_result"
    }
   ],
   "source": [
    "l = list(t)\n",
    "type(l)"
   ]
  },
  {
   "cell_type": "code",
   "execution_count": 80,
   "id": "e77b6bf7",
   "metadata": {},
   "outputs": [
    {
     "data": {
      "text/plain": [
       "[1, 2.5, 'data', [4, 3]]"
      ]
     },
     "execution_count": 80,
     "metadata": {},
     "output_type": "execute_result"
    }
   ],
   "source": [
    "l.append([4, 3]) # Append list object at the end.\n",
    "l"
   ]
  },
  {
   "cell_type": "code",
   "execution_count": 81,
   "id": "bc323d65",
   "metadata": {},
   "outputs": [
    {
     "data": {
      "text/plain": [
       "[1, 2.5, 'data', [4, 3], 1.0, 1.5, 2.0]"
      ]
     },
     "execution_count": 81,
     "metadata": {},
     "output_type": "execute_result"
    }
   ],
   "source": [
    "l.extend([1.0, 1.5, 2.0]) # Append elements of the list object.\n",
    "l"
   ]
  },
  {
   "cell_type": "code",
   "execution_count": 82,
   "id": "0cd53ee5",
   "metadata": {},
   "outputs": [
    {
     "data": {
      "text/plain": [
       "[1, 'insert', 2.5, 'data', [4, 3], 1.0, 1.5, 2.0]"
      ]
     },
     "execution_count": 82,
     "metadata": {},
     "output_type": "execute_result"
    }
   ],
   "source": [
    "l.insert(1, 'insert')   # Insert object before index position.\n",
    "l"
   ]
  },
  {
   "cell_type": "code",
   "execution_count": 83,
   "id": "db4b4d50",
   "metadata": {},
   "outputs": [
    {
     "data": {
      "text/plain": [
       "[1, 'insert', 2.5, [4, 3], 1.0, 1.5, 2.0]"
      ]
     },
     "execution_count": 83,
     "metadata": {},
     "output_type": "execute_result"
    }
   ],
   "source": [
    "l.remove('data')   # Remove first occurrence of object.\n",
    "l"
   ]
  },
  {
   "cell_type": "code",
   "execution_count": 84,
   "id": "d306547d",
   "metadata": {},
   "outputs": [
    {
     "name": "stdout",
     "output_type": "stream",
     "text": [
      "[1, 'insert', 2.5, 1.0, 1.5, 2.0] [4, 3]\n"
     ]
    }
   ],
   "source": [
    "p = l.pop(3)    #  Remove and return object at index position.\n",
    "print(l, p) "
   ]
  },
  {
   "attachments": {},
   "cell_type": "markdown",
   "id": "a65b1dee",
   "metadata": {},
   "source": [
    "### Dictionary"
   ]
  },
  {
   "cell_type": "code",
   "execution_count": 85,
   "id": "820184a8",
   "metadata": {
    "uuid": "14981fb1-5636-4c73-93c9-f8e18930cc6b"
   },
   "outputs": [
    {
     "data": {
      "text/plain": [
       "dict"
      ]
     },
     "execution_count": 85,
     "metadata": {},
     "output_type": "execute_result"
    }
   ],
   "source": [
    "d = {\n",
    "     'Name' : 'Lily',\n",
    "     'Country' : 'China',\n",
    "     'Profession' : 'Student',\n",
    "     'Age' : 22\n",
    "     }\n",
    "type(d)"
   ]
  },
  {
   "cell_type": "code",
   "execution_count": 86,
   "id": "c629d465",
   "metadata": {
    "uuid": "786249fd-c888-4aa2-9157-973147ff2c2b"
   },
   "outputs": [
    {
     "name": "stdout",
     "output_type": "stream",
     "text": [
      "Lily 22\n"
     ]
    }
   ],
   "source": [
    "print(d['Name'], d['Age'])"
   ]
  },
  {
   "cell_type": "code",
   "execution_count": 87,
   "id": "ecc9ddd5",
   "metadata": {
    "uuid": "33182240-3b00-4e43-922c-8189296791aa"
   },
   "outputs": [
    {
     "data": {
      "text/plain": [
       "dict_keys(['Name', 'Country', 'Profession', 'Age'])"
      ]
     },
     "execution_count": 87,
     "metadata": {},
     "output_type": "execute_result"
    }
   ],
   "source": [
    "d.keys()"
   ]
  },
  {
   "cell_type": "code",
   "execution_count": 88,
   "id": "3b0acc46",
   "metadata": {
    "uuid": "98b8e7a4-bac0-4299-9c47-c223269e24d7"
   },
   "outputs": [
    {
     "data": {
      "text/plain": [
       "dict_values(['Lily', 'China', 'Student', 22])"
      ]
     },
     "execution_count": 88,
     "metadata": {},
     "output_type": "execute_result"
    }
   ],
   "source": [
    "d.values()"
   ]
  },
  {
   "cell_type": "code",
   "execution_count": 89,
   "id": "cd88f4f9",
   "metadata": {
    "uuid": "48545763-dfe7-4bb2-ade3-d0598498726e"
   },
   "outputs": [
    {
     "data": {
      "text/plain": [
       "dict_items([('Name', 'Lily'), ('Country', 'China'), ('Profession', 'Student'), ('Age', 22)])"
      ]
     },
     "execution_count": 89,
     "metadata": {},
     "output_type": "execute_result"
    }
   ],
   "source": [
    "d.items()"
   ]
  },
  {
   "cell_type": "code",
   "execution_count": 90,
   "id": "d9d91acd",
   "metadata": {
    "uuid": "9ed881cc-0eef-4307-b93b-0a728d98d647"
   },
   "outputs": [
    {
     "name": "stdout",
     "output_type": "stream",
     "text": [
      "23\n"
     ]
    }
   ],
   "source": [
    "birthday = True\n",
    "if birthday:\n",
    "    d['Age'] += 1\n",
    "print(d['Age'])"
   ]
  },
  {
   "cell_type": "code",
   "execution_count": 91,
   "id": "85241f4e",
   "metadata": {
    "uuid": "a2f40c35-348f-4727-87b6-df2e1c5f6f15"
   },
   "outputs": [
    {
     "name": "stdout",
     "output_type": "stream",
     "text": [
      "('Name', 'Lily')\n",
      "('Country', 'China')\n",
      "('Profession', 'Student')\n",
      "('Age', 23)\n"
     ]
    }
   ],
   "source": [
    "for item in d.items():\n",
    "    print(item)"
   ]
  },
  {
   "cell_type": "code",
   "execution_count": 92,
   "id": "0c7214f1",
   "metadata": {
    "uuid": "2dc61967-ece2-48cd-af60-fcf58eb68270"
   },
   "outputs": [
    {
     "name": "stdout",
     "output_type": "stream",
     "text": [
      "<class 'str'>\n",
      "<class 'str'>\n",
      "<class 'str'>\n",
      "<class 'int'>\n"
     ]
    }
   ],
   "source": [
    "for value in d.values():\n",
    "    print(type(value))"
   ]
  },
  {
   "attachments": {},
   "cell_type": "markdown",
   "id": "30811f5f",
   "metadata": {},
   "source": [
    "### Set"
   ]
  },
  {
   "cell_type": "code",
   "execution_count": 93,
   "id": "8938288e",
   "metadata": {
    "uuid": "7037930a-6fda-493e-8922-2095f50c76e5"
   },
   "outputs": [
    {
     "data": {
      "text/plain": [
       "{'d', 'du', 'u', 'ud'}"
      ]
     },
     "execution_count": 93,
     "metadata": {},
     "output_type": "execute_result"
    }
   ],
   "source": [
    "s = set(['u', 'd', 'ud', 'du', 'd', 'du'])\n",
    "s"
   ]
  },
  {
   "cell_type": "code",
   "execution_count": 94,
   "id": "285bd018",
   "metadata": {
    "uuid": "c649fb45-81fd-4d46-9ea0-4462203fde81"
   },
   "outputs": [
    {
     "data": {
      "text/plain": [
       "{'d', 'dd', 'u', 'uu'}"
      ]
     },
     "execution_count": 94,
     "metadata": {},
     "output_type": "execute_result"
    }
   ],
   "source": [
    "t = set(['d', 'dd', 'uu', 'u'])\n",
    "t"
   ]
  },
  {
   "cell_type": "code",
   "execution_count": 95,
   "id": "f0bef0e1",
   "metadata": {
    "uuid": "d592a20e-c8bd-4db4-b0db-f4f30b3ddb9a"
   },
   "outputs": [
    {
     "data": {
      "text/plain": [
       "{'d', 'dd', 'du', 'u', 'ud', 'uu'}"
      ]
     },
     "execution_count": 95,
     "metadata": {},
     "output_type": "execute_result"
    }
   ],
   "source": [
    "s.union(t)   #All of s and t."
   ]
  },
  {
   "cell_type": "code",
   "execution_count": 96,
   "id": "3d0c1a03",
   "metadata": {
    "uuid": "0c60085c-d1e9-4023-9909-8f8623f1620e"
   },
   "outputs": [
    {
     "data": {
      "text/plain": [
       "{'d', 'u'}"
      ]
     },
     "execution_count": 96,
     "metadata": {},
     "output_type": "execute_result"
    }
   ],
   "source": [
    "s.intersection(t)  # Items in both s and t."
   ]
  },
  {
   "cell_type": "code",
   "execution_count": 97,
   "id": "3c1908fe",
   "metadata": {
    "uuid": "c2efb482-02dc-41f6-ba00-4bbdccbfa905"
   },
   "outputs": [
    {
     "data": {
      "text/plain": [
       "{'du', 'ud'}"
      ]
     },
     "execution_count": 97,
     "metadata": {},
     "output_type": "execute_result"
    }
   ],
   "source": [
    "s.difference(t)  # Items in s but not in t."
   ]
  },
  {
   "cell_type": "code",
   "execution_count": 98,
   "id": "d71a624d",
   "metadata": {
    "uuid": "ad2a4b31-8cea-41ef-af26-164ba264dd08"
   },
   "outputs": [
    {
     "data": {
      "text/plain": [
       "{'dd', 'uu'}"
      ]
     },
     "execution_count": 98,
     "metadata": {},
     "output_type": "execute_result"
    }
   ],
   "source": [
    "t.difference(s)   #Items in t but not in s."
   ]
  },
  {
   "cell_type": "code",
   "execution_count": 99,
   "id": "6704aeb6",
   "metadata": {
    "uuid": "1a040fc4-58d0-454d-b21a-59ce4325914d"
   },
   "outputs": [
    {
     "data": {
      "text/plain": [
       "{'dd', 'du', 'ud', 'uu'}"
      ]
     },
     "execution_count": 99,
     "metadata": {},
     "output_type": "execute_result"
    }
   ],
   "source": [
    "s.symmetric_difference(t)   #Items in either s or t but not both."
   ]
  },
  {
   "cell_type": "code",
   "execution_count": 100,
   "id": "5795e9a4",
   "metadata": {
    "uuid": "a9173c67-0fff-4313-a1c6-c9f52f911b00"
   },
   "outputs": [
    {
     "data": {
      "text/plain": [
       "1000"
      ]
     },
     "execution_count": 100,
     "metadata": {},
     "output_type": "execute_result"
    }
   ],
   "source": [
    "# One application of set objects is to get rid of duplicates in a list object:\n",
    "\n",
    "\n",
    "from random import randint\n",
    "l = [randint(0, 10) for i in range(1000)]  # 1,000 random integers between 0 and 10.\n",
    "len(l)    #Number of elements in l."
   ]
  },
  {
   "cell_type": "code",
   "execution_count": 101,
   "id": "e5e8f0de",
   "metadata": {
    "uuid": "b79db3dd-9264-49c1-8163-ca5ac1dca35d"
   },
   "outputs": [
    {
     "data": {
      "text/plain": [
       "[0, 9, 4, 8, 10, 10, 1, 7, 4, 2, 2, 9, 0, 2, 9, 5, 4, 5, 2, 8]"
      ]
     },
     "execution_count": 101,
     "metadata": {},
     "output_type": "execute_result"
    }
   ],
   "source": [
    "l[:20]"
   ]
  },
  {
   "cell_type": "code",
   "execution_count": 102,
   "id": "c8c5f614",
   "metadata": {
    "scrolled": true,
    "uuid": "918b67ef-4b7e-456c-8133-60de3ae680f6"
   },
   "outputs": [
    {
     "data": {
      "text/plain": [
       "{0, 1, 2, 3, 4, 5, 6, 7, 8, 9, 10}"
      ]
     },
     "execution_count": 102,
     "metadata": {},
     "output_type": "execute_result"
    }
   ],
   "source": [
    "s = set(l)\n",
    "s"
   ]
  },
  {
   "attachments": {},
   "cell_type": "markdown",
   "id": "21d1590d",
   "metadata": {},
   "source": [
    "# Programming Structure"
   ]
  },
  {
   "attachments": {},
   "cell_type": "markdown",
   "id": "302fe721",
   "metadata": {},
   "source": [
    "## Sequential "
   ]
  },
  {
   "cell_type": "code",
   "execution_count": 103,
   "id": "18eba5b2",
   "metadata": {},
   "outputs": [
    {
     "name": "stdout",
     "output_type": "stream",
     "text": [
      "5\n",
      "8\n",
      "cat\n"
     ]
    }
   ],
   "source": [
    "a = 5\n",
    "print(a)\n",
    "b = 8\n",
    "print(b)\n",
    "c = 'cat'\n",
    "print(c)"
   ]
  },
  {
   "attachments": {},
   "cell_type": "markdown",
   "id": "e36006b4",
   "metadata": {},
   "source": [
    "## Conditional"
   ]
  },
  {
   "cell_type": "code",
   "execution_count": 104,
   "id": "794f3da9",
   "metadata": {},
   "outputs": [
    {
     "name": "stdout",
     "output_type": "stream",
     "text": [
      "7\n"
     ]
    }
   ],
   "source": [
    "a = 5\n",
    "if a > 5:\n",
    "    a = a + 1\n",
    "else:\n",
    "    a = a +2\n",
    "        \n",
    "print(a)"
   ]
  },
  {
   "cell_type": "code",
   "execution_count": 105,
   "id": "8cbc8b67",
   "metadata": {},
   "outputs": [
    {
     "name": "stdout",
     "output_type": "stream",
     "text": [
      "3\n"
     ]
    }
   ],
   "source": [
    "a = 1\n",
    "if a > 5:\n",
    "    a = a + 1\n",
    "else:\n",
    "    a = a +2\n",
    "        \n",
    "print(a)"
   ]
  },
  {
   "attachments": {},
   "cell_type": "markdown",
   "id": "689fff25",
   "metadata": {},
   "source": [
    "## Interation "
   ]
  },
  {
   "cell_type": "code",
   "execution_count": 106,
   "id": "d89321de",
   "metadata": {},
   "outputs": [
    {
     "name": "stdout",
     "output_type": "stream",
     "text": [
      "8\n",
      "10\n",
      "15\n"
     ]
    }
   ],
   "source": [
    "for i in [4,8,10,15]:\n",
    "    if i > 5:\n",
    "        print(i) \n"
   ]
  },
  {
   "attachments": {},
   "cell_type": "markdown",
   "id": "fe84a274",
   "metadata": {},
   "source": [
    "## Examples"
   ]
  },
  {
   "attachments": {},
   "cell_type": "markdown",
   "id": "42846d16",
   "metadata": {},
   "source": [
    "### For loop  + If statement "
   ]
  },
  {
   "cell_type": "code",
   "execution_count": 107,
   "id": "3539259a",
   "metadata": {},
   "outputs": [
    {
     "name": "stdout",
     "output_type": "stream",
     "text": [
      "Audi\n",
      "BMW\n",
      "Subaru\n",
      "Toyota\n"
     ]
    }
   ],
   "source": [
    "cars = ['audi', 'bmw', 'subaru', 'toyota']\n",
    "\n",
    "for car in cars:\n",
    "    if car == 'bmw':\n",
    "        print(car.upper()) # All upper case\n",
    "    else:\n",
    "        print(car.title()) # First letter upper case"
   ]
  },
  {
   "attachments": {},
   "cell_type": "markdown",
   "id": "905a264f",
   "metadata": {},
   "source": [
    "### Pass, continue and break statements in loops"
   ]
  },
  {
   "cell_type": "code",
   "execution_count": 108,
   "id": "af3e9c2d",
   "metadata": {},
   "outputs": [
    {
     "name": "stdout",
     "output_type": "stream",
     "text": [
      "3   2\n",
      "4   2\n",
      "4   3\n"
     ]
    }
   ],
   "source": [
    "# Python program to demonstrate break statement with nested for loop\n",
    "  \n",
    "# first for loop\n",
    "for i in range(1, 5):\n",
    "    \n",
    "    # second for loop\n",
    "    for j in range(2, 6):\n",
    "        \n",
    "        # break the loop if j is divisible by i\n",
    "        if j%i == 0: #取余\n",
    "            break\n",
    "            \n",
    "        print(i, \" \", j)"
   ]
  },
  {
   "cell_type": "code",
   "execution_count": 109,
   "id": "72fbb4d6",
   "metadata": {},
   "outputs": [
    {
     "name": "stdout",
     "output_type": "stream",
     "text": [
      "1 2 3 4 5 7 8 9 10 "
     ]
    }
   ],
   "source": [
    "# Python program to demonstrate continue statement\n",
    "  \n",
    "# loop from 1 to 10\n",
    "for i in range(1, 11):\n",
    "  \n",
    "    # If i is equals to 6, continue to next iteration without printing\n",
    "    if i == 6:\n",
    "        continue\n",
    "    else:\n",
    "        # otherwise print the value of i\n",
    "        print(i, end = \" \")"
   ]
  },
  {
   "cell_type": "code",
   "execution_count": 110,
   "id": "56cfca63",
   "metadata": {},
   "outputs": [
    {
     "name": "stdout",
     "output_type": "stream",
     "text": [
      "g\n",
      "e\n",
      "e\n",
      "Pass executed\n",
      "k\n",
      "s\n"
     ]
    }
   ],
   "source": [
    "# Python program to demonstrate pass statement\n",
    "  \n",
    "s = \"geeks\"\n",
    "  \n",
    "# Empty loop\n",
    "for i in s:\n",
    "    # No error will be raised\n",
    "    pass\n",
    "  \n",
    "# Empty function\n",
    "def fun():\n",
    "    pass\n",
    "  \n",
    "# No error will be raised\n",
    "fun()\n",
    "  \n",
    "# Pass statement\n",
    "for i in s:\n",
    "    if i == 'k':\n",
    "        print('Pass executed')\n",
    "        pass\n",
    "    print(i)"
   ]
  },
  {
   "attachments": {},
   "cell_type": "markdown",
   "id": "2f39c2e3",
   "metadata": {},
   "source": [
    "### One line for loop"
   ]
  },
  {
   "cell_type": "code",
   "execution_count": 111,
   "id": "98cdc92d",
   "metadata": {},
   "outputs": [
    {
     "name": "stdout",
     "output_type": "stream",
     "text": [
      "[3, 4, 5, 6, 7]\n"
     ]
    }
   ],
   "source": [
    "result = []\n",
    "\n",
    "for i in range(1, 6):\n",
    "    result.append(i + 2)\n",
    "    \n",
    "print(result)"
   ]
  },
  {
   "cell_type": "code",
   "execution_count": 112,
   "id": "b86f88a1",
   "metadata": {},
   "outputs": [
    {
     "name": "stdout",
     "output_type": "stream",
     "text": [
      "[3, 4, 5, 6, 7]\n"
     ]
    }
   ],
   "source": [
    "result = [i + 2 for i in range(1, 6)] #每次循环一个元素\n",
    "\n",
    "print(result)"
   ]
  },
  {
   "cell_type": "code",
   "execution_count": 113,
   "id": "c1a407b4",
   "metadata": {},
   "outputs": [
    {
     "name": "stdout",
     "output_type": "stream",
     "text": [
      "[2, 4, 6, 8, 10]\n"
     ]
    }
   ],
   "source": [
    "even = []\n",
    "\n",
    "for number in range(1, 11):\n",
    "    if number % 2 == 0: #取余\n",
    "        even.append(number)\n",
    "\n",
    "print(even)"
   ]
  },
  {
   "cell_type": "code",
   "execution_count": 114,
   "id": "6db0c2de",
   "metadata": {},
   "outputs": [
    {
     "name": "stdout",
     "output_type": "stream",
     "text": [
      "[2, 4, 6, 8, 10]\n"
     ]
    }
   ],
   "source": [
    "even = [number for number in range(1, 11) if number % 2 == 0]\n",
    "\n",
    "print(even)"
   ]
  },
  {
   "attachments": {},
   "cell_type": "markdown",
   "id": "0a6e0cf8",
   "metadata": {},
   "source": [
    "### Try ... Except..."
   ]
  },
  {
   "cell_type": "code",
   "execution_count": 115,
   "id": "9b81ecc7",
   "metadata": {
    "code_folding": []
   },
   "outputs": [
    {
     "name": "stdout",
     "output_type": "stream",
     "text": [
      "1.0\n",
      "CORRECT!\n",
      "This is always executed\n"
     ]
    }
   ],
   "source": [
    "denominator = 5\n",
    "\n",
    "try:\n",
    "    k = 5/denominator # raises divide by zero exception.\n",
    "    print(k)\n",
    "    \n",
    "except :   \n",
    "    # Executed if error in the try block\n",
    "    print(\"ERROR!\")\n",
    "    \n",
    "else:\n",
    "    # execute if no exception   \n",
    "    print(\"CORRECT!\")\n",
    "        \n",
    "finally:\n",
    "    # this block is always executed \n",
    "    # regardless of exception generation.\n",
    "    print('This is always executed') "
   ]
  },
  {
   "cell_type": "code",
   "execution_count": 116,
   "id": "462d8e8d",
   "metadata": {},
   "outputs": [
    {
     "name": "stdout",
     "output_type": "stream",
     "text": [
      "ERROR!\n",
      "This is always executed\n"
     ]
    }
   ],
   "source": [
    "denominator = 0\n",
    "\n",
    "try:\n",
    "    k = 5/denominator # raises divide by zero exception.\n",
    "    print(k)\n",
    "    \n",
    "except :   \n",
    "    # Executed if error in the try block\n",
    "    print(\"ERROR!\")\n",
    "    \n",
    "else:\n",
    "    # execute if no exception   \n",
    "    print(\"CORRECT!\")\n",
    "        \n",
    "finally:\n",
    "    # this block is always executed \n",
    "    # regardless of exception generation.\n",
    "    print('This is always executed') "
   ]
  },
  {
   "attachments": {},
   "cell_type": "markdown",
   "id": "c6a8695a",
   "metadata": {},
   "source": [
    "# User-Defined Functions"
   ]
  },
  {
   "attachments": {},
   "cell_type": "markdown",
   "id": "7c2018c8",
   "metadata": {},
   "source": [
    "## Example 1: \n",
    "For multiple lists, add 1 to each item of list if greater than 5\n"
   ]
  },
  {
   "cell_type": "code",
   "execution_count": 117,
   "id": "2ddaf487",
   "metadata": {},
   "outputs": [],
   "source": [
    "def fiveormore(alist):\n",
    "    for i in alist:\n",
    "        if i > 5:\n",
    "            print(i+1)\n",
    "        else:\n",
    "            print(i)"
   ]
  },
  {
   "cell_type": "code",
   "execution_count": 118,
   "id": "56947ffc",
   "metadata": {},
   "outputs": [
    {
     "name": "stdout",
     "output_type": "stream",
     "text": [
      "4\n",
      "9\n",
      "11\n",
      "16\n"
     ]
    }
   ],
   "source": [
    "numlist = [4,8,10,15]\n",
    "fiveormore(numlist)"
   ]
  },
  {
   "cell_type": "code",
   "execution_count": 119,
   "id": "d0ab69dc",
   "metadata": {},
   "outputs": [
    {
     "name": "stdout",
     "output_type": "stream",
     "text": [
      "1\n",
      "3\n",
      "4\n"
     ]
    }
   ],
   "source": [
    "nextlist = [1,3,4]\n",
    "fiveormore(nextlist)"
   ]
  },
  {
   "cell_type": "code",
   "execution_count": 120,
   "id": "b69f6912",
   "metadata": {},
   "outputs": [
    {
     "name": "stdout",
     "output_type": "stream",
     "text": [
      "10\n",
      "12\n",
      "16\n"
     ]
    }
   ],
   "source": [
    "alist = [9,11,15]\n",
    "fiveormore(alist)"
   ]
  },
  {
   "attachments": {},
   "cell_type": "markdown",
   "id": "be8ee8bd",
   "metadata": {},
   "source": [
    "## Example 2: \n",
    "Celsius to Fahrenheit (C to F) Temperature Conversion"
   ]
  },
  {
   "cell_type": "code",
   "execution_count": 121,
   "id": "391e24b2",
   "metadata": {},
   "outputs": [],
   "source": [
    "def celsius_to_fahr(celsius):\n",
    "    fahr=9/5*celsius +32\n",
    "    return fahr"
   ]
  },
  {
   "cell_type": "code",
   "execution_count": 122,
   "id": "b76dc952",
   "metadata": {},
   "outputs": [
    {
     "data": {
      "text/plain": [
       "86.0"
      ]
     },
     "execution_count": 122,
     "metadata": {},
     "output_type": "execute_result"
    }
   ],
   "source": [
    "celsius_to_fahr(30)"
   ]
  },
  {
   "cell_type": "code",
   "execution_count": 123,
   "id": "009d2557",
   "metadata": {},
   "outputs": [
    {
     "name": "stdout",
     "output_type": "stream",
     "text": [
      "86.00\n"
     ]
    }
   ],
   "source": [
    "print(\"{:.2f}\".format(celsius_to_fahr(30)))"
   ]
  },
  {
   "cell_type": "code",
   "execution_count": 124,
   "id": "9a1d5adb",
   "metadata": {},
   "outputs": [
    {
     "name": "stdout",
     "output_type": "stream",
     "text": [
      "78.80\n"
     ]
    }
   ],
   "source": [
    "print(\"{:.2f}\".format(celsius_to_fahr(26)))"
   ]
  },
  {
   "cell_type": "code",
   "execution_count": null,
   "id": "5ce61b11",
   "metadata": {},
   "outputs": [],
   "source": []
  }
 ],
 "metadata": {
  "kernelspec": {
   "display_name": "Python 3 (ipykernel)",
   "language": "python",
   "name": "python3"
  },
  "language_info": {
   "codemirror_mode": {
    "name": "ipython",
    "version": 3
   },
   "file_extension": ".py",
   "mimetype": "text/x-python",
   "name": "python",
   "nbconvert_exporter": "python",
   "pygments_lexer": "ipython3",
   "version": "3.11.4"
  },
  "toc": {
   "base_numbering": 1,
   "nav_menu": {},
   "number_sections": true,
   "sideBar": true,
   "skip_h1_title": false,
   "title_cell": "Table of Contents",
   "title_sidebar": "Contents",
   "toc_cell": false,
   "toc_position": {},
   "toc_section_display": true,
   "toc_window_display": true
  },
  "varInspector": {
   "cols": {
    "lenName": 16,
    "lenType": 16,
    "lenVar": 40
   },
   "kernels_config": {
    "python": {
     "delete_cmd_postfix": "",
     "delete_cmd_prefix": "del ",
     "library": "var_list.py",
     "varRefreshCmd": "print(var_dic_list())"
    },
    "r": {
     "delete_cmd_postfix": ") ",
     "delete_cmd_prefix": "rm(",
     "library": "var_list.r",
     "varRefreshCmd": "cat(var_dic_list()) "
    }
   },
   "types_to_exclude": [
    "module",
    "function",
    "builtin_function_or_method",
    "instance",
    "_Feature"
   ],
   "window_display": false
  }
 },
 "nbformat": 4,
 "nbformat_minor": 5
}
