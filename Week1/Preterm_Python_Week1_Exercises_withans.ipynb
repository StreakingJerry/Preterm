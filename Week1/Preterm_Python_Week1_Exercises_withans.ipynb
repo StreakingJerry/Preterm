{
 "cells": [
  {
   "cell_type": "markdown",
   "id": "599323fa",
   "metadata": {},
   "source": [
    "# WEEK1-Exercises"
   ]
  },
  {
   "cell_type": "markdown",
   "id": "af01c521",
   "metadata": {},
   "source": [
    "## An simple example\n",
    "\n",
    "* Descriptions: <br/>\n",
    "Write a function to return __True__ if the first and last number of a given list is same If numbers are different then return __False__.\n",
    "<br/> <br/>\n",
    "* The Expected Output: <br/>\n",
    "Given list: [10, 23, 4, 5, 13] <br/>\n",
    "The result is False <br/> \n",
    "Given list: [13, 23, 4, 5, 13] <br/>\n",
    "The result is True <br/>"
   ]
  },
  {
   "cell_type": "markdown",
   "id": "1dd194f1",
   "metadata": {},
   "source": [
    "__Fill up your function in the below cell.__"
   ]
  },
  {
   "cell_type": "markdown",
   "id": "9b8d3183",
   "metadata": {},
   "source": [
    "def first_last_same(numberList):\n",
    "    print(\"Given list:\", numberList)\n",
    "    \n",
    "    '''\n",
    "    Write a function to to return True if the first and last number of a given list is same If numbers are different then return False.\n",
    "    '''\n"
   ]
  },
  {
   "cell_type": "markdown",
   "id": "dafcf7e1",
   "metadata": {},
   "source": [
    "__Run the testing cell below to check your function.__"
   ]
  },
  {
   "cell_type": "markdown",
   "id": "ca0695eb",
   "metadata": {
    "scrolled": true
   },
   "source": [
    "numbers_x = [10,23,4,5,13]\n",
    "print(\"The result is\", first_last_same(numbers_x))\n",
    "\n",
    "numbers_y = [13,23,4,5,13]\n",
    "print(\"The result is\", first_last_same(numbers_y))"
   ]
  },
  {
   "cell_type": "markdown",
   "id": "de729b59",
   "metadata": {},
   "source": [
    "__Sample Answer__"
   ]
  },
  {
   "cell_type": "code",
   "execution_count": 1,
   "id": "6ed5cff2",
   "metadata": {},
   "outputs": [],
   "source": [
    "def first_last_same(numberList):\n",
    "    print(\"Given list:\", numberList)\n",
    "    \n",
    "    '''\n",
    "    Write a function to to return True if the first and last number of a given list is same If numbers are different then return False.\n",
    "    '''\n",
    "    \n",
    "    first_num = numberList[0]\n",
    "    last_num = numberList[-1]\n",
    "    \n",
    "    if first_num == last_num:\n",
    "        return True\n",
    "    else:\n",
    "        return False"
   ]
  },
  {
   "cell_type": "code",
   "execution_count": 2,
   "id": "e66a0048",
   "metadata": {},
   "outputs": [
    {
     "name": "stdout",
     "output_type": "stream",
     "text": [
      "Given list: [10, 23, 4, 5, 13]\n",
      "The result is False\n",
      "Given list: [13, 23, 4, 5, 13]\n",
      "The result is True\n"
     ]
    }
   ],
   "source": [
    "numbers_x = [10,23,4,5,13]\n",
    "print(\"The result is\", first_last_same(numbers_x))\n",
    "\n",
    "numbers_y = [13,23,4,5,13]\n",
    "print(\"The result is\", first_last_same(numbers_y))"
   ]
  },
  {
   "cell_type": "markdown",
   "id": "71f9e2c7",
   "metadata": {},
   "source": [
    " ## Email slicer\n",
    "\n",
    "* Descriptions: <br/>\n",
    "The Email Slicer is a simple yet effective tool that takes an email address as input and slices it into the username and domain components. This process involves dividing the email address into two separate strings using the '@' symbol as the separator.\n",
    "<br/> <br/>\n",
    "* The Expected Output: <br/>\n",
    "If your email is python@cuhk.edu.hk (note: you need to change it to your own email), <br/>\n",
    "then the program will output: <br/>\n",
    "Your username is python  <br/>\n",
    "Your domain is cuhk.edu.hk"
   ]
  },
  {
   "cell_type": "markdown",
   "id": "b819fcc0",
   "metadata": {},
   "source": [
    "__Fill up your function in the below cell.__"
   ]
  },
  {
   "cell_type": "markdown",
   "id": "0d61b2e3",
   "metadata": {},
   "source": [
    "def email_slicer(email):\n",
    "    \n",
    "    '''\n",
    "    Write a function to extract the username and domain from an email address.\n",
    "    '''\n",
    "\n",
    "    \n",
    "    \n",
    "    return username, domain "
   ]
  },
  {
   "cell_type": "markdown",
   "id": "819e0f31",
   "metadata": {},
   "source": [
    "__Run the testing cell below to check your function.__"
   ]
  },
  {
   "cell_type": "markdown",
   "id": "e490fed4",
   "metadata": {
    "scrolled": true
   },
   "source": [
    "email = input(\"Enter Your Email: \").strip() \n",
    "\n",
    "username, domain = email_slicer(email)\n",
    "\n",
    "print('Your username is ' + username)\n",
    "print('Your domain is '+ domain)"
   ]
  },
  {
   "cell_type": "markdown",
   "id": "d855446f",
   "metadata": {},
   "source": [
    "__Sample Answer__"
   ]
  },
  {
   "cell_type": "code",
   "execution_count": 3,
   "id": "4c08a641",
   "metadata": {},
   "outputs": [],
   "source": [
    "def email_slicer(email):\n",
    "    \n",
    "    '''\n",
    "    Write a function to extract the username and domain from an email address.\n",
    "    '''\n",
    "    username = email[:email.index('@')]\n",
    "    domain = email[email.index('@') + 1:]\n",
    "    \n",
    "    \n",
    "    return username, domain "
   ]
  },
  {
   "cell_type": "code",
   "execution_count": 4,
   "id": "455ac5c2",
   "metadata": {},
   "outputs": [
    {
     "name": "stdout",
     "output_type": "stream",
     "text": [
      "Your username is test\n",
      "Your domain is email.com\n"
     ]
    }
   ],
   "source": [
    "email = input(\"Enter Your Email: \").strip() \n",
    "\n",
    "username, domain = email_slicer(email)\n",
    "\n",
    "print('Your username is ' + username)\n",
    "print('Your domain is '+ domain)"
   ]
  },
  {
   "cell_type": "markdown",
   "id": "78638643",
   "metadata": {},
   "source": [
    "## Check overlapping components\n",
    "\n",
    "\n",
    "* Descriptions: <br/>\n",
    "Define a function overlapping()that takes two lists and returns __True__ if they have at least one member in common, __False__ otherwise. \n",
    "<br/> <br/>\n",
    "* The Expected Output: <br/>\n",
    "Given list1: ['00038.HK', '00107.HK', '00168.HK', '00177.HK', '00317.HK'] <br/>\n",
    "Given list2: ['00553.HK', '00564.HK', '00588.HK', '00038.HK', '00670.HK'] <br/>\n",
    "The result is True <br/>\n",
    "Given list1: ['00038.HK', '00107.HK', '00168.HK', '00177.HK', '00317.HK'] <br/>\n",
    "Given list2: ['00553.HK', '00564.HK', '00588.HK', '00598.HK', '00670.HK'] <br/>\n",
    "The result is False <br/>\n",
    "Given list1: [6, 7, 8, 9, 10] <br/>\n",
    "Given list2: [2, 3, 6, 1, 19, 2] <br/>\n",
    "The result is True <br/>"
   ]
  },
  {
   "cell_type": "markdown",
   "id": "fa19a103",
   "metadata": {},
   "source": [
    "__Fill up your function in the below cell.__"
   ]
  },
  {
   "cell_type": "markdown",
   "id": "7b560b5a",
   "metadata": {},
   "source": [
    "def overlapping(list1,list2):\n",
    "    print(\"Given list1:\", list1)\n",
    "    print(\"Given list2:\", list2)\n",
    "    \n",
    "    '''\n",
    "    Write a function overlapping()that takes two lists and returns True if they have at least one member in common, False otherwise. \n",
    "    '''\n",
    "\n",
    "    "
   ]
  },
  {
   "cell_type": "markdown",
   "id": "d3ddf60a",
   "metadata": {},
   "source": [
    "__Run the testing cell below to check your function.__"
   ]
  },
  {
   "cell_type": "markdown",
   "id": "5bc1b9ee",
   "metadata": {
    "scrolled": true
   },
   "source": [
    "listx = ['00038.HK','00107.HK','00168.HK','00177.HK','00317.HK']\n",
    "listy = ['00553.HK','00564.HK','00588.HK','00038.HK','00670.HK']\n",
    "print(\"The result is\", overlapping(listx,listy))\n",
    "\n",
    "listx = ['00038.HK','00107.HK','00168.HK','00177.HK','00317.HK']\n",
    "listy = ['00553.HK','00564.HK','00588.HK','00598.HK','00670.HK']\n",
    "print(\"The result is\", overlapping(listx,listy))\n",
    "\n",
    "listx = [6,7,8,9,10]\n",
    "listy = [2,3,6,1,19,2]\n",
    "print(\"The result is\", overlapping(listx,listy))"
   ]
  },
  {
   "cell_type": "markdown",
   "id": "d7450eae",
   "metadata": {},
   "source": [
    "__Sample Answer1__"
   ]
  },
  {
   "cell_type": "code",
   "execution_count": 5,
   "id": "15920ba7",
   "metadata": {},
   "outputs": [],
   "source": [
    "def overlapping(list1,list2):\n",
    "    print(\"Given list1:\", list1)\n",
    "    print(\"Given list2:\", list2)\n",
    "    \n",
    "    '''\n",
    "    Write a function overlapping()that takes two lists and returns True if they have at least one member in common, False otherwise. \n",
    "    '''\n",
    "    for i in list1:\n",
    "        for j in list2:\n",
    "            if i == j:\n",
    "                return True\n",
    "\n",
    "        return False"
   ]
  },
  {
   "cell_type": "code",
   "execution_count": 6,
   "id": "6b7c7c7d",
   "metadata": {},
   "outputs": [
    {
     "name": "stdout",
     "output_type": "stream",
     "text": [
      "Given list1: ['00038.HK', '00107.HK', '00168.HK', '00177.HK', '00317.HK']\n",
      "Given list2: ['00553.HK', '00564.HK', '00588.HK', '00038.HK', '00670.HK']\n",
      "The result is True\n",
      "Given list1: ['00038.HK', '00107.HK', '00168.HK', '00177.HK', '00317.HK']\n",
      "Given list2: ['00553.HK', '00564.HK', '00588.HK', '00598.HK', '00670.HK']\n",
      "The result is False\n",
      "Given list1: [6, 7, 8, 9, 10]\n",
      "Given list2: [2, 3, 6, 1, 19, 2]\n",
      "The result is True\n"
     ]
    }
   ],
   "source": [
    "listx = ['00038.HK','00107.HK','00168.HK','00177.HK','00317.HK']\n",
    "listy = ['00553.HK','00564.HK','00588.HK','00038.HK','00670.HK']\n",
    "print(\"The result is\", overlapping(listx,listy))\n",
    "\n",
    "listx = ['00038.HK','00107.HK','00168.HK','00177.HK','00317.HK']\n",
    "listy = ['00553.HK','00564.HK','00588.HK','00598.HK','00670.HK']\n",
    "print(\"The result is\", overlapping(listx,listy))\n",
    "\n",
    "listx = [6,7,8,9,10]\n",
    "listy = [2,3,6,1,19,2]\n",
    "print(\"The result is\", overlapping(listx,listy))"
   ]
  },
  {
   "cell_type": "markdown",
   "id": "46683281",
   "metadata": {},
   "source": [
    "__Sample Answer2__"
   ]
  },
  {
   "cell_type": "code",
   "execution_count": 7,
   "id": "573608be",
   "metadata": {},
   "outputs": [],
   "source": [
    "def overlapping(list1,list2):\n",
    "    print(\"Given list1:\", list1)\n",
    "    print(\"Given list2:\", list2)\n",
    "    \n",
    "    '''\n",
    "    Write a function overlapping()that takes two lists and returns True if they have at least one member in common, False otherwise. \n",
    "    '''\n",
    "    for i in list1:\n",
    "        if i in list2:\n",
    "            return True\n",
    "        else:\n",
    "            return False"
   ]
  },
  {
   "cell_type": "code",
   "execution_count": 8,
   "id": "872b1afc",
   "metadata": {},
   "outputs": [
    {
     "name": "stdout",
     "output_type": "stream",
     "text": [
      "Given list1: ['00038.HK', '00107.HK', '00168.HK', '00177.HK', '00317.HK']\n",
      "Given list2: ['00553.HK', '00564.HK', '00588.HK', '00038.HK', '00670.HK']\n",
      "The result is True\n",
      "Given list1: ['00038.HK', '00107.HK', '00168.HK', '00177.HK', '00317.HK']\n",
      "Given list2: ['00553.HK', '00564.HK', '00588.HK', '00598.HK', '00670.HK']\n",
      "The result is False\n",
      "Given list1: [6, 7, 8, 9, 10]\n",
      "Given list2: [2, 3, 6, 1, 19, 2]\n",
      "The result is True\n"
     ]
    }
   ],
   "source": [
    "listx = ['00038.HK','00107.HK','00168.HK','00177.HK','00317.HK']\n",
    "listy = ['00553.HK','00564.HK','00588.HK','00038.HK','00670.HK']\n",
    "print(\"The result is\", overlapping(listx,listy))\n",
    "\n",
    "listx = ['00038.HK','00107.HK','00168.HK','00177.HK','00317.HK']\n",
    "listy = ['00553.HK','00564.HK','00588.HK','00598.HK','00670.HK']\n",
    "print(\"The result is\", overlapping(listx,listy))\n",
    "\n",
    "listx = [6,7,8,9,10]\n",
    "listy = [2,3,6,1,19,2]\n",
    "print(\"The result is\", overlapping(listx,listy))"
   ]
  },
  {
   "cell_type": "markdown",
   "id": "699ad770",
   "metadata": {},
   "source": [
    "## Caesar cipher\n",
    "\n",
    "Desriptions:  \\\n",
    "In cryptography, a Caesar cipher is a simple encryption technique in which each letter in the plain text is replaced by a letter a fixed number of positions down the alphabet. For instance, with a shift of 3, 'A' would be replaced by 'D', 'B' would become 'E', and so on. This method is named after Julius Caesar, who used it to communicate with his generals.\n",
    "\n",
    "ROT-13 (\"rotate by 13 places\") is a widely used example of a Caesar cipher where the shift is 13. In Python, the key for ROT-13 can be represented using the following dictionary:\n",
    "\n",
    "key = {'a': 'n', 'b': 'o', 'c': 'p', 'd': 'q', 'e': 'r', 'f': 's', 'g': 't', 'h': 'u',\n",
    "'i': 'v', 'j': 'w', 'k': 'x', 'l': 'y', 'm': 'z', 'n': 'a', 'o': 'b', 'p': 'c',\n",
    "'q': 'd', 'r': 'e', 's': 'f', 't': 'g', 'u': 'h', 'v': 'i', 'w': 'j', 'x': 'k',\n",
    "'y': 'l', 'z': 'm', 'A': 'N', 'B': 'O', 'C': 'P', 'D': 'Q', 'E': 'R', 'F': 'S',\n",
    "'G': 'T', 'H': 'U', 'I': 'V', 'J': 'W', 'K': 'X', 'L': 'Y', 'M': 'Z', 'N': 'A',\n",
    "'O': 'B', 'P': 'C', 'Q': 'D', 'R': 'E', 'S': 'F', 'T': 'G', 'U': 'H', 'V': 'I',\n",
    "'W': 'J', 'X': 'K', 'Y': 'L', 'Z': 'M'}\n",
    "\n",
    "Your task in this exercise is to implement an encoder/decoder of ROT-13. Once you're done, you will be able to read the following secret message:\n",
    "\n",
    "Pnrfne pvcure? V zhpu cersre Pnrfne fnynq!\n",
    "\n",
    "Note that since the English alphabet has 26 characters, your ROT-13 program will be capable of encoding and decoding texts written in English."
   ]
  },
  {
   "cell_type": "markdown",
   "id": "a91f7d3c",
   "metadata": {},
   "source": [
    "__Fill up your function in the below cell.__"
   ]
  },
  {
   "cell_type": "markdown",
   "id": "592099f6",
   "metadata": {},
   "source": [
    "def ROT_13(string):\n",
    "\n",
    "    key = {'a':'n', 'b':'o', 'c':'p', 'd':'q', 'e':'r', 'f':'s', 'g':'t', 'h':'u',\n",
    "'i':'v', 'j':'w', 'k':'x', 'l':'y', 'm':'z', 'n':'a', 'o':'b', 'p':'c',\n",
    "'q':'d', 'r':'e', 's':'f', 't':'g', 'u':'h', 'v':'i', 'w':'j', 'x':'k',\n",
    "'y':'l', 'z':'m', 'A':'N', 'B':'O', 'C':'P', 'D':'Q', 'E':'R', 'F':'S',\n",
    "'G':'T', 'H':'U', 'I':'V', 'J':'W', 'K':'X', 'L':'Y', 'M':'Z', 'N':'A',\n",
    "'O':'B', 'P':'C', 'Q':'D', 'R':'E', 'S':'F', 'T':'G', 'U':'H', 'V':'I',\n",
    "'W':'J', 'X':'K', 'Y':'L', 'Z':'M'}\n",
    "    \n",
    "    code = ''\n",
    "    \n",
    "    '''implement an encoder/decoder of ROT-13'''\n",
    "    '''fill you code'''\n",
    "    \n",
    "    \n",
    "    \n",
    "    return code"
   ]
  },
  {
   "cell_type": "markdown",
   "id": "c5a73070",
   "metadata": {},
   "source": [
    "__Run the testing cell below to check your function.__ "
   ]
  },
  {
   "cell_type": "markdown",
   "id": "866c1e14",
   "metadata": {},
   "source": [
    "print(ROT_13('Pnrfne pvcure? V zhpu cersre Pnrfne fnynq!'))"
   ]
  },
  {
   "cell_type": "markdown",
   "id": "8981b4c7",
   "metadata": {},
   "source": [
    "__Sample Answer__"
   ]
  },
  {
   "cell_type": "code",
   "execution_count": 9,
   "id": "5da45cf5",
   "metadata": {},
   "outputs": [],
   "source": [
    "def ROT_13(string):\n",
    "\n",
    "    key = {'a':'n', 'b':'o', 'c':'p', 'd':'q', 'e':'r', 'f':'s', 'g':'t', 'h':'u',\n",
    "'i':'v', 'j':'w', 'k':'x', 'l':'y', 'm':'z', 'n':'a', 'o':'b', 'p':'c',\n",
    "'q':'d', 'r':'e', 's':'f', 't':'g', 'u':'h', 'v':'i', 'w':'j', 'x':'k',\n",
    "'y':'l', 'z':'m', 'A':'N', 'B':'O', 'C':'P', 'D':'Q', 'E':'R', 'F':'S',\n",
    "'G':'T', 'H':'U', 'I':'V', 'J':'W', 'K':'X', 'L':'Y', 'M':'Z', 'N':'A',\n",
    "'O':'B', 'P':'C', 'Q':'D', 'R':'E', 'S':'F', 'T':'G', 'U':'H', 'V':'I',\n",
    "'W':'J', 'X':'K', 'Y':'L', 'Z':'M'}\n",
    "    \n",
    "    code = ''\n",
    "    for i in string:\n",
    "        try:\n",
    "            code += key[i]\n",
    "        except:\n",
    "            code += i   # for space and other characters that are not in the dict.\n",
    "            \n",
    "    return code"
   ]
  },
  {
   "cell_type": "code",
   "execution_count": 10,
   "id": "327dddae",
   "metadata": {},
   "outputs": [
    {
     "name": "stdout",
     "output_type": "stream",
     "text": [
      "Caesar cipher? I much prefer Caesar salad!\n"
     ]
    }
   ],
   "source": [
    "print(ROT_13('Pnrfne pvcure? V zhpu cersre Pnrfne fnynq!'))"
   ]
  }
 ],
 "metadata": {
  "kernelspec": {
   "display_name": "Python 3 (ipykernel)",
   "language": "python",
   "name": "python3"
  },
  "language_info": {
   "codemirror_mode": {
    "name": "ipython",
    "version": 3
   },
   "file_extension": ".py",
   "mimetype": "text/x-python",
   "name": "python",
   "nbconvert_exporter": "python",
   "pygments_lexer": "ipython3",
   "version": "3.11.4"
  },
  "toc": {
   "base_numbering": 1,
   "nav_menu": {},
   "number_sections": true,
   "sideBar": true,
   "skip_h1_title": false,
   "title_cell": "Table of Contents",
   "title_sidebar": "Contents",
   "toc_cell": false,
   "toc_position": {},
   "toc_section_display": true,
   "toc_window_display": true
  },
  "varInspector": {
   "cols": {
    "lenName": 16,
    "lenType": 16,
    "lenVar": 40
   },
   "kernels_config": {
    "python": {
     "delete_cmd_postfix": "",
     "delete_cmd_prefix": "del ",
     "library": "var_list.py",
     "varRefreshCmd": "print(var_dic_list())"
    },
    "r": {
     "delete_cmd_postfix": ") ",
     "delete_cmd_prefix": "rm(",
     "library": "var_list.r",
     "varRefreshCmd": "cat(var_dic_list()) "
    }
   },
   "types_to_exclude": [
    "module",
    "function",
    "builtin_function_or_method",
    "instance",
    "_Feature"
   ],
   "window_display": false
  }
 },
 "nbformat": 4,
 "nbformat_minor": 5
}
