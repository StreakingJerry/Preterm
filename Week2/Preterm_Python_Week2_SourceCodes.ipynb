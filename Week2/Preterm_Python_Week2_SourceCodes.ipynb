{
 "cells": [
  {
   "cell_type": "markdown",
   "id": "336d1e0e",
   "metadata": {},
   "source": [
    "# Object-Oriented Programming (OOP) "
   ]
  },
  {
   "cell_type": "markdown",
   "id": "c7747050",
   "metadata": {},
   "source": [
    "## Define a Class"
   ]
  },
  {
   "cell_type": "code",
   "execution_count": 1,
   "id": "dad9cd85",
   "metadata": {},
   "outputs": [],
   "source": [
    "class Client:\n",
    "    name = \"default\"\n",
    "    phone = \"(123)456-7890\"\n",
    "    email = \"foo@bar.com\"\n",
    "    purchases = 0\n"
   ]
  },
  {
   "cell_type": "markdown",
   "id": "20f3f229",
   "metadata": {},
   "source": [
    "## Creating an Instance (Object) of a Class\n"
   ]
  },
  {
   "cell_type": "code",
   "execution_count": 2,
   "id": "d7fde3b5",
   "metadata": {},
   "outputs": [],
   "source": [
    "firstClient = Client()  # Create a new object"
   ]
  },
  {
   "cell_type": "code",
   "execution_count": 3,
   "id": "265afb80",
   "metadata": {},
   "outputs": [],
   "source": [
    "# Change the value of class attributes\n",
    "firstClient.name = \"Lily\"    \n",
    "firstClient.email = \"python@cuhk.edu.hk\""
   ]
  },
  {
   "cell_type": "code",
   "execution_count": 4,
   "id": "780b920c",
   "metadata": {},
   "outputs": [
    {
     "name": "stdout",
     "output_type": "stream",
     "text": [
      "Lily\n",
      "(123)456-7890\n",
      "python@cuhk.edu.hk\n",
      "0\n"
     ]
    }
   ],
   "source": [
    "print(firstClient.name)\n",
    "print(firstClient.phone)\n",
    "print(firstClient.email)\n",
    "print(firstClient.purchases)"
   ]
  },
  {
   "cell_type": "code",
   "execution_count": 5,
   "id": "686a5e77",
   "metadata": {},
   "outputs": [
    {
     "name": "stdout",
     "output_type": "stream",
     "text": [
      "!!!Error:  'Client' object has no attribute 'middleName'\n"
     ]
    }
   ],
   "source": [
    "try:\n",
    "    print(firstClient.middleName)  # Error: no such field defined\n",
    "except Exception as ex:\n",
    "    print(\"!!!Error: \", ex)"
   ]
  },
  {
   "cell_type": "markdown",
   "id": "5e490a5f",
   "metadata": {},
   "source": [
    "## Example: HK Stocks"
   ]
  },
  {
   "cell_type": "code",
   "execution_count": 6,
   "id": "d23d05cc",
   "metadata": {},
   "outputs": [],
   "source": [
    "class HKStocks:\n",
    "    def __init__(self,stock_code = \"default\", name = \"NA\", price = 0, market_cap = 0 ):\n",
    "        self.profile = {'stock_code':stock_code,'name':name,'price':price,'market_cap':market_cap}"
   ]
  },
  {
   "cell_type": "code",
   "execution_count": 7,
   "id": "e1835594",
   "metadata": {},
   "outputs": [
    {
     "name": "stdout",
     "output_type": "stream",
     "text": [
      "{'stock_code': 'default', 'name': 'NA', 'price': 0, 'market_cap': 0}\n"
     ]
    }
   ],
   "source": [
    "s0 = HKStocks()\n",
    "print(s0.profile)"
   ]
  },
  {
   "cell_type": "code",
   "execution_count": 8,
   "id": "a6c0859c",
   "metadata": {},
   "outputs": [
    {
     "name": "stdout",
     "output_type": "stream",
     "text": [
      "{'stock_code': '09988.HK', 'name': 'BABA-SW', 'price': 89.55, 'market_cap': 1897.12}\n",
      "09988.HK\n",
      "BABA-SW\n",
      "89.55\n",
      "1897.12\n"
     ]
    }
   ],
   "source": [
    "# object 1 of Class-HKStocks\n",
    "s1 = HKStocks('09988.HK','BABA-SW',89.55,1897.12)\n",
    "print(s1.profile)\n",
    "print(s1.profile['stock_code'])\n",
    "print(s1.profile['name'])\n",
    "print(s1.profile['price'])\n",
    "print(s1.profile['market_cap'])"
   ]
  },
  {
   "cell_type": "code",
   "execution_count": 9,
   "id": "003b8d73",
   "metadata": {},
   "outputs": [
    {
     "name": "stdout",
     "output_type": "stream",
     "text": [
      "{'stock_code': '03690.HK', 'name': 'MEITUAN-W', 'price': 125.0, 'market_cap': 780.26}\n",
      "03690.HK\n",
      "MEITUAN-W\n",
      "125.0\n",
      "780.26\n"
     ]
    }
   ],
   "source": [
    "# object 2 of Class-HKStocks\n",
    "s2 = HKStocks('03690.HK','MEITUAN-W',125.00,780.26)\n",
    "print(s2.profile)\n",
    "print(s2.profile['stock_code'])\n",
    "print(s2.profile['name'])\n",
    "print(s2.profile['price'])\n",
    "print(s2.profile['market_cap'])"
   ]
  },
  {
   "cell_type": "code",
   "execution_count": 10,
   "id": "b34669ae",
   "metadata": {},
   "outputs": [
    {
     "name": "stdout",
     "output_type": "stream",
     "text": [
      "{'stock_code': '00700.HK', 'name': 'TENCENT', 'price': 325.0, 'market_cap': 3111.63}\n",
      "00700.HK\n",
      "TENCENT\n",
      "325.0\n",
      "3111.63\n"
     ]
    }
   ],
   "source": [
    "# object 3 of Class-HKStocks\n",
    "s3 = HKStocks('00700.HK','TENCENT',325.00,3111.63)\n",
    "print(s3.profile)\n",
    "print(s3.profile['stock_code'])\n",
    "print(s3.profile['name'])\n",
    "print(s3.profile['price'])\n",
    "print(s3.profile['market_cap'])"
   ]
  },
  {
   "cell_type": "markdown",
   "id": "f051b75b",
   "metadata": {},
   "source": [
    "## Define Class Methods \n"
   ]
  },
  {
   "cell_type": "code",
   "execution_count": 11,
   "id": "7d665201",
   "metadata": {},
   "outputs": [],
   "source": [
    "class Person:\n",
    "    name = \"I have no name :(\"\n",
    "    \n",
    "    def sayName(self):\n",
    "        print(\"My name is...\", self.name)\n",
    "        "
   ]
  },
  {
   "cell_type": "code",
   "execution_count": 12,
   "id": "d3c2be6e",
   "metadata": {},
   "outputs": [
    {
     "name": "stdout",
     "output_type": "stream",
     "text": [
      "My name is... I have no name :(\n"
     ]
    }
   ],
   "source": [
    "aPerson = Person()\n",
    "aPerson.sayName()"
   ]
  },
  {
   "cell_type": "code",
   "execution_count": 13,
   "id": "abae70f3",
   "metadata": {},
   "outputs": [
    {
     "name": "stdout",
     "output_type": "stream",
     "text": [
      "My name is... HappyLily :D\n"
     ]
    }
   ],
   "source": [
    "aPerson.name = \"HappyLily :D\"\n",
    "aPerson.sayName()"
   ]
  },
  {
   "cell_type": "markdown",
   "id": "b8fc63d1",
   "metadata": {},
   "source": [
    "## Accessing Attributes & Methods "
   ]
  },
  {
   "cell_type": "code",
   "execution_count": 14,
   "id": "cee4ccb7",
   "metadata": {},
   "outputs": [
    {
     "name": "stdout",
     "output_type": "stream",
     "text": [
      "My name is... Lisa, Nice to meet you.\n"
     ]
    }
   ],
   "source": [
    "lisa = Person()\n",
    "lisa.name = \"Lisa, Nice to meet you.\"\n",
    "lisa.sayName()\n"
   ]
  },
  {
   "cell_type": "markdown",
   "id": "565aaff1",
   "metadata": {},
   "source": [
    "## Constructor: A Special Method"
   ]
  },
  {
   "cell_type": "code",
   "execution_count": 15,
   "id": "65c340f0",
   "metadata": {},
   "outputs": [
    {
     "data": {
      "text/plain": [
       "'No name'"
      ]
     },
     "execution_count": 15,
     "metadata": {},
     "output_type": "execute_result"
    }
   ],
   "source": [
    "class Person:\n",
    "    name = \"\"\n",
    "    \n",
    "    def __init__(self):\n",
    "        self.name = \"No name\"\n",
    "\n",
    "\n",
    "bPerson = Person()\n",
    "bPerson.name"
   ]
  },
  {
   "cell_type": "code",
   "execution_count": 16,
   "id": "8f741597",
   "metadata": {},
   "outputs": [
    {
     "data": {
      "text/plain": [
       "'Lynn'"
      ]
     },
     "execution_count": 16,
     "metadata": {},
     "output_type": "execute_result"
    }
   ],
   "source": [
    "class Person:\n",
    "    name = \"\"\n",
    "    \n",
    "    def __init__(self, aName):\n",
    "        self.name = aName\n",
    "\n",
    "cPerson = Person(\"Lynn\")\n",
    "cPerson.name"
   ]
  },
  {
   "cell_type": "code",
   "execution_count": 17,
   "id": "a9b3fbc4",
   "metadata": {},
   "outputs": [
    {
     "name": "stdout",
     "output_type": "stream",
     "text": [
      "No name\n",
      "Rose\n"
     ]
    }
   ],
   "source": [
    "class Person:\n",
    "    def __init__(self, aName=\"No name\"):\n",
    "        self.name = aName\n",
    "        \n",
    "dPerson = Person()\n",
    "print(dPerson.name)\n",
    "\n",
    "ePerson = Person(\"Rose\")\n",
    "print(ePerson.name)"
   ]
  },
  {
   "cell_type": "markdown",
   "id": "9d8368ab",
   "metadata": {},
   "source": [
    "## Example: Class Person with Birthday "
   ]
  },
  {
   "cell_type": "code",
   "execution_count": 18,
   "id": "d9c88b42",
   "metadata": {},
   "outputs": [],
   "source": [
    "class Person:\n",
    "    name = \"No Name\"\n",
    "    age = 0\n",
    "\n",
    "    def __init__(self,newName,newAge):\n",
    "        self.name = newName\n",
    "        self.age = newAge\n",
    "\n",
    "    def haveBirthday(self):\n",
    "        print(\"Happy Birthday!\")\n",
    "        self.mature()\n",
    "\n",
    "    def mature(self):\n",
    "        self.age = self.age + 1\n"
   ]
  },
  {
   "cell_type": "code",
   "execution_count": 19,
   "id": "d4ee9898",
   "metadata": {},
   "outputs": [
    {
     "name": "stdout",
     "output_type": "stream",
     "text": [
      "Cartman is 8.\n"
     ]
    }
   ],
   "source": [
    "aPerson = Person(\"Cartman\",8)\n",
    "print(\"%s is %d.\" %(aPerson.name,aPerson.age))"
   ]
  },
  {
   "cell_type": "code",
   "execution_count": 20,
   "id": "a1bc7a76",
   "metadata": {},
   "outputs": [
    {
     "name": "stdout",
     "output_type": "stream",
     "text": [
      "Happy Birthday!\n",
      "Cartman is 9.\n"
     ]
    }
   ],
   "source": [
    "aPerson.haveBirthday()\n",
    "print(\"%s is %d.\" %(aPerson.name,aPerson.age))"
   ]
  },
  {
   "cell_type": "markdown",
   "id": "d72cdfe6",
   "metadata": {},
   "source": [
    "## Example: Class Client with Purchases"
   ]
  },
  {
   "cell_type": "code",
   "execution_count": 21,
   "id": "899f0e58",
   "metadata": {},
   "outputs": [],
   "source": [
    "class Client:\n",
    "    name = \"No Name\"\n",
    "    purchase = 0\n",
    "\n",
    "    def __init__(self,newName,newPurchase):\n",
    "        self.name = newName\n",
    "        self.purchase = newPurchase\n",
    "\n",
    "    def makePurchase(self, addPurchase):\n",
    "        print(\"Making new purchase\"+ str(addPurchase))\n",
    "        self.purchase = self. purchase + addPurchase\n",
    "        \n",
    "        \n"
   ]
  },
  {
   "cell_type": "code",
   "execution_count": 22,
   "id": "f096bc84",
   "metadata": {},
   "outputs": [
    {
     "name": "stdout",
     "output_type": "stream",
     "text": [
      "Lily's purchase position: 100.\n"
     ]
    }
   ],
   "source": [
    "aClient = Client(\"Lily\",100)\n",
    "print(\"%s's purchase position: %d.\" %(aClient.name,aClient.purchase))"
   ]
  },
  {
   "cell_type": "code",
   "execution_count": 23,
   "id": "004c2229",
   "metadata": {},
   "outputs": [
    {
     "name": "stdout",
     "output_type": "stream",
     "text": [
      "Making new purchase150\n",
      "Lily's purchase position: 250.\n"
     ]
    }
   ],
   "source": [
    "aClient.makePurchase(150)\n",
    "print(\"%s's purchase position: %d.\" %(aClient.name,aClient.purchase))"
   ]
  },
  {
   "cell_type": "markdown",
   "id": "fb347e08",
   "metadata": {},
   "source": [
    "# NumPy"
   ]
  },
  {
   "cell_type": "markdown",
   "id": "3870fab2",
   "metadata": {},
   "source": [
    "\n",
    "## Why NumPy\n",
    "\n",
    "NumPy (short for Numerical Python) provides data structure called `ndarray`, which is like Python's built-in `list` type but more effcient in storage and data operation. This is especially true as the size of data grows. Each element of a `list` in itself is a high-level python object and when working with large number of elements, it creates overhead in performance efficiency. For example, operating on the elements in the `list` can only be done through iterative loops, which is computationally inefficient. \n",
    "\n",
    "NumPy's array data structure stores data in a simpler form and manipulates it more directly in memory without having to deal with high-level python objects. It is less flexible in that only data of the same data type can be stored in a column of an array. However, this limitation also allows for numerical operations such as matrix manipulations and simulations to be completed much faster. For this reason, NumPy arrays form the core of nearly the entire ecosystem of data science tools in Python. Other popular data science libraries such as Pandas and Scikit Learn are built on top of NumPy.\n",
    "\n",
    "\n",
    "## Installing NumPy\n",
    "\n",
    "If you sucessfully installed the recommended method of Python installation through Anaconda, you already have NumPy. Google colab also comes with NumPy module installed. You just have to import the module into your jupyter notebook to begin using it. \n",
    "\n",
    "For more information regarding NumPy installation, visit - https://scipy.org/install.html.\n",
    "\n",
    "\n",
    "## Importing NumPy\n",
    "\n",
    "- Packages can be imported in Python environment by using the `import` statement followed by the module name. \n",
    "- You may also give an alias to the name of the module, so you do not have to type the module name everytime you want to access a method attached to it. "
   ]
  },
  {
   "cell_type": "code",
   "execution_count": 24,
   "id": "014cf278",
   "metadata": {},
   "outputs": [],
   "source": [
    "# import - import directive\n",
    "# numpy - the package being imported\n",
    "# as np - give alias \"np\" to the module numpy\n",
    "\n",
    "import numpy as np\n",
    "\n",
    "# now you can access method attached to numpy using \"np.\""
   ]
  },
  {
   "cell_type": "markdown",
   "id": "c569c755",
   "metadata": {
    "colab_type": "text",
    "id": "4POoACzaXUie"
   },
   "source": [
    "## ndarray\n",
    "\n",
    "- NumPy’s main object is the homogeneous multidimensional array, which is a table with elements of same data type, i.e, integers or string or characters (homogeneous), usually integers.\n",
    "- `ndarray` stands for N-dimensional array. A NumPy array is a grid of values, all of the same type.\n",
    "- Like `list`, `ndarray` can also be indexed and sliced.\n",
    "- NumPy methods and functions can be accessed using dot notation after importing the module itself."
   ]
  },
  {
   "cell_type": "code",
   "execution_count": 25,
   "id": "016fc83f",
   "metadata": {},
   "outputs": [
    {
     "data": {
      "text/plain": [
       "array([1, 2, 3])"
      ]
     },
     "execution_count": 25,
     "metadata": {},
     "output_type": "execute_result"
    }
   ],
   "source": [
    "np.array([1,2,3])"
   ]
  },
  {
   "cell_type": "code",
   "execution_count": 26,
   "id": "36fc08df",
   "metadata": {},
   "outputs": [
    {
     "data": {
      "text/plain": [
       "array([[ 5, 10],\n",
       "       [ 5, 10],\n",
       "       [ 5, 10]])"
      ]
     },
     "execution_count": 26,
     "metadata": {},
     "output_type": "execute_result"
    }
   ],
   "source": [
    "a=np.array([[1,4],[2,3],[1,4]])\n",
    "b=np.array([[1,2],[1,2]])\n",
    "a.dot(b)"
   ]
  },
  {
   "cell_type": "markdown",
   "id": "136eef9a",
   "metadata": {},
   "source": [
    "### NumPy vs List operations\n",
    "`List` and `ndarray` both contain data. So what is the difference? \n",
    "\n",
    "- The primary difference is the way in which the data is stored in `ndarray`, which makes it perform better. NumPy data structures take up less space and are faster than `list`. \n",
    "- `List` can contain multiple objects. However, elements of `ndarray` are homogenous.  \n",
    "- `List` is flexible, allowing items to be added or removed. However, `ndarrays` does not allow adding or removing items.\n",
    "- In addition, NumPy and SciPy model provide optimized functions for scientific operations such as linear algebra and more."
   ]
  },
  {
   "cell_type": "code",
   "execution_count": 27,
   "id": "ee5e516b",
   "metadata": {
    "colab": {
     "base_uri": "https://localhost:8080/",
     "height": 36
    },
    "colab_type": "code",
    "id": "IpEiK2QYyDUB",
    "outputId": "56b21cb7-48ae-4570-99a9-b360663d8d80"
   },
   "outputs": [
    {
     "name": "stdout",
     "output_type": "stream",
     "text": [
      "<class 'list'>\n",
      "<class 'str'>\n",
      "<class 'int'>\n",
      "<class 'float'>\n"
     ]
    }
   ],
   "source": [
    "alist = ['Book', 4, 14.99]\n",
    "\n",
    "print(type(alist))\n",
    "\n",
    "print(type(alist[0]))\n",
    "print(type(alist[1]))\n",
    "print(type(alist[2]))"
   ]
  },
  {
   "cell_type": "code",
   "execution_count": 28,
   "id": "fd5cf4d9",
   "metadata": {
    "colab": {
     "base_uri": "https://localhost:8080/",
     "height": 36
    },
    "colab_type": "code",
    "id": "9xagQ_jyyGpu",
    "outputId": "25c4dca4-85ca-4bf4-9d64-7bd0d983e236"
   },
   "outputs": [
    {
     "data": {
      "text/plain": [
       "array(['Book', '4', '14.99'], dtype='<U32')"
      ]
     },
     "execution_count": 28,
     "metadata": {},
     "output_type": "execute_result"
    }
   ],
   "source": [
    "A = np.array(alist)\n",
    "A"
   ]
  },
  {
   "cell_type": "code",
   "execution_count": 29,
   "id": "6853ab62",
   "metadata": {},
   "outputs": [
    {
     "name": "stdout",
     "output_type": "stream",
     "text": [
      "<class 'numpy.ndarray'>\n",
      "<class 'numpy.str_'>\n",
      "<class 'numpy.str_'>\n",
      "<class 'numpy.str_'>\n"
     ]
    }
   ],
   "source": [
    "print(type(A))\n",
    "\n",
    "print(type(A[0]))\n",
    "print(type(A[1]))\n",
    "print(type(A[2]))"
   ]
  },
  {
   "cell_type": "markdown",
   "id": "3f3389b1",
   "metadata": {},
   "source": [
    "- There are additional advantages to using a `ndarray` over a list. \n",
    "\n",
    "For example, to add a constant 2 to each element of a numeric `list`, we write -"
   ]
  },
  {
   "cell_type": "code",
   "execution_count": 30,
   "id": "91627103",
   "metadata": {},
   "outputs": [
    {
     "name": "stdout",
     "output_type": "stream",
     "text": [
      "1\n",
      "2\n",
      "3\n",
      "[3, 4, 5]\n"
     ]
    }
   ],
   "source": [
    "numlist = range(1,4)\n",
    "\n",
    "doubled_list = []\n",
    "for i in numlist:\n",
    "    print(i)\n",
    "    doubled_list.append(i+2)\n",
    "\n",
    "print(doubled_list)"
   ]
  },
  {
   "cell_type": "markdown",
   "id": "21dc6370",
   "metadata": {},
   "source": [
    "Do the same with `ndarray`"
   ]
  },
  {
   "cell_type": "code",
   "execution_count": 31,
   "id": "69e721ff",
   "metadata": {},
   "outputs": [
    {
     "name": "stdout",
     "output_type": "stream",
     "text": [
      "[1 2 3]\n"
     ]
    },
    {
     "data": {
      "text/plain": [
       "array([3, 4, 5])"
      ]
     },
     "execution_count": 31,
     "metadata": {},
     "output_type": "execute_result"
    }
   ],
   "source": [
    "A = np.arange(1,4)\n",
    "doubleA = np.add(A,2)\n",
    "\n",
    "print(A)\n",
    "doubleA"
   ]
  },
  {
   "cell_type": "markdown",
   "id": "88929ac4",
   "metadata": {},
   "source": [
    "### Getting array information\n",
    "\n",
    "We can get additional information regarding the data using method such as - \n",
    "- `np.ndim`, which refers to the number of dimension of an array and \n",
    "- `np.shape`, which provides information on the length of each dimension of an array."
   ]
  },
  {
   "cell_type": "code",
   "execution_count": 32,
   "id": "45d4be89",
   "metadata": {},
   "outputs": [
    {
     "data": {
      "text/plain": [
       "1"
      ]
     },
     "execution_count": 32,
     "metadata": {},
     "output_type": "execute_result"
    }
   ],
   "source": [
    "A.ndim"
   ]
  },
  {
   "cell_type": "code",
   "execution_count": 33,
   "id": "e84f48e5",
   "metadata": {},
   "outputs": [
    {
     "data": {
      "text/plain": [
       "(3,)"
      ]
     },
     "execution_count": 33,
     "metadata": {},
     "output_type": "execute_result"
    }
   ],
   "source": [
    "A.shape"
   ]
  },
  {
   "cell_type": "code",
   "execution_count": 34,
   "id": "99034638",
   "metadata": {},
   "outputs": [
    {
     "data": {
      "text/plain": [
       "3"
      ]
     },
     "execution_count": 34,
     "metadata": {},
     "output_type": "execute_result"
    }
   ],
   "source": [
    "A.size"
   ]
  },
  {
   "cell_type": "code",
   "execution_count": 35,
   "id": "a4aada6d",
   "metadata": {},
   "outputs": [
    {
     "data": {
      "text/plain": [
       "dtype('int32')"
      ]
     },
     "execution_count": 35,
     "metadata": {},
     "output_type": "execute_result"
    }
   ],
   "source": [
    "A.dtype"
   ]
  },
  {
   "cell_type": "markdown",
   "id": "8a532e2c",
   "metadata": {},
   "source": [
    "### Applying operators\n",
    "- Arithmetic operations are even an easier with NumPy.\n",
    "\n",
    "For example to add constant 1 to `ndarray`, we can simply write -"
   ]
  },
  {
   "cell_type": "code",
   "execution_count": 36,
   "id": "7c226654",
   "metadata": {},
   "outputs": [
    {
     "data": {
      "text/plain": [
       "array([3, 4, 5])"
      ]
     },
     "execution_count": 36,
     "metadata": {},
     "output_type": "execute_result"
    }
   ],
   "source": [
    "A + 2 "
   ]
  },
  {
   "cell_type": "markdown",
   "id": "bcb1b518",
   "metadata": {},
   "source": [
    "- This is possible due to broadcasting feature of `ndarray`, which makes NumPy a powerful scientific package. \n",
    "\n",
    "Let's look at more examples."
   ]
  },
  {
   "cell_type": "code",
   "execution_count": 37,
   "id": "be7c3a5e",
   "metadata": {},
   "outputs": [
    {
     "name": "stdout",
     "output_type": "stream",
     "text": [
      "[0 1 2 3 4 5]\n",
      "[5 4 3 2 1 0]\n"
     ]
    }
   ],
   "source": [
    "x = np.arange(0,6)\n",
    "y = np.arange(5,-1,-1)\n",
    "\n",
    "print(x)\n",
    "print(y)"
   ]
  },
  {
   "cell_type": "code",
   "execution_count": 38,
   "id": "f12d587a",
   "metadata": {},
   "outputs": [
    {
     "name": "stdout",
     "output_type": "stream",
     "text": [
      "[0.         0.33333333 0.66666667 1.         1.33333333 1.66666667]\n",
      "[5 5 5 5 5 5]\n"
     ]
    }
   ],
   "source": [
    "print(x/3)\n",
    "print(x+y)"
   ]
  },
  {
   "cell_type": "markdown",
   "id": "b88f1406",
   "metadata": {},
   "source": [
    "- We can use conditional operators similarly. "
   ]
  },
  {
   "cell_type": "code",
   "execution_count": 39,
   "id": "531ee6ad",
   "metadata": {},
   "outputs": [
    {
     "name": "stdout",
     "output_type": "stream",
     "text": [
      "[False False False  True  True  True]\n",
      "[ True  True  True False False False]\n"
     ]
    }
   ],
   "source": [
    "print(x >= 3)\n",
    "print(x < y)"
   ]
  },
  {
   "cell_type": "markdown",
   "id": "1e6fd7fd",
   "metadata": {
    "colab_type": "text",
    "id": "Tp4VxzpuZtpv"
   },
   "source": [
    "That's for operation on arrays with same length. But what if they are not of same length or size? \n",
    "\n",
    "- we can create a new array using `np.zeros` method, which creates array of specified shape filled with zeros."
   ]
  },
  {
   "cell_type": "code",
   "execution_count": 40,
   "id": "f9abbfc6",
   "metadata": {
    "colab": {
     "base_uri": "https://localhost:8080/",
     "height": 54
    },
    "colab_type": "code",
    "id": "oIF7irAaYjFr",
    "outputId": "2cdef3ca-2d3c-4f0c-e7bb-930bec84565a"
   },
   "outputs": [
    {
     "data": {
      "text/plain": [
       "array([[0., 0.],\n",
       "       [0., 0.],\n",
       "       [0., 0.]])"
      ]
     },
     "execution_count": 40,
     "metadata": {},
     "output_type": "execute_result"
    }
   ],
   "source": [
    "z = np.zeros([3,2]) # 3x2, meaning 3 rows and 2 columns\n",
    "z"
   ]
  },
  {
   "cell_type": "code",
   "execution_count": 41,
   "id": "a9b4bae7",
   "metadata": {},
   "outputs": [
    {
     "name": "stdout",
     "output_type": "stream",
     "text": [
      "!!!Error:  operands could not be broadcast together with shapes (6,) (3,2) \n"
     ]
    }
   ],
   "source": [
    "try:\n",
    "    x+z\n",
    "except Exception as ex:\n",
    "    print(\"!!!Error: \", ex)"
   ]
  },
  {
   "cell_type": "markdown",
   "id": "7d6e24fc",
   "metadata": {},
   "source": [
    "### Modifying arrays\n",
    "\n",
    "- We get an error above because the shapes of these two arrays do not allow the operation. \n",
    "- One way is to change the shape of one of the arrays so that the operation can be performed. \n",
    "- We can do this using `np.reshape` method."
   ]
  },
  {
   "cell_type": "code",
   "execution_count": 42,
   "id": "9516d027",
   "metadata": {},
   "outputs": [
    {
     "data": {
      "text/plain": [
       "array([[0, 1],\n",
       "       [2, 3],\n",
       "       [4, 5]])"
      ]
     },
     "execution_count": 42,
     "metadata": {},
     "output_type": "execute_result"
    }
   ],
   "source": [
    "w = x.reshape(3,2)\n",
    "w"
   ]
  },
  {
   "cell_type": "code",
   "execution_count": 43,
   "id": "bf97eb95",
   "metadata": {},
   "outputs": [
    {
     "data": {
      "text/plain": [
       "array([[0., 1.],\n",
       "       [2., 3.],\n",
       "       [4., 5.]])"
      ]
     },
     "execution_count": 43,
     "metadata": {},
     "output_type": "execute_result"
    }
   ],
   "source": [
    "w+z"
   ]
  },
  {
   "cell_type": "markdown",
   "id": "c0f12156",
   "metadata": {},
   "source": [
    "That worked! \n",
    "\n",
    "- Of course, all values in z was zeros so the numbers are the same but notice that integer has changed into float. \n",
    "- This is because data in z was stored as a float and it takes precedent over integer data type. \n",
    "- To convert a float array to an integer array in python, `np.astype` method can be used."
   ]
  },
  {
   "cell_type": "code",
   "execution_count": 44,
   "id": "0d4d21d1",
   "metadata": {},
   "outputs": [
    {
     "data": {
      "text/plain": [
       "array([[0, 1],\n",
       "       [2, 3],\n",
       "       [4, 5]], dtype=int64)"
      ]
     },
     "execution_count": 44,
     "metadata": {},
     "output_type": "execute_result"
    }
   ],
   "source": [
    "sum_wz = w+z\n",
    "sum_wz.astype(\"int64\")"
   ]
  },
  {
   "cell_type": "markdown",
   "id": "923f8ccd",
   "metadata": {},
   "source": [
    "### Initializing arrays\n",
    "\n",
    "So far we saw examples with `np.arange` and `np.zeros` methods. But this is not it. There are many other methods for this task each of them designed to fit a particular situation requiring a mathematical operation. \n",
    "\n",
    "Let see a few more:"
   ]
  },
  {
   "cell_type": "code",
   "execution_count": 45,
   "id": "2cc8a11b",
   "metadata": {},
   "outputs": [
    {
     "data": {
      "text/plain": [
       "array([1., 1., 1., 1., 1., 1., 1., 1., 1., 1.])"
      ]
     },
     "execution_count": 45,
     "metadata": {},
     "output_type": "execute_result"
    }
   ],
   "source": [
    "np.ones((10))                   # Return array filled with 1"
   ]
  },
  {
   "cell_type": "code",
   "execution_count": 46,
   "id": "3134c16d",
   "metadata": {},
   "outputs": [
    {
     "data": {
      "text/plain": [
       "array([1.        , 1.44444444, 1.88888889, 2.33333333, 2.77777778,\n",
       "       3.22222222, 3.66666667, 4.11111111, 4.55555556, 5.        ])"
      ]
     },
     "execution_count": 46,
     "metadata": {},
     "output_type": "execute_result"
    }
   ],
   "source": [
    "np.linspace(1,5,10)             # Return evenly spaced numbers over a specified interval."
   ]
  },
  {
   "cell_type": "code",
   "execution_count": 47,
   "id": "9cf790bb",
   "metadata": {},
   "outputs": [
    {
     "data": {
      "text/plain": [
       "array([0, 0, 2, 0, 1, 2, 1, 1, 3, 3])"
      ]
     },
     "execution_count": 47,
     "metadata": {},
     "output_type": "execute_result"
    }
   ],
   "source": [
    "np.random.randint(5, size=10)   # Return array of random integers"
   ]
  },
  {
   "cell_type": "code",
   "execution_count": 48,
   "id": "2440d0f7",
   "metadata": {},
   "outputs": [
    {
     "data": {
      "text/plain": [
       "array([[1., 0., 0., 0.],\n",
       "       [0., 1., 0., 0.],\n",
       "       [0., 0., 1., 0.],\n",
       "       [0., 0., 0., 1.]])"
      ]
     },
     "execution_count": 48,
     "metadata": {},
     "output_type": "execute_result"
    }
   ],
   "source": [
    "np.identity(4)                  # Return identity matrix"
   ]
  },
  {
   "cell_type": "markdown",
   "id": "ba79b733",
   "metadata": {},
   "source": [
    "- Refer to NumPy's official documentation to learn about these methods in detail. \n",
    "\n",
    "### Basic statistical methods\n",
    "\n",
    "There are also numerous methods provided to perform basic statistical operations so that we do not have to write the code for these from scratch."
   ]
  },
  {
   "cell_type": "code",
   "execution_count": 49,
   "id": "1fdb1066",
   "metadata": {
    "colab": {
     "base_uri": "https://localhost:8080/",
     "height": 54
    },
    "colab_type": "code",
    "id": "M0X0Nu1dyIdi",
    "outputId": "d1721631-93cc-4003-f50c-721a8f8f8d58"
   },
   "outputs": [
    {
     "data": {
      "text/plain": [
       "array([[ 2,  3,  4],\n",
       "       [12, 14, 15],\n",
       "       [ 9, 10,  6]])"
      ]
     },
     "execution_count": 49,
     "metadata": {},
     "output_type": "execute_result"
    }
   ],
   "source": [
    "B = np.array([(2,3,4),\n",
    "              (12,14,15),\n",
    "              (9,10,6)])\n",
    "\n",
    "B"
   ]
  },
  {
   "cell_type": "code",
   "execution_count": 50,
   "id": "eea72322",
   "metadata": {},
   "outputs": [
    {
     "name": "stdout",
     "output_type": "stream",
     "text": [
      "2\n",
      "(3, 3)\n",
      "9\n",
      "int32\n"
     ]
    }
   ],
   "source": [
    "# array info\n",
    "print(B.ndim)\n",
    "print(B.shape)\n",
    "print(B.size)\n",
    "print(B.dtype)"
   ]
  },
  {
   "cell_type": "code",
   "execution_count": 51,
   "id": "00e502f8",
   "metadata": {
    "colab": {
     "base_uri": "https://localhost:8080/",
     "height": 54
    },
    "colab_type": "code",
    "id": "gxnMHNSRate3",
    "outputId": "e2265117-6093-4e97-dd50-62cffeffce73"
   },
   "outputs": [
    {
     "name": "stdout",
     "output_type": "stream",
     "text": [
      "15\n",
      "2\n",
      "75\n"
     ]
    }
   ],
   "source": [
    "print(B.max())\n",
    "print(B.min())\n",
    "print(B.sum())"
   ]
  },
  {
   "cell_type": "markdown",
   "id": "12594a01",
   "metadata": {},
   "source": [
    "- `np.sum` method provides us the sum of all elements in an array but what is we want sum of the elements in each row or columns?\n",
    "- `np.sum()` function can be used for this. It allows us to define which dimension we want to sum the elements over. "
   ]
  },
  {
   "cell_type": "code",
   "execution_count": 52,
   "id": "86d866a3",
   "metadata": {},
   "outputs": [
    {
     "name": "stdout",
     "output_type": "stream",
     "text": [
      "[23 27 25]\n",
      "[ 9 41 25]\n"
     ]
    }
   ],
   "source": [
    "print(np.sum(B, axis=0)) # rows\n",
    "print(np.sum(B, axis=1)) # columns"
   ]
  },
  {
   "cell_type": "markdown",
   "id": "b44bf811",
   "metadata": {},
   "source": [
    "### Indexing, Slicing and Stepping\n",
    "\n",
    "- To make things easier, NumPy follows the same convention to index, slice and step as Python lists. "
   ]
  },
  {
   "cell_type": "code",
   "execution_count": 53,
   "id": "271c619a",
   "metadata": {
    "scrolled": true
   },
   "outputs": [
    {
     "data": {
      "text/plain": [
       "'a'"
      ]
     },
     "execution_count": 53,
     "metadata": {},
     "output_type": "execute_result"
    }
   ],
   "source": [
    "alpha_list = ['a','b','c','d','e','f']\n",
    "A = np.array(alpha_list)\n",
    "A[0]"
   ]
  },
  {
   "cell_type": "code",
   "execution_count": 54,
   "id": "7d78cb20",
   "metadata": {},
   "outputs": [
    {
     "data": {
      "text/plain": [
       "array(['b', 'c', 'd'], dtype='<U1')"
      ]
     },
     "execution_count": 54,
     "metadata": {},
     "output_type": "execute_result"
    }
   ],
   "source": [
    "A[1:4]"
   ]
  },
  {
   "cell_type": "code",
   "execution_count": 55,
   "id": "a59f8e1f",
   "metadata": {},
   "outputs": [
    {
     "data": {
      "text/plain": [
       "array(['a', 'c', 'e'], dtype='<U1')"
      ]
     },
     "execution_count": 55,
     "metadata": {},
     "output_type": "execute_result"
    }
   ],
   "source": [
    "A[::2]"
   ]
  },
  {
   "cell_type": "code",
   "execution_count": 56,
   "id": "cfaa585c",
   "metadata": {},
   "outputs": [
    {
     "data": {
      "text/plain": [
       "array(['f', 'e', 'd', 'c', 'b', 'a'], dtype='<U1')"
      ]
     },
     "execution_count": 56,
     "metadata": {},
     "output_type": "execute_result"
    }
   ],
   "source": [
    "A[::-1]"
   ]
  },
  {
   "cell_type": "markdown",
   "id": "dd0bb695",
   "metadata": {},
   "source": [
    "What about arrays with more than 1 dimension? \n",
    "\n",
    "- We can just separate each dimension with a comma and follow the same convention."
   ]
  },
  {
   "cell_type": "code",
   "execution_count": 57,
   "id": "449e8082",
   "metadata": {},
   "outputs": [
    {
     "data": {
      "text/plain": [
       "array([[ 2,  3,  4],\n",
       "       [12, 14, 15],\n",
       "       [ 9, 10,  6]])"
      ]
     },
     "execution_count": 57,
     "metadata": {},
     "output_type": "execute_result"
    }
   ],
   "source": [
    "B"
   ]
  },
  {
   "cell_type": "code",
   "execution_count": 58,
   "id": "69d1a2a3",
   "metadata": {},
   "outputs": [
    {
     "data": {
      "text/plain": [
       "10"
      ]
     },
     "execution_count": 58,
     "metadata": {},
     "output_type": "execute_result"
    }
   ],
   "source": [
    "B[2,1]"
   ]
  },
  {
   "cell_type": "code",
   "execution_count": 59,
   "id": "ad8448d1",
   "metadata": {},
   "outputs": [
    {
     "data": {
      "text/plain": [
       "array([ 3, 14])"
      ]
     },
     "execution_count": 59,
     "metadata": {},
     "output_type": "execute_result"
    }
   ],
   "source": [
    "B[:2,1]"
   ]
  },
  {
   "cell_type": "code",
   "execution_count": 60,
   "id": "6082496a",
   "metadata": {},
   "outputs": [
    {
     "data": {
      "text/plain": [
       "array([[ 6, 10,  9],\n",
       "       [15, 14, 12],\n",
       "       [ 4,  3,  2]])"
      ]
     },
     "execution_count": 60,
     "metadata": {},
     "output_type": "execute_result"
    }
   ],
   "source": [
    "B[::-1,::-1]"
   ]
  },
  {
   "cell_type": "code",
   "execution_count": 61,
   "id": "004f4332",
   "metadata": {},
   "outputs": [
    {
     "data": {
      "text/plain": [
       "array([[[ 1,  2,  3,  4],\n",
       "        [ 4,  5,  6,  7],\n",
       "        [ 8,  9, 10, 11]],\n",
       "\n",
       "       [[12, 13, 14, 15],\n",
       "        [16, 17, 18, 19],\n",
       "        [20, 21, 22, 23]]])"
      ]
     },
     "execution_count": 61,
     "metadata": {},
     "output_type": "execute_result"
    }
   ],
   "source": [
    "C =np.array([ [[1,2,3,4],\n",
    "               [4,5,6,7],\n",
    "               [8,9,10,11]],\n",
    "             \n",
    "             [[12,13,14,15], \n",
    "              [16,17,18,19],\n",
    "              [20,21,22,23]]\n",
    "            ])\n",
    "C"
   ]
  },
  {
   "cell_type": "code",
   "execution_count": 62,
   "id": "bf3b5c1e",
   "metadata": {},
   "outputs": [
    {
     "data": {
      "text/plain": [
       "18"
      ]
     },
     "execution_count": 62,
     "metadata": {},
     "output_type": "execute_result"
    }
   ],
   "source": [
    "C[1,1,2]"
   ]
  },
  {
   "cell_type": "code",
   "execution_count": 63,
   "id": "36835573",
   "metadata": {},
   "outputs": [
    {
     "data": {
      "text/plain": [
       "array([[[ 7]],\n",
       "\n",
       "       [[19]]])"
      ]
     },
     "execution_count": 63,
     "metadata": {},
     "output_type": "execute_result"
    }
   ],
   "source": [
    "C[:,1:2,3:]"
   ]
  },
  {
   "cell_type": "code",
   "execution_count": 64,
   "id": "d77ad634",
   "metadata": {},
   "outputs": [
    {
     "data": {
      "text/plain": [
       "array([[[20, 21, 22, 23],\n",
       "        [16, 17, 18, 19],\n",
       "        [12, 13, 14, 15]],\n",
       "\n",
       "       [[ 8,  9, 10, 11],\n",
       "        [ 4,  5,  6,  7],\n",
       "        [ 1,  2,  3,  4]]])"
      ]
     },
     "execution_count": 64,
     "metadata": {},
     "output_type": "execute_result"
    }
   ],
   "source": [
    "C[::-1, ::-1]"
   ]
  },
  {
   "cell_type": "code",
   "execution_count": 65,
   "id": "3b76292b",
   "metadata": {},
   "outputs": [
    {
     "data": {
      "text/plain": [
       "array([[[23, 22, 21, 20],\n",
       "        [19, 18, 17, 16],\n",
       "        [15, 14, 13, 12]],\n",
       "\n",
       "       [[11, 10,  9,  8],\n",
       "        [ 7,  6,  5,  4],\n",
       "        [ 4,  3,  2,  1]]])"
      ]
     },
     "execution_count": 65,
     "metadata": {},
     "output_type": "execute_result"
    }
   ],
   "source": [
    "C[::-1, ::-1, ::-1]"
   ]
  },
  {
   "cell_type": "markdown",
   "id": "dfe2334d",
   "metadata": {
    "colab_type": "text",
    "id": "-RsXvUjBcU3K"
   },
   "source": [
    "## Copies vs Views\n",
    "\n",
    "- A slicing operation creates a __view__ of the original array, which is a way of accessing array data. \n",
    "- The original array is not copied in memory. \n",
    "- Therefore, any changes make on a sliced view, also changes the original array."
   ]
  },
  {
   "cell_type": "code",
   "execution_count": 66,
   "id": "b656af38",
   "metadata": {},
   "outputs": [
    {
     "data": {
      "text/plain": [
       "array([[ 2,  3,  4],\n",
       "       [12, 14, 15],\n",
       "       [ 9, 10,  6]])"
      ]
     },
     "execution_count": 66,
     "metadata": {},
     "output_type": "execute_result"
    }
   ],
   "source": [
    "B"
   ]
  },
  {
   "cell_type": "code",
   "execution_count": 67,
   "id": "561e29cf",
   "metadata": {
    "colab": {
     "base_uri": "https://localhost:8080/",
     "height": 54
    },
    "colab_type": "code",
    "id": "uPp_RGQab6sQ",
    "outputId": "93f21e9f-f0ec-4b97-d580-97de1e20ce30"
   },
   "outputs": [
    {
     "data": {
      "text/plain": [
       "array([ 3, 14])"
      ]
     },
     "execution_count": 67,
     "metadata": {},
     "output_type": "execute_result"
    }
   ],
   "source": [
    "c = B[:2,1]\n",
    "c"
   ]
  },
  {
   "cell_type": "code",
   "execution_count": 68,
   "id": "0ca03616",
   "metadata": {
    "colab": {
     "base_uri": "https://localhost:8080/",
     "height": 36
    },
    "colab_type": "code",
    "id": "2AeuUv5KuqGJ",
    "outputId": "6171564c-3c1b-4d6e-b311-365cb913adcf"
   },
   "outputs": [
    {
     "data": {
      "text/plain": [
       "array([[  2, 400,   4],\n",
       "       [ 12,  14,  15],\n",
       "       [  9,  10,   6]])"
      ]
     },
     "execution_count": 68,
     "metadata": {},
     "output_type": "execute_result"
    }
   ],
   "source": [
    "c[0] = 400 \n",
    "B"
   ]
  },
  {
   "cell_type": "markdown",
   "id": "f2dfe332",
   "metadata": {},
   "source": [
    "- If we do not want to change the original array when modified a slice of an array, `np.copy` method should be used. "
   ]
  },
  {
   "cell_type": "code",
   "execution_count": 69,
   "id": "c0bf8a10",
   "metadata": {
    "colab": {
     "base_uri": "https://localhost:8080/",
     "height": 36
    },
    "colab_type": "code",
    "id": "4IDX59BSYfrC",
    "outputId": "47a8d014-30fe-4da2-e52b-0826979a2346"
   },
   "outputs": [
    {
     "data": {
      "text/plain": [
       "array([[ 2,  3,  4],\n",
       "       [12, 14, 15],\n",
       "       [ 9, 10,  6]])"
      ]
     },
     "execution_count": 69,
     "metadata": {},
     "output_type": "execute_result"
    }
   ],
   "source": [
    "B = np.array([(2,3,4),\n",
    "              (12,14,15),\n",
    "              (9,10,6)])\n",
    "c = B[:2,1].copy()\n",
    "c[0] = 400\n",
    "B"
   ]
  },
  {
   "cell_type": "markdown",
   "id": "9b497534",
   "metadata": {},
   "source": [
    "## Broadcasting\n",
    "\n",
    "- An arithmetic operation between any two arrays is always performed element wise. \n",
    "    - Say _i_ is used to index array A and _j_ is used to index array B.\n",
    "    - When adding A and B, every _i_th element of A is added to the _j_th element of B. \n",
    "\n",
    "\n",
    "- However, when two arrays are of different sizes, not every _i_th element of one array will have a unique _j_th element to add to. \n",
    "\n",
    "\n",
    "- When two arrays are of different dimensions, they might have the same size but might not have it in the same dimensions. \n",
    "\n",
    "\n",
    "- In these cases, NumPy uses __broadcasting__ technique to perform arithmentic operation. So, it helps to know these rules: \n",
    "\n",
    "\n",
    "\n",
    "__Rule 1:__ If the two arrays differ in their number of dimensions, the shape of the one with fewer dimensions is padded with ones on its leading side."
   ]
  },
  {
   "cell_type": "code",
   "execution_count": 70,
   "id": "a7247ab4",
   "metadata": {
    "colab": {
     "base_uri": "https://localhost:8080/",
     "height": 36
    },
    "colab_type": "code",
    "id": "cOCynG-QYvkz",
    "outputId": "46236d89-5744-4b7c-89d4-8f4bde1b6de2"
   },
   "outputs": [
    {
     "data": {
      "text/plain": [
       "array([[2, 0, 1],\n",
       "       [2, 2, 0],\n",
       "       [1, 0, 1],\n",
       "       [1, 0, 3]])"
      ]
     },
     "execution_count": 70,
     "metadata": {},
     "output_type": "execute_result"
    }
   ],
   "source": [
    "array_4x3 = np.random.randint(4,size=(4,3))\n",
    "array_4x3"
   ]
  },
  {
   "cell_type": "code",
   "execution_count": 71,
   "id": "f408ebce",
   "metadata": {},
   "outputs": [
    {
     "data": {
      "text/plain": [
       "array([1, 2, 3])"
      ]
     },
     "execution_count": 71,
     "metadata": {},
     "output_type": "execute_result"
    }
   ],
   "source": [
    "array_3 = np.array([1,2,3])\n",
    "array_3 "
   ]
  },
  {
   "cell_type": "code",
   "execution_count": 72,
   "id": "2f22464f",
   "metadata": {},
   "outputs": [
    {
     "name": "stdout",
     "output_type": "stream",
     "text": [
      "ndim of array_4x3 is 2\n",
      "ndim of array_3 is   1\n"
     ]
    }
   ],
   "source": [
    "print('ndim of array_4x3 is', array_4x3.ndim)\n",
    "print('ndim of array_3 is  ', array_3.ndim)"
   ]
  },
  {
   "cell_type": "code",
   "execution_count": 73,
   "id": "2f2fedf8",
   "metadata": {},
   "outputs": [
    {
     "name": "stdout",
     "output_type": "stream",
     "text": [
      "shape of array_4x3 is (4, 3)\n",
      "shape of array_3 is   (3,)\n"
     ]
    }
   ],
   "source": [
    "print('shape of array_4x3 is', array_4x3.shape)\n",
    "print('shape of array_3 is  ', array_3.shape)"
   ]
  },
  {
   "cell_type": "markdown",
   "id": "b18e37c9",
   "metadata": {},
   "source": [
    "These two arrays have same dimension. However, if we align their shapes such that their trailing dimensions are aligned, i.e. \n",
    "- 4x3\n",
    "- <font color='white'> ... </font> 3\n",
    "\n",
    "we see that they have the same size on the aligned dimension. Thus, the one with fewer dimension can be padded to match the shape of one with leading dimension so that the operation is performed. "
   ]
  },
  {
   "cell_type": "code",
   "execution_count": 74,
   "id": "8a2a4234",
   "metadata": {},
   "outputs": [
    {
     "name": "stdout",
     "output_type": "stream",
     "text": [
      "[[3 2 4]\n",
      " [3 4 3]\n",
      " [2 2 4]\n",
      " [2 2 6]]\n",
      "-----------------\n",
      "[[2 0 3]\n",
      " [2 4 0]\n",
      " [1 0 3]\n",
      " [1 0 9]]\n"
     ]
    }
   ],
   "source": [
    "print(array_4x3+array_3)\n",
    "print(\"-----------------\")\n",
    "print(array_4x3*array_3)"
   ]
  },
  {
   "cell_type": "markdown",
   "id": "ad38a090",
   "metadata": {},
   "source": [
    "- In the following example the shapes of trailing dimension do not match and therefore, are not broadcast-compatible."
   ]
  },
  {
   "cell_type": "code",
   "execution_count": 75,
   "id": "80d3eebb",
   "metadata": {},
   "outputs": [
    {
     "name": "stdout",
     "output_type": "stream",
     "text": [
      "shape of ar_5x4x3 is (5, 4, 3)\n",
      "shape of ar_4x2 is      (4, 2)\n"
     ]
    }
   ],
   "source": [
    "ar_5x4x3 = np.random.randint(10,size=(5,4,3))\n",
    "ar_4x2 = np.random.randint(5,size=(4,2))\n",
    "print('shape of ar_5x4x3 is', ar_5x4x3.shape)\n",
    "print('shape of ar_4x2 is     ',ar_4x2.shape)"
   ]
  },
  {
   "cell_type": "code",
   "execution_count": 76,
   "id": "e0ddf74c",
   "metadata": {},
   "outputs": [
    {
     "name": "stdout",
     "output_type": "stream",
     "text": [
      "!!!Error:  operands could not be broadcast together with shapes (5,4,3) (4,2) \n",
      "--------------\n",
      "!!!Error:  operands could not be broadcast together with shapes (5,4,3) (4,2) \n"
     ]
    }
   ],
   "source": [
    "try:\n",
    "    print(ar_5x4x3+ar_4x2)\n",
    "except Exception as ex:\n",
    "    print(\"!!!Error: \", ex)\n",
    "print(\"--------------\")\n",
    "try:\n",
    "    print(ar_5x4x3*ar_4x2)\n",
    "except Exception as ex:\n",
    "    print(\"!!!Error: \", ex)"
   ]
  },
  {
   "cell_type": "markdown",
   "id": "43fc4118",
   "metadata": {},
   "source": [
    "__Rule 2:__ If the shape of the two arrays does not match in any dimension (like the case above), the array with shape equal to 1 in that dimension is stretched to match the other shape."
   ]
  },
  {
   "cell_type": "code",
   "execution_count": 77,
   "id": "7d8b9735",
   "metadata": {},
   "outputs": [
    {
     "name": "stdout",
     "output_type": "stream",
     "text": [
      "ndim of ar_4 is 2\n",
      "shape of ar_4 is (4, 1)\n"
     ]
    },
    {
     "data": {
      "text/plain": [
       "array([[3],\n",
       "       [7],\n",
       "       [1],\n",
       "       [3]])"
      ]
     },
     "execution_count": 77,
     "metadata": {},
     "output_type": "execute_result"
    }
   ],
   "source": [
    "ar_4 = np.random.randint(10,size=(4,1))\n",
    "print('ndim of ar_4 is', ar_4.ndim)\n",
    "print('shape of ar_4 is',ar_4.shape)\n",
    "ar_4"
   ]
  },
  {
   "cell_type": "code",
   "execution_count": 78,
   "id": "42a47d1e",
   "metadata": {},
   "outputs": [
    {
     "data": {
      "text/plain": [
       "array([[ 4,  5,  6],\n",
       "       [ 8,  9, 10],\n",
       "       [ 2,  3,  4],\n",
       "       [ 4,  5,  6]])"
      ]
     },
     "execution_count": 78,
     "metadata": {},
     "output_type": "execute_result"
    }
   ],
   "source": [
    "ar_4+array_3"
   ]
  },
  {
   "cell_type": "markdown",
   "id": "7686e14c",
   "metadata": {},
   "source": [
    "Here is another example of arithmetic operation between two arrays of differing dimensions with some dimensions having a shape of 1."
   ]
  },
  {
   "cell_type": "code",
   "execution_count": 79,
   "id": "e781534a",
   "metadata": {},
   "outputs": [
    {
     "name": "stdout",
     "output_type": "stream",
     "text": [
      "shape of P is     (5, 1, 4, 1)\n",
      "shape of Q is        (3, 1, 2)\n",
      "shape of PQsum is (5, 3, 4, 2)\n"
     ]
    }
   ],
   "source": [
    "P = np.random.randint(10,size=(5,1,4,1))\n",
    "Q = np.random.randint(10,size=(3,1,2))\n",
    "PQsum = P+Q\n",
    "\n",
    "print('shape of P is    ', P.shape)\n",
    "print('shape of Q is       ', Q.shape)\n",
    "print('shape of PQsum is', PQsum.shape)"
   ]
  },
  {
   "cell_type": "markdown",
   "id": "b860bc3f",
   "metadata": {
    "colab_type": "text",
    "id": "SJdz4F6fvh_R"
   },
   "source": [
    "To read more about broadcasting visit - https://www.pythonlikeyoumeanit.com/Module3_IntroducingNumpy/Broadcasting.html#A-Simple-Application-of-Array-Broadcasting\n",
    "\n",
    "## Iteration\n",
    "Broadcasting is useful but has limitations. While mostly faster,it is not so always. Other times, loops are the only option because broadcasting is not possible for the task. \n",
    "\n",
    "Timeseries data provide a good working example. Often when predicting a stock price for the next day, we have to use the information of stock price from previous days. In such case we have to index elements of the same array and perform some operation. If you want to create a simple model that predicts the price of stock today to be the average of the last 5 days price, we can write a for loop.\n",
    "\n",
    "Below is an example of how to calculate stock price predictions as a 5-point window average based on 100 stock prices."
   ]
  },
  {
   "cell_type": "code",
   "execution_count": 80,
   "id": "0a280336",
   "metadata": {
    "scrolled": true
   },
   "outputs": [
    {
     "name": "stdout",
     "output_type": "stream",
     "text": [
      "[0.59760478 0.71633572 0.61484024 0.53700892 0.37696342 0.29579634\n",
      " 0.22048961 0.2717744  0.33585744 0.34020351 0.41442515 0.36268028\n",
      " 0.37834509 0.48395457 0.59491633 0.52965817 0.48758251 0.33907302\n",
      " 0.26419842 0.19204747 0.24703801 0.41965425 0.4904984  0.55114045\n",
      " 0.59880953 0.62112194 0.60112288 0.6253171  0.49037219 0.47428755\n",
      " 0.46506971 0.37486285 0.36011672 0.43210663 0.39456034 0.3426192\n",
      " 0.34714739 0.28408429 0.22679366 0.22815377 0.19118897 0.31591748\n",
      " 0.37581923 0.46734687 0.48890936 0.66578469 0.48133926 0.42396446\n",
      " 0.36918817 0.30157251 0.1614322  0.19437779 0.2911169  0.38672772\n",
      " 0.49791795 0.49016025 0.62529867 0.54656635 0.41282858 0.39566538\n",
      " 0.43260679 0.39904327 0.40289055 0.52402087 0.53864648 0.64480408\n",
      " 0.58915796 0.70602025 0.62418276 0.70182642 0.63931412 0.60323506\n",
      " 0.59159483 0.60945809 0.58348991 0.47352707 0.45583267 0.37415457\n",
      " 0.43008141 0.38085541 0.44996963 0.42253585 0.54799428 0.4705846\n",
      " 0.51622031 0.61494844 0.7762078  0.58475354 0.68120731 0.63772223\n",
      " 0.49694146 0.44179368 0.49799752 0.36545539 0.2746009 ]\n"
     ]
    }
   ],
   "source": [
    "# create some stock price data \n",
    "stockprice = np.random.ranf(100)\n",
    "\n",
    "# metadata \n",
    "N = stockprice.shape[0]\n",
    "k = 5\n",
    "\n",
    "# initialize array to store stock predictions\n",
    "stockprediction = np.zeros(N-k)\n",
    "\n",
    "# fill in stock prediction array with predictions\n",
    "for i in range(N-k):\n",
    "    stockprediction[i] = stockprice[i:i+k].mean()\n",
    "    \n",
    "print(stockprediction)"
   ]
  },
  {
   "cell_type": "code",
   "execution_count": null,
   "id": "78e21e1f",
   "metadata": {},
   "outputs": [],
   "source": []
  }
 ],
 "metadata": {
  "kernelspec": {
   "display_name": "Python 3 (ipykernel)",
   "language": "python",
   "name": "python3"
  },
  "language_info": {
   "codemirror_mode": {
    "name": "ipython",
    "version": 3
   },
   "file_extension": ".py",
   "mimetype": "text/x-python",
   "name": "python",
   "nbconvert_exporter": "python",
   "pygments_lexer": "ipython3",
   "version": "3.11.4"
  },
  "toc": {
   "base_numbering": 1,
   "nav_menu": {},
   "number_sections": true,
   "sideBar": true,
   "skip_h1_title": false,
   "title_cell": "Table of Contents",
   "title_sidebar": "Contents",
   "toc_cell": false,
   "toc_position": {},
   "toc_section_display": true,
   "toc_window_display": true
  },
  "varInspector": {
   "cols": {
    "lenName": 16,
    "lenType": 16,
    "lenVar": 40
   },
   "kernels_config": {
    "python": {
     "delete_cmd_postfix": "",
     "delete_cmd_prefix": "del ",
     "library": "var_list.py",
     "varRefreshCmd": "print(var_dic_list())"
    },
    "r": {
     "delete_cmd_postfix": ") ",
     "delete_cmd_prefix": "rm(",
     "library": "var_list.r",
     "varRefreshCmd": "cat(var_dic_list()) "
    }
   },
   "types_to_exclude": [
    "module",
    "function",
    "builtin_function_or_method",
    "instance",
    "_Feature"
   ],
   "window_display": false
  }
 },
 "nbformat": 4,
 "nbformat_minor": 5
}
