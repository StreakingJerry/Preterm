{
 "cells": [
  {
   "cell_type": "markdown",
   "id": "f3d1bbcf",
   "metadata": {},
   "source": [
    "# Exercise 1 - Basic NumPy\n",
    "\n",
    "1. Create a 3x4 array filled with values from 0 to 11 \n",
    "2. Replace all odd numbers in the above array with -1"
   ]
  },
  {
   "cell_type": "markdown",
   "id": "9f46fee8",
   "metadata": {},
   "source": [
    "__Fill your code in the cell below and run it.__"
   ]
  },
  {
   "cell_type": "code",
   "execution_count": null,
   "id": "389db3d0",
   "metadata": {},
   "outputs": [],
   "source": [
    "import numpy as np\n",
    "\n",
    "'''create array named \"arr\" and print \"arr\" based on the instruction above'''\n",
    "\n",
    "arr =\n",
    "\n",
    "\n",
    "print(arr)"
   ]
  },
  {
   "cell_type": "markdown",
   "id": "738cdff0",
   "metadata": {},
   "source": [
    "# Exercise 2 - Root Mean Squared Error in NumPy\n"
   ]
  },
  {
   "cell_type": "markdown",
   "id": "1aa3b927",
   "metadata": {},
   "source": [
    "__Fill your code in the cell below__"
   ]
  },
  {
   "cell_type": "code",
   "execution_count": 58,
   "id": "8db2dfac",
   "metadata": {},
   "outputs": [],
   "source": [
    "import numpy as np\n",
    "\n",
    "def rmse(Y, Y_pred): \n",
    "    '''complete the function to calculate the RMSE'''\n",
    "    \n",
    "    \n",
    "    \n",
    "    "
   ]
  },
  {
   "cell_type": "markdown",
   "id": "a7f99d1b",
   "metadata": {},
   "source": [
    "__Run the testing cell below to check your code.__ "
   ]
  },
  {
   "cell_type": "code",
   "execution_count": null,
   "id": "1519384a",
   "metadata": {},
   "outputs": [],
   "source": [
    "Y = [12, 13, 14, 15, 15, 22, 27]\n",
    "Y_pred = [11, 13, 14, 14, 15, 16, 18]\n",
    "print(f'1. The RMSE is {rmse(Y, Y_pred)}' )\n",
    "\n",
    "Y = [5, 3, 14, 5, 1, 33, 7]\n",
    "Y_pred = [1, 8, 14, 4, 35, 36, 8]\n",
    "print(f'2. The RMSE is {rmse(Y, Y_pred)}' )\n",
    "\n",
    "Y = [5, 1, 14, 2, 1, 23, 7]\n",
    "Y_pred = [5.1, 1.1, 14.3, 2.2, 12.1, 21.6, 7.9]\n",
    "print(f'3. The RMSE is {rmse(Y, Y_pred)}' )"
   ]
  },
  {
   "cell_type": "markdown",
   "id": "273bf13b",
   "metadata": {},
   "source": [
    "# Exercise 3 - Simplified Inventory Management System\n",
    "\n",
    "__Descriptions:__\n",
    "Design a Python class called \"Inventory\" with attributes like \"item_id,\" \"item_name,\" \"stock_count,\" and \"price,\" and methods like \"add_new_item,\" \"update_existing_item,\" and \"check_item_details.\"\n",
    "\n",
    "Now, we want to add three types of items to our inventory:\n",
    "\n",
    "1. We add 10 \"Laptop\"s with the corresponding item_id \"I01\" and the price 600.0 to the inventory.\n",
    "1. We add 15 \"Mobile\"s with the corresponding item_id \"I02\" and the price 500.0 to the inventory.\n",
    "1. We add 12 \"Desktop\"s with the corresponding item_id \"I03\" and the price 650.0 to the inventory.\n",
    "\n",
    "Next, we call the \"inventory.check_item_details\" method to output the Product Name, Stock Count, and Price of the item based on its id. We print the item details of \"I01,\" \"I02,\" \"I03,\" and \"I04.\" Note that \"I04\" does not exist, so it will display \"Item not found in inventory.\"\n",
    "\n",
    "Finally, we call the \"inventory.update_existing_item\" method to update the Stock Count and Price for the existing items. We:\n",
    "\n",
    "1. Update the Stock Count and Price of \"I01\" to 13 and 595.0.\n",
    "1. Update the Stock Count and Price of \"I02\" to 18 and 510.0.\n",
    "1. Update the Stock Count and Price of \"I03\" to 16 and 680.0.\n",
    "1. Update the Stock Count and Price of \"I04\" to 15 and 500.0 (Note: \"I04\" does not exist, so it will show \"Item not found in inventory. CANNOT UPDATE!\"). \\\n",
    "After each update, we also check the item details.\n",
    "\n",
    "__Hints:__ Use a dictionary to store the item details, where the key is the item_id, and the value is a dictionary containing the item_name, stock_count, and price.\n",
    "\n",
    "\n",
    "__Expected Output for our testing cell:__\n",
    "\n",
    "Item Details:\\\n",
    "Check: Product Name: Laptop, Stock Count: 10, Price: 600.0 \\\n",
    "Check: Product Name: Mobile, Stock Count: 15, Price: 500.0 \\\n",
    "Check: Product Name: Desktop, Stock Count: 12, Price: 650.0 \\\n",
    "Item not found in inventory.\n",
    "\n",
    "Update the price of item code - 'I01': \\\n",
    "Check: Product Name: Laptop, Stock Count: 13, Price: 595.0\n",
    "\n",
    "Update the stock of item code - 'I02': \\\n",
    "Check: Product Name: Mobile, Stock Count: 18, Price: 510.0\n",
    "\n",
    "Update the stock of item code - 'I03': \\\n",
    "Check: Product Name: Desktop, Stock Count: 16, Price: 680.0\n",
    "\n",
    "Update the stock of item code - 'I04': \\\n",
    "Item not found in inventory. CANNOT UPDATE!\n"
   ]
  },
  {
   "cell_type": "markdown",
   "id": "36304ef1",
   "metadata": {},
   "source": [
    "__Fill your code in the cell below__"
   ]
  },
  {
   "cell_type": "code",
   "execution_count": 36,
   "id": "c22b2b39",
   "metadata": {},
   "outputs": [],
   "source": [
    "class Inventory:\n",
    "    def __init__(self):\n",
    "        self.inventory = {}\n",
    "        \n",
    "    def add_new_item(self, item_id, item_name, stock_count, price):\n",
    "        '''Add a new item to the inventory'''\n",
    "        \n",
    "        \n",
    "\n",
    "    def update_existing_item(self, item_id, stock_count, price):\n",
    "        '''Update the Stock Count and Price for the existing item with item_id'''\n",
    "        \n",
    "\n",
    "\n",
    "\n",
    "    def check_item_details(self, item_id):\n",
    "        '''Print the Product Name, Stock Count and Price of the item based on its id'''\n",
    "\n"
   ]
  },
  {
   "cell_type": "markdown",
   "id": "9808bf40",
   "metadata": {},
   "source": [
    "__Run the testing cell below to check your code.__ "
   ]
  },
  {
   "cell_type": "code",
   "execution_count": 40,
   "id": "655d2099",
   "metadata": {},
   "outputs": [
    {
     "name": "stdout",
     "output_type": "stream",
     "text": [
      "Item Details:\n",
      "Check: Product Name: Laptop, Stock Count: 10, Price: 600.0\n",
      "Check: Product Name: Mobile, Stock Count: 15, Price: 500.0\n",
      "Check: Product Name: Desktop, Stock Count: 12, Price: 650.0\n",
      "Item not found in inventory.\n",
      "\n",
      "Update the price of item code - 'I01':\n",
      "Check: Product Name: Laptop, Stock Count: 13, Price: 595.0\n",
      "\n",
      "Update the stock of item code - 'I02':\n",
      "Check: Product Name: Mobile, Stock Count: 18, Price: 510.0\n",
      "\n",
      "Update the stock of item code - 'I03':\n",
      "Check: Product Name: Desktop, Stock Count: 16, Price: 680.0\n",
      "\n",
      "Update the stock of item code - 'I04':\n",
      "Item not found in inventory. CANNOT UPDATE!\n"
     ]
    }
   ],
   "source": [
    "inventory = Inventory()\n",
    "\n",
    "inventory.add_new_item(\"I01\", \"Laptop\", 10, 600.0)\n",
    "inventory.add_new_item(\"I02\", \"Mobile\", 15, 500.0)\n",
    "inventory.add_new_item(\"I03\", \"Desktop\", 12, 650.0)\n",
    "\n",
    "print(\"Item Details:\")\n",
    "inventory.check_item_details(\"I01\")\n",
    "inventory.check_item_details(\"I02\")\n",
    "inventory.check_item_details(\"I03\")\n",
    "inventory.check_item_details(\"I04\")\n",
    "\n",
    "print(\"\\nUpdate the price of item code - 'I01':\")\n",
    "inventory.update_existing_item(\"I01\", 13, 595.0)\n",
    "inventory.check_item_details(\"I01\")\n",
    "\n",
    "print(\"\\nUpdate the stock of item code - 'I02':\")\n",
    "inventory.update_existing_item(\"I02\", 18, 510.0)\n",
    "inventory.check_item_details(\"I02\")\n",
    "\n",
    "print(\"\\nUpdate the stock of item code - 'I03':\")\n",
    "inventory.update_existing_item(\"I03\", 16, 680.0)\n",
    "inventory.check_item_details(\"I03\")\n",
    "\n",
    "print(\"\\nUpdate the stock of item code - 'I04':\")\n",
    "inventory.update_existing_item(\"I04\", 15, 500.0)\n"
   ]
  },
  {
   "cell_type": "code",
   "execution_count": null,
   "id": "2cca746d",
   "metadata": {},
   "outputs": [],
   "source": []
  }
 ],
 "metadata": {
  "kernelspec": {
   "display_name": "Python 3 (ipykernel)",
   "language": "python",
   "name": "python3"
  },
  "language_info": {
   "codemirror_mode": {
    "name": "ipython",
    "version": 3
   },
   "file_extension": ".py",
   "mimetype": "text/x-python",
   "name": "python",
   "nbconvert_exporter": "python",
   "pygments_lexer": "ipython3",
   "version": "3.7.11"
  },
  "toc": {
   "base_numbering": 1,
   "nav_menu": {},
   "number_sections": true,
   "sideBar": true,
   "skip_h1_title": false,
   "title_cell": "Table of Contents",
   "title_sidebar": "Contents",
   "toc_cell": false,
   "toc_position": {},
   "toc_section_display": true,
   "toc_window_display": true
  },
  "varInspector": {
   "cols": {
    "lenName": 16,
    "lenType": 16,
    "lenVar": 40
   },
   "kernels_config": {
    "python": {
     "delete_cmd_postfix": "",
     "delete_cmd_prefix": "del ",
     "library": "var_list.py",
     "varRefreshCmd": "print(var_dic_list())"
    },
    "r": {
     "delete_cmd_postfix": ") ",
     "delete_cmd_prefix": "rm(",
     "library": "var_list.r",
     "varRefreshCmd": "cat(var_dic_list()) "
    }
   },
   "types_to_exclude": [
    "module",
    "function",
    "builtin_function_or_method",
    "instance",
    "_Feature"
   ],
   "window_display": false
  }
 },
 "nbformat": 4,
 "nbformat_minor": 5
}
